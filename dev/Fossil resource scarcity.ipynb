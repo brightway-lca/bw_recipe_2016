{
 "cells": [
  {
   "cell_type": "code",
   "execution_count": 1,
   "metadata": {},
   "outputs": [],
   "source": [
    "from bw_recipe_2016 import (\n",
    "    FossilResourceScarcity,\n",
    "    get_biosphere_database, \n",
    "    extract_recipe,\n",
    ")"
   ]
  },
  {
   "cell_type": "code",
   "execution_count": 2,
   "metadata": {},
   "outputs": [],
   "source": [
    "data = extract_recipe()[20]"
   ]
  },
  {
   "cell_type": "code",
   "execution_count": 3,
   "metadata": {},
   "outputs": [],
   "source": [
    "biosphere = get_biosphere_database()"
   ]
  },
  {
   "cell_type": "code",
   "execution_count": 5,
   "metadata": {
    "collapsed": true
   },
   "outputs": [
    {
     "data": {
      "text/plain": [
       "['Actinium, in ground' (kilogram, None, ('natural resource', 'in ground')),\n",
       " 'Aluminium, 24% in bauxite, 11% in crude ore, in ground' (kilogram, None, ('natural resource', 'in ground')),\n",
       " 'Aluminium, in ground' (kilogram, None, ('natural resource', 'in ground')),\n",
       " 'Anhydrite, in ground' (kilogram, None, ('natural resource', 'in ground')),\n",
       " 'Antimony, in ground' (kilogram, None, ('natural resource', 'in ground')),\n",
       " 'Argon-40' (kilogram, None, ('natural resource', 'in air')),\n",
       " 'Arsenic, in ground' (kilogram, None, ('natural resource', 'in ground')),\n",
       " 'Astatine, in ground' (kilogram, None, ('natural resource', 'in ground')),\n",
       " 'Barite, 15% in crude ore, in ground' (kilogram, None, ('natural resource', 'in ground')),\n",
       " 'Barium, in ground' (kilogram, None, ('natural resource', 'in ground')),\n",
       " 'Basalt, in ground' (kilogram, None, ('natural resource', 'in ground')),\n",
       " 'Beryllium, in ground' (kilogram, None, ('natural resource', 'in ground')),\n",
       " 'Bismuth, in ground' (kilogram, None, ('natural resource', 'in ground')),\n",
       " 'Borax, in ground' (kilogram, None, ('natural resource', 'in ground')),\n",
       " 'Boron, in ground' (kilogram, None, ('natural resource', 'in ground')),\n",
       " 'Bromine, 0.23% in water' (kilogram, None, ('natural resource', 'in water')),\n",
       " 'Bromine, in water' (kilogram, None, ('natural resource', 'in water')),\n",
       " 'Cadmium, 0.30% in sulfide, Cd 0.18%, Pb, Zn, Ag, In, in ground' (kilogram, None, ('natural resource', 'in ground')),\n",
       " 'Cadmium, in ground' (kilogram, None, ('natural resource', 'in ground')),\n",
       " 'Caesium, in ground' (kilogram, None, ('natural resource', 'in ground')),\n",
       " 'Calcite, in ground' (kilogram, None, ('natural resource', 'in ground')),\n",
       " 'Calcium, in ground' (kilogram, None, ('natural resource', 'in ground')),\n",
       " 'Carbon dioxide, in air' (kilogram, None, ('natural resource', 'in air')),\n",
       " 'Carbon, organic, in soil or biomass stock' (kilogram, None, ('natural resource', 'in ground')),\n",
       " 'Carnallite' (kilogram, None, ('natural resource', 'in water')),\n",
       " 'Cerium, 24% in bastnasite, 2.4% in crude ore, in ground' (kilogram, None, ('natural resource', 'in ground')),\n",
       " 'Cerium, in ground' (kilogram, None, ('natural resource', 'in ground')),\n",
       " 'Chromium, 25.5% in chromite, 11.6% in crude ore, in ground' (kilogram, None, ('natural resource', 'in ground')),\n",
       " 'Chromium, in ground' (kilogram, None, ('natural resource', 'in ground')),\n",
       " 'Chrysotile, in ground' (kilogram, None, ('natural resource', 'in ground')),\n",
       " 'Cinnabar, in ground' (kilogram, None, ('natural resource', 'in ground')),\n",
       " 'Clay, bentonite, in ground' (kilogram, None, ('natural resource', 'in ground')),\n",
       " 'Clay, unspecified, in ground' (kilogram, None, ('natural resource', 'in ground')),\n",
       " 'Coal, brown, in ground' (kilogram, None, ('natural resource', 'in ground')),\n",
       " 'Coal, hard, unspecified, in ground' (kilogram, None, ('natural resource', 'in ground')),\n",
       " 'Cobalt, Co 5.0E-2%, in mixed ore, in ground' (kilogram, None, ('natural resource', 'in ground')),\n",
       " 'Cobalt, in ground' (kilogram, None, ('natural resource', 'in ground')),\n",
       " 'Colemanite, in ground' (kilogram, None, ('natural resource', 'in ground')),\n",
       " 'Copper, 0.52% in sulfide, Cu 0.27% and Mo 8.2E-3% in crude ore, in ground' (kilogram, None, ('natural resource', 'in ground')),\n",
       " 'Copper, 0.59% in sulfide, Cu 0.22% and Mo 8.2E-3% in crude ore, in ground' (kilogram, None, ('natural resource', 'in ground')),\n",
       " 'Copper, 0.97% in sulfide, Cu 0.36% and Mo 4.1E-2% in crude ore, in ground' (kilogram, None, ('natural resource', 'in ground')),\n",
       " 'Copper, 0.99% in sulfide, Cu 0.36% and Mo 8.2E-3% in crude ore, in ground' (kilogram, None, ('natural resource', 'in ground')),\n",
       " 'Copper, 1.13% in sulfide, Cu 0.76% and Ni 0.76% in crude ore, in ground' (kilogram, None, ('natural resource', 'in ground')),\n",
       " 'Copper, 1.18% in sulfide, Cu 0.39% and Mo 8.2E-3% in crude ore, in ground' (kilogram, None, ('natural resource', 'in ground')),\n",
       " 'Copper, 1.25% in sulfide, Cu 0.24% and Zn 0,1% in crude ore, in ground' (kilogram, None, ('natural resource', 'in ground')),\n",
       " 'Copper, 1.42% in sulfide, Cu 0.81% and Mo 8.2E-3% in crude ore, in ground' (kilogram, None, ('natural resource', 'in ground')),\n",
       " 'Copper, 2.19% in sulfide, Cu 1.83% and Mo 8.2E-3% in crude ore, in ground' (kilogram, None, ('natural resource', 'in ground')),\n",
       " 'Copper, Cu 0.2%, in mixed ore, in ground' (kilogram, None, ('natural resource', 'in ground')),\n",
       " 'Copper, Cu 0.38%, in mixed ore, in ground' (kilogram, None, ('natural resource', 'in ground')),\n",
       " 'Copper, Cu 6.8E-1%, in mixed ore, in ground' (kilogram, None, ('natural resource', 'in ground')),\n",
       " 'Copper, in ground' (kilogram, None, ('natural resource', 'in ground')),\n",
       " 'Cu, Cu 3.2E+0%, Pt 2.5E-4%, Pd 7.3E-4%, Rh 2.0E-5%, Ni 2.3E+0% in ore, in ground' (kilogram, None, ('natural resource', 'in ground')),\n",
       " 'Cu, Cu 5.2E-2%, Pt 4.8E-4%, Pd 2.0E-4%, Rh 2.4E-5%, Ni 3.7E-2% in ore, in ground' (kilogram, None, ('natural resource', 'in ground')),\n",
       " 'Diatomite, in ground' (kilogram, None, ('natural resource', 'in ground')),\n",
       " 'Dolomite, in ground' (kilogram, None, ('natural resource', 'in ground')),\n",
       " 'Dysprosium, in ground' (kilogram, None, ('natural resource', 'in ground')),\n",
       " 'Energy, geothermal, converted' (megajoule, None, ('natural resource', 'in ground')),\n",
       " 'Energy, gross calorific value, in biomass' (megajoule, None, ('natural resource', 'biotic')),\n",
       " 'Energy, gross calorific value, in biomass, primary forest' (megajoule, None, ('natural resource', 'biotic')),\n",
       " 'Energy, kinetic (in wind), converted' (megajoule, None, ('natural resource', 'in air')),\n",
       " 'Energy, potential (in hydropower reservoir), converted' (megajoule, None, ('natural resource', 'in water')),\n",
       " 'Energy, solar, converted' (megajoule, None, ('natural resource', 'in air')),\n",
       " 'Erbium, in ground' (kilogram, None, ('natural resource', 'in ground')),\n",
       " 'Europium, 0.06% in bastnasite, 0.006% in crude ore, in ground' (kilogram, None, ('natural resource', 'in ground')),\n",
       " 'Europium, in ground' (kilogram, None, ('natural resource', 'in ground')),\n",
       " 'Feldspar, in ground' (kilogram, None, ('natural resource', 'in ground')),\n",
       " 'Fish, demersal, in ocean' (kilogram, None, ('natural resource', 'in water')),\n",
       " 'Fish, pelagic, in ocean' (kilogram, None, ('natural resource', 'in water')),\n",
       " 'Fluorine, 4.5% in apatite, 1% in crude ore, in ground' (kilogram, None, ('natural resource', 'in ground')),\n",
       " 'Fluorine, 4.5% in apatite, 3% in crude ore, in ground' (kilogram, None, ('natural resource', 'in ground')),\n",
       " 'Fluorine, in ground' (kilogram, None, ('natural resource', 'in ground')),\n",
       " 'Fluorspar, 92%, in ground' (kilogram, None, ('natural resource', 'in ground')),\n",
       " 'Fluorspar, in ground' (kilogram, None, ('natural resource', 'in ground')),\n",
       " 'Gadolinium, 0.15% in bastnasite, 0.015% in crude ore, in ground' (kilogram, None, ('natural resource', 'in ground')),\n",
       " 'Gadolinium, in ground' (kilogram, None, ('natural resource', 'in ground')),\n",
       " 'Gallium, 0.014% in bauxite, in ground' (kilogram, None, ('natural resource', 'in ground')),\n",
       " 'Gallium, in ground' (kilogram, None, ('natural resource', 'in ground')),\n",
       " 'Gangue, bauxite, in ground' (kilogram, None, ('natural resource', 'in ground')),\n",
       " 'Gangue, in ground' (kilogram, None, ('natural resource', 'in ground')),\n",
       " 'Gas, mine, off-gas, process, coal mining' (cubic meter, None, ('natural resource', 'in ground')),\n",
       " 'Gas, natural, in ground' (cubic meter, None, ('natural resource', 'in ground')),\n",
       " 'Germanium, in ground' (kilogram, None, ('natural resource', 'in ground')),\n",
       " 'Gold, Au 1.0E-7%, in mixed ore, in ground' (kilogram, None, ('natural resource', 'in ground')),\n",
       " 'Gold, Au 1.1E-4%, Ag 4.2E-3%, in ore, in ground' (kilogram, None, ('natural resource', 'in ground')),\n",
       " 'Gold, Au 1.3E-4%, Ag 4.6E-5%, in ore, in ground' (kilogram, None, ('natural resource', 'in ground')),\n",
       " 'Gold, Au 1.4E-4%, in ore, in ground' (kilogram, None, ('natural resource', 'in ground')),\n",
       " 'Gold, Au 1.8E-4%, in mixed ore, in ground' (kilogram, None, ('natural resource', 'in ground')),\n",
       " 'Gold, Au 2.1E-4%, Ag 2.1E-4%, in ore, in ground' (kilogram, None, ('natural resource', 'in ground')),\n",
       " 'Gold, Au 4.3E-4%, in ore, in ground' (kilogram, None, ('natural resource', 'in ground')),\n",
       " 'Gold, Au 4.9E-5%, in ore, in ground' (kilogram, None, ('natural resource', 'in ground')),\n",
       " 'Gold, Au 5.4E-4%, Ag 1.5E-5%, in ore, in ground' (kilogram, None, ('natural resource', 'in ground')),\n",
       " 'Gold, Au 6.7E-4%, in ore, in ground' (kilogram, None, ('natural resource', 'in ground')),\n",
       " 'Gold, Au 6.8E-4%, Ag 1.5E-4%, in ore, in ground' (kilogram, None, ('natural resource', 'in ground')),\n",
       " 'Gold, Au 7.1E-4%, in ore, in ground' (kilogram, None, ('natural resource', 'in ground')),\n",
       " 'Gold, Au 9.7E-4%, in mixed ore, in ground' (kilogram, None, ('natural resource', 'in ground')),\n",
       " 'Gold, Au 9.7E-5%, Ag 7.6E-5%, in ore, in ground' (kilogram, None, ('natural resource', 'in ground')),\n",
       " 'Gold, in ground' (kilogram, None, ('natural resource', 'in ground')),\n",
       " 'Granite, in ground' (kilogram, None, ('natural resource', 'in ground')),\n",
       " 'Gravel, in ground' (kilogram, None, ('natural resource', 'in ground')),\n",
       " 'Gypsum, in ground' (kilogram, None, ('natural resource', 'in ground')),\n",
       " 'Hafnium, in ground' (kilogram, None, ('natural resource', 'in ground')),\n",
       " 'Helium, 0.08% in natural gas, in ground' (kilogram, None, ('natural resource', 'in ground')),\n",
       " 'Helium, in natural gas, in ground' (kilogram, None, ('natural resource', 'in ground')),\n",
       " 'Holmium, in ground' (kilogram, None, ('natural resource', 'in ground')),\n",
       " 'Indium, 0.005% in sulfide, In 0.003%, Pb, Zn, Ag, Cd, in ground' (kilogram, None, ('natural resource', 'in ground')),\n",
       " 'Indium, in ground' (kilogram, None, ('natural resource', 'in ground')),\n",
       " 'Iodine, 0.03% in water' (kilogram, None, ('natural resource', 'in water')),\n",
       " 'Iodine, in water' (kilogram, None, ('natural resource', 'in water')),\n",
       " 'Iridium, in ground' (kilogram, None, ('natural resource', 'in ground')),\n",
       " 'Iron, 46% in ore, 25% in crude ore, in ground' (kilogram, None, ('natural resource', 'in ground')),\n",
       " 'Iron, 72% in magnetite, 14% in crude ore, in ground' (kilogram, None, ('natural resource', 'in ground')),\n",
       " 'Iron, in ground' (kilogram, None, ('natural resource', 'in ground')),\n",
       " 'Kaolinite, 24% in crude ore, in ground' (kilogram, None, ('natural resource', 'in ground')),\n",
       " 'Kaolinite, in ground' (kilogram, None, ('natural resource', 'in ground')),\n",
       " 'Kieserite, 25% in crude ore, in ground' (kilogram, None, ('natural resource', 'in ground')),\n",
       " 'Kieserite, in ground' (kilogram, None, ('natural resource', 'in ground')),\n",
       " 'Krypton, in air' (kilogram, None, ('natural resource', 'in air')),\n",
       " 'Lanthanum, 7.2% in bastnasite, 0.72% in crude ore, in ground' (kilogram, None, ('natural resource', 'in ground')),\n",
       " 'Lanthanum, in ground' (kilogram, None, ('natural resource', 'in ground')),\n",
       " 'Laterite, in ground' (kilogram, None, ('natural resource', 'in ground')),\n",
       " 'Lead, 5.0% in sulfide, Pb 3.0%, Zn, Ag, Cd, In, in ground' (kilogram, None, ('natural resource', 'in ground')),\n",
       " 'Lead, Pb 0.014%, in mixed ore, in ground' (kilogram, None, ('natural resource', 'in ground')),\n",
       " 'Lead, Pb 3.6E-1%, in mixed ore, in ground' (kilogram, None, ('natural resource', 'in ground')),\n",
       " 'Lead, in ground' (kilogram, None, ('natural resource', 'in ground')),\n",
       " 'Lithium, 0.15% in brine, in ground' (kilogram, None, ('natural resource', 'in ground')),\n",
       " 'Lithium, in ground' (kilogram, None, ('natural resource', 'in ground')),\n",
       " 'Lutetium, in ground' (kilogram, None, ('natural resource', 'in ground')),\n",
       " 'Magnesite, 60% in crude ore, in ground' (kilogram, None, ('natural resource', 'in ground')),\n",
       " 'Magnesite, in ground' (kilogram, None, ('natural resource', 'in ground')),\n",
       " 'Magnesium, 0.13% in water' (kilogram, None, ('natural resource', 'in water')),\n",
       " 'Magnesium, in ground' (kilogram, None, ('natural resource', 'in ground')),\n",
       " 'Magnesium, in water' (kilogram, None, ('natural resource', 'in water')),\n",
       " 'Manganese, 35.7% in sedimentary deposit, 14.2% in crude ore, in ground' (kilogram, None, ('natural resource', 'in ground')),\n",
       " 'Manganese, in ground' (kilogram, None, ('natural resource', 'in ground')),\n",
       " 'Mercury, in ground' (kilogram, None, ('natural resource', 'in ground')),\n",
       " 'Metamorphous rock, graphite containing, in ground' (kilogram, None, ('natural resource', 'in ground')),\n",
       " 'Molybdenum, 0.010% in sulfide, Mo 8.2E-3% and Cu 1.83% in crude ore, in ground' (kilogram, None, ('natural resource', 'in ground')),\n",
       " 'Molybdenum, 0.014% in sulfide, Mo 8.2E-3% and Cu 0.81% in crude ore, in ground' (kilogram, None, ('natural resource', 'in ground')),\n",
       " 'Molybdenum, 0.016% in sulfide, Mo 8.2E-3% and Cu 0.27% in crude ore, in ground' (kilogram, None, ('natural resource', 'in ground')),\n",
       " 'Molybdenum, 0.022% in sulfide, Mo 8.2E-3% and Cu 0.22% in crude ore, in ground' (kilogram, None, ('natural resource', 'in ground')),\n",
       " 'Molybdenum, 0.022% in sulfide, Mo 8.2E-3% and Cu 0.36% in crude ore, in ground' (kilogram, None, ('natural resource', 'in ground')),\n",
       " 'Molybdenum, 0.025% in sulfide, Mo 8.2E-3% and Cu 0.39% in crude ore, in ground' (kilogram, None, ('natural resource', 'in ground')),\n",
       " 'Molybdenum, 0.11% in sulfide, Mo 4.1E-2% and Cu 0.36% in crude ore, in ground' (kilogram, None, ('natural resource', 'in ground')),\n",
       " 'Molybdenum, in ground' (kilogram, None, ('natural resource', 'in ground')),\n",
       " 'Neodymium, 4% in bastnasite, 0.4% in crude ore, in ground' (kilogram, None, ('natural resource', 'in ground')),\n",
       " 'Neodymium, in ground' (kilogram, None, ('natural resource', 'in ground')),\n",
       " 'Ni, Ni 2.3E+0%, Pt 2.5E-4%, Pd 7.3E-4%, Rh 2.0E-5%, Cu 3.2E+0% in ore, in ground' (kilogram, None, ('natural resource', 'in ground')),\n",
       " 'Ni, Ni 3.7E-2%, Pt 4.8E-4%, Pd 2.0E-4%, Rh 2.4E-5%, Cu 5.2E-2% in ore, in ground' (kilogram, None, ('natural resource', 'in ground')),\n",
       " 'Nickel, 1.13% in sulfide, Ni 0.76% and Cu 0.76% in crude ore, in ground' (kilogram, None, ('natural resource', 'in ground')),\n",
       " 'Nickel, 1.98% in silicates, 1.04% in crude ore, in ground' (kilogram, None, ('natural resource', 'in ground')),\n",
       " 'Nickel, Ni 2.5E+0%, in mixed ore, in ground' (kilogram, None, ('natural resource', 'in ground')),\n",
       " 'Nickel, in ground' (kilogram, None, ('natural resource', 'in ground')),\n",
       " 'Niobium, in ground' (kilogram, None, ('natural resource', 'in ground')),\n",
       " 'Nitrogen' (kilogram, None, ('natural resource', 'in air')),\n",
       " 'Occupation, annual crop' (square meter-year, None, ('natural resource', 'land')),\n",
       " 'Occupation, annual crop, flooded crop' (square meter-year, None, ('natural resource', 'land')),\n",
       " 'Occupation, annual crop, greenhouse' (square meter-year, None, ('natural resource', 'land')),\n",
       " 'Occupation, annual crop, irrigated' (square meter-year, None, ('natural resource', 'land')),\n",
       " 'Occupation, annual crop, irrigated, extensive' (square meter-year, None, ('natural resource', 'land')),\n",
       " 'Occupation, annual crop, irrigated, intensive' (square meter-year, None, ('natural resource', 'land')),\n",
       " 'Occupation, annual crop, non-irrigated' (square meter-year, None, ('natural resource', 'land')),\n",
       " 'Occupation, annual crop, non-irrigated, extensive' (square meter-year, None, ('natural resource', 'land')),\n",
       " 'Occupation, annual crop, non-irrigated, intensive' (square meter-year, None, ('natural resource', 'land')),\n",
       " 'Occupation, arable land, unspecified use' (square meter-year, None, ('natural resource', 'land')),\n",
       " 'Occupation, arable, conservation tillage (obsolete)' (square meter, None, ('natural resource', 'land')),\n",
       " 'Occupation, arable, conventional tillage (obsolete)' (square meter, None, ('natural resource', 'land')),\n",
       " 'Occupation, arable, reduced tillage (obsolete)' (square meter, None, ('natural resource', 'land')),\n",
       " 'Occupation, bare area (non-use)' (square meter-year, None, ('natural resource', 'land')),\n",
       " 'Occupation, construction site' (square meter-year, None, ('natural resource', 'land')),\n",
       " 'Occupation, cropland fallow (non-use)' (square meter-year, None, ('natural resource', 'land')),\n",
       " 'Occupation, dump site' (square meter-year, None, ('natural resource', 'land')),\n",
       " 'Occupation, field margin/hedgerow' (square meter-year, None, ('natural resource', 'land')),\n",
       " 'Occupation, forest, extensive' (square meter-year, None, ('natural resource', 'land')),\n",
       " 'Occupation, forest, intensive' (square meter-year, None, ('natural resource', 'land')),\n",
       " 'Occupation, forest, primary (non-use)' (square meter-year, None, ('natural resource', 'land')),\n",
       " 'Occupation, forest, secondary (non-use)' (square meter-year, None, ('natural resource', 'land')),\n",
       " 'Occupation, forest, unspecified' (square meter-year, None, ('natural resource', 'land')),\n",
       " 'Occupation, grassland, natural (non-use)' (square meter-year, None, ('natural resource', 'land')),\n",
       " 'Occupation, grassland, natural, for livestock grazing' (square meter-year, None, ('natural resource', 'land')),\n",
       " 'Occupation, heterogeneous, agricultural' (square meter-year, None, ('natural resource', 'land')),\n",
       " 'Occupation, industrial area' (square meter-year, None, ('natural resource', 'land')),\n",
       " 'Occupation, inland waterbody, unspecified' (square meter-year, None, ('natural resource', 'land')),\n",
       " 'Occupation, lake, artificial' (square meter-year, None, ('natural resource', 'land')),\n",
       " 'Occupation, lake, natural (non-use)' (square meter-year, None, ('natural resource', 'land')),\n",
       " 'Occupation, mineral extraction site' (square meter-year, None, ('natural resource', 'land')),\n",
       " 'Occupation, pasture, man made' (square meter-year, None, ('natural resource', 'land')),\n",
       " 'Occupation, pasture, man made, extensive' (square meter-year, None, ('natural resource', 'land')),\n",
       " 'Occupation, pasture, man made, intensive' (square meter-year, None, ('natural resource', 'land')),\n",
       " 'Occupation, permanent crop' (square meter-year, None, ('natural resource', 'land')),\n",
       " 'Occupation, permanent crop, irrigated' (square meter-year, None, ('natural resource', 'land')),\n",
       " 'Occupation, permanent crop, irrigated, extensive' (square meter-year, None, ('natural resource', 'land')),\n",
       " 'Occupation, permanent crop, irrigated, intensive' (square meter-year, None, ('natural resource', 'land')),\n",
       " 'Occupation, permanent crop, non-irrigated' (square meter-year, None, ('natural resource', 'land')),\n",
       " 'Occupation, permanent crop, non-irrigated, extensive' (square meter-year, None, ('natural resource', 'land')),\n",
       " 'Occupation, permanent crop, non-irrigated, intensive' (square meter-year, None, ('natural resource', 'land')),\n",
       " 'Occupation, river, artificial' (square meter-year, None, ('natural resource', 'land')),\n",
       " 'Occupation, river, natural (non-use)' (square meter-year, None, ('natural resource', 'land')),\n",
       " 'Occupation, seabed, drilling and mining' (square meter-year, None, ('natural resource', 'land')),\n",
       " 'Occupation, seabed, infrastructure' (square meter-year, None, ('natural resource', 'land')),\n",
       " 'Occupation, seabed, natural (non-use)' (square meter-year, None, ('natural resource', 'land')),\n",
       " 'Occupation, seabed, unspecified' (square meter-year, None, ('natural resource', 'land')),\n",
       " 'Occupation, shrub land, sclerophyllous' (square meter-year, None, ('natural resource', 'land')),\n",
       " 'Occupation, snow and ice (non-use)' (square meter-year, None, ('natural resource', 'land')),\n",
       " 'Occupation, traffic area, rail network' (square meter-year, None, ('natural resource', 'land')),\n",
       " 'Occupation, traffic area, rail/road embankment' (square meter-year, None, ('natural resource', 'land')),\n",
       " 'Occupation, traffic area, road network' (square meter-year, None, ('natural resource', 'land')),\n",
       " 'Occupation, unspecified' (square meter-year, None, ('natural resource', 'land')),\n",
       " 'Occupation, unspecified, natural (non-use)' (square meter-year, None, ('natural resource', 'land')),\n",
       " 'Occupation, urban, continuously built' (square meter-year, None, ('natural resource', 'land')),\n",
       " 'Occupation, urban, discontinuously built' (square meter-year, None, ('natural resource', 'land')),\n",
       " 'Occupation, urban, green area' (square meter-year, None, ('natural resource', 'land')),\n",
       " 'Occupation, urban/industrial fallow (non-use)' (square meter-year, None, ('natural resource', 'land')),\n",
       " 'Occupation, wetland, coastal (non-use)' (square meter-year, None, ('natural resource', 'land')),\n",
       " 'Occupation, wetland, inland (non-use)' (square meter-year, None, ('natural resource', 'land')),\n",
       " 'Oil, crude, in ground' (kilogram, None, ('natural resource', 'in ground')),\n",
       " 'Olivine, in ground' (kilogram, None, ('natural resource', 'in ground')),\n",
       " 'Osmium, in ground' (kilogram, None, ('natural resource', 'in ground')),\n",
       " 'Oxygen' (kilogram, None, ('natural resource', 'in air')),\n",
       " 'Palladium, Pd 1.6E-6%, in mixed ore, in ground' (kilogram, None, ('natural resource', 'in ground')),\n",
       " 'Palladium, in ground' (kilogram, None, ('natural resource', 'in ground')),\n",
       " 'Pd, Pd 2.0E-4%, Pt 4.8E-4%, Rh 2.4E-5%, Ni 3.7E-2%, Cu 5.2E-2% in ore, in ground' (kilogram, None, ('natural resource', 'in ground')),\n",
       " 'Pd, Pd 7.3E-4%, Pt 2.5E-4%, Rh 2.0E-5%, Ni 2.3E+0%, Cu 3.2E+0% in ore, in ground' (kilogram, None, ('natural resource', 'in ground')),\n",
       " 'Peat, in ground' (kilogram, None, ('natural resource', 'biotic')),\n",
       " 'Perlite, in ground' (kilogram, None, ('natural resource', 'in ground')),\n",
       " 'Phosphorus, 18% in apatite, 12% in crude ore, in ground' (kilogram, None, ('natural resource', 'in ground')),\n",
       " 'Phosphorus, 18% in apatite, 4% in crude ore, in ground' (kilogram, None, ('natural resource', 'in ground')),\n",
       " 'Phosphorus, in ground' (kilogram, None, ('natural resource', 'in ground')),\n",
       " 'Platinum, Pt 4.7E-7%, in mixed ore, in ground' (kilogram, None, ('natural resource', 'in ground')),\n",
       " 'Platinum, in ground' (kilogram, None, ('natural resource', 'in ground')),\n",
       " 'Polonium, in ground' (kilogram, None, ('natural resource', 'in ground')),\n",
       " 'Potassium, in ground' (kilogram, None, ('natural resource', 'in ground')),\n",
       " 'Praseodymium, 0.42% in bastnasite, 0.042% in crude ore, in ground' (kilogram, None, ('natural resource', 'in ground')),\n",
       " 'Praseodymium, in ground' (kilogram, None, ('natural resource', 'in ground')),\n",
       " 'Protactinium, in ground' (kilogram, None, ('natural resource', 'in ground')),\n",
       " 'Pt, Pt 2.5E-4%, Pd 7.3E-4%, Rh 2.0E-5%, Ni 2.3E+0%, Cu 3.2E+0% in ore, in ground' (kilogram, None, ('natural resource', 'in ground')),\n",
       " 'Pt, Pt 4.8E-4%, Pd 2.0E-4%, Rh 2.4E-5%, Ni 3.7E-2%, Cu 5.2E-2% in ore, in ground' (kilogram, None, ('natural resource', 'in ground')),\n",
       " 'Pumice, in ground' (kilogram, None, ('natural resource', 'in ground')),\n",
       " 'Pyrite, in ground' (kilogram, None, ('natural resource', 'in ground')),\n",
       " 'Pyrolusite, in ground' (kilogram, None, ('natural resource', 'in ground')),\n",
       " 'Radium, in ground' (kilogram, None, ('natural resource', 'in ground')),\n",
       " 'Rh, Rh 2.0E-5%, Pt 2.5E-4%, Pd 7.3E-4%, Ni 2.3E+0%, Cu 3.2E+0% in ore, in ground' (kilogram, None, ('natural resource', 'in ground')),\n",
       " 'Rh, Rh 2.4E-5%, Pt 4.8E-4%, Pd 2.0E-4%, Ni 3.7E-2%, Cu 5.2E-2% in ore, in ground' (kilogram, None, ('natural resource', 'in ground')),\n",
       " 'Rhenium, in crude ore, in ground' (kilogram, None, ('natural resource', 'in ground')),\n",
       " 'Rhenium, in ground' (kilogram, None, ('natural resource', 'in ground')),\n",
       " 'Rhodium, Rh 1.6E-7%, in mixed ore, in ground' (kilogram, None, ('natural resource', 'in ground')),\n",
       " 'Rhodium, in ground' (kilogram, None, ('natural resource', 'in ground')),\n",
       " 'Rubidium, in ground' (kilogram, None, ('natural resource', 'in ground')),\n",
       " 'Ruthenium, in ground' (kilogram, None, ('natural resource', 'in ground')),\n",
       " 'Samarium, 0.3% in bastnasite, 0.03% in crude ore, in ground' (kilogram, None, ('natural resource', 'in ground')),\n",
       " 'Samarium, in ground' (kilogram, None, ('natural resource', 'in ground')),\n",
       " 'Sand, unspecified, in ground' (kilogram, None, ('natural resource', 'in ground')),\n",
       " 'Scandium, in ground' (kilogram, None, ('natural resource', 'in ground')),\n",
       " 'Selenium, in ground' (kilogram, None, ('natural resource', 'in ground')),\n",
       " 'Shale, in ground' (kilogram, None, ('natural resource', 'in ground')),\n",
       " 'Silicon, in ground' (kilogram, None, ('natural resource', 'in ground')),\n",
       " 'Silver, 0.007% in sulfide, Ag 0.004%, Pb, Zn, Cd, In, in ground' (kilogram, None, ('natural resource', 'in ground')),\n",
       " 'Silver, 0.01% in crude ore, in ground' (kilogram, None, ('natural resource', 'in ground')),\n",
       " 'Silver, 3.2ppm in sulfide, Ag 1.2ppm, Cu and Te, in crude ore, in ground' (kilogram, None, ('natural resource', 'in ground')),\n",
       " 'Silver, Ag 1.5E-4%, Au 6.8E-4%, in ore, in ground' (kilogram, None, ('natural resource', 'in ground')),\n",
       " 'Silver, Ag 1.5E-5%, Au 5.4E-4%, in ore, in ground' (kilogram, None, ('natural resource', 'in ground')),\n",
       " 'Silver, Ag 1.8E-6%, in mixed ore, in ground' (kilogram, None, ('natural resource', 'in ground')),\n",
       " 'Silver, Ag 2.1E-4%, Au 2.1E-4%, in ore, in ground' (kilogram, None, ('natural resource', 'in ground')),\n",
       " 'Silver, Ag 4.2E-3%, Au 1.1E-4%, in ore, in ground' (kilogram, None, ('natural resource', 'in ground')),\n",
       " 'Silver, Ag 4.6E-5%, Au 1.3E-4%, in ore, in ground' (kilogram, None, ('natural resource', 'in ground')),\n",
       " 'Silver, Ag 5.4E-3%, in mixed ore, in ground' (kilogram, None, ('natural resource', 'in ground')),\n",
       " 'Silver, Ag 7.6E-5%, Au 9.7E-5%, in ore, in ground' (kilogram, None, ('natural resource', 'in ground')),\n",
       " 'Silver, Ag 9.7E-4%, in mixed ore, in ground' (kilogram, None, ('natural resource', 'in ground')),\n",
       " 'Silver, in ground' (kilogram, None, ('natural resource', 'in ground')),\n",
       " 'Sodium chloride, in ground' (kilogram, None, ('natural resource', 'in ground')),\n",
       " 'Sodium nitrate, in ground' (kilogram, None, ('natural resource', 'in ground')),\n",
       " 'Sodium sulphate, various forms, in ground' (kilogram, None, ('natural resource', 'in ground')),\n",
       " 'Sodium, in ground' (kilogram, None, ('natural resource', 'in ground')),\n",
       " 'Spodumene, in ground' (kilogram, None, ('natural resource', 'in ground')),\n",
       " 'Steatite, in ground' (kilogram, None, ('natural resource', 'in ground')),\n",
       " 'Stibnite, in ground' (kilogram, None, ('natural resource', 'in ground')),\n",
       " 'Strontium, in ground' (kilogram, None, ('natural resource', 'in ground')),\n",
       " 'Sulfur, in ground' (kilogram, None, ('natural resource', 'in ground')),\n",
       " 'Sylvite, 25 % in sylvinite, in ground' (kilogram, None, ('natural resource', 'in ground')),\n",
       " 'Sylvite, in ground' (kilogram, None, ('natural resource', 'in ground')),\n",
       " 'Talc, in ground' (kilogram, None, ('natural resource', 'in ground')),\n",
       " 'Tantalum, 81.9% in tantalite, 1.6E-4% in crude ore, in ground' (kilogram, None, ('natural resource', 'in ground')),\n",
       " 'Tantalum, in ground' (kilogram, None, ('natural resource', 'in ground')),\n",
       " 'Tellurium, 0.5ppm in sulfide, Te 0.2ppm, Cu and Ag, in crude ore, in ground' (kilogram, None, ('natural resource', 'in ground')),\n",
       " 'Tellurium, in ground' (kilogram, None, ('natural resource', 'in ground')),\n",
       " 'Terbium, in ground' (kilogram, None, ('natural resource', 'in ground')),\n",
       " 'Thallium, in ground' (kilogram, None, ('natural resource', 'in ground')),\n",
       " 'Thorium, in ground' (kilogram, None, ('natural resource', 'in ground')),\n",
       " 'Thulium, in ground' (kilogram, None, ('natural resource', 'in ground')),\n",
       " 'TiO2, 54% in ilmenite, 18% in crude ore, in ground' (kilogram, None, ('natural resource', 'in ground')),\n",
       " 'TiO2, 54% in ilmenite, 2.6% in crude ore, in ground' (kilogram, None, ('natural resource', 'in ground')),\n",
       " 'TiO2, 95% in rutile, 0.40% in crude ore, in ground' (kilogram, None, ('natural resource', 'in ground')),\n",
       " 'Tin, 79% in cassiterite, 0.1% in crude ore, in ground' (kilogram, None, ('natural resource', 'in ground')),\n",
       " 'Tin, in ground' (kilogram, None, ('natural resource', 'in ground')),\n",
       " 'Titanium, in ground' (kilogram, None, ('natural resource', 'in ground')),\n",
       " 'Transformation, from annual crop' (square meter, None, ('natural resource', 'land')),\n",
       " 'Transformation, from annual crop, flooded crop' (square meter, None, ('natural resource', 'land')),\n",
       " 'Transformation, from annual crop, greenhouse' (square meter, None, ('natural resource', 'land')),\n",
       " 'Transformation, from annual crop, irrigated' (square meter, None, ('natural resource', 'land')),\n",
       " 'Transformation, from annual crop, irrigated, extensive' (square meter, None, ('natural resource', 'land')),\n",
       " 'Transformation, from annual crop, irrigated, intensive' (square meter, None, ('natural resource', 'land')),\n",
       " 'Transformation, from annual crop, non-irrigated' (square meter, None, ('natural resource', 'land')),\n",
       " 'Transformation, from annual crop, non-irrigated, extensive' (square meter, None, ('natural resource', 'land')),\n",
       " 'Transformation, from annual crop, non-irrigated, intensive' (square meter, None, ('natural resource', 'land')),\n",
       " 'Transformation, from arable land, unspecified use' (square meter, None, ('natural resource', 'land')),\n",
       " 'Transformation, from bare area (non-use)' (square meter, None, ('natural resource', 'land')),\n",
       " 'Transformation, from cropland fallow (non-use)' (square meter, None, ('natural resource', 'land')),\n",
       " 'Transformation, from dump site' (square meter, None, ('natural resource', 'land')),\n",
       " 'Transformation, from dump site, inert material landfill' (square meter, None, ('natural resource', 'land')),\n",
       " 'Transformation, from dump site, residual material landfill' (square meter, None, ('natural resource', 'land')),\n",
       " 'Transformation, from dump site, sanitary landfill' (square meter, None, ('natural resource', 'land')),\n",
       " 'Transformation, from dump site, slag compartment' (square meter, None, ('natural resource', 'land')),\n",
       " 'Transformation, from field margin/hedgerow' (square meter, None, ('natural resource', 'land')),\n",
       " 'Transformation, from forest, extensive' (square meter, None, ('natural resource', 'land')),\n",
       " 'Transformation, from forest, intensive' (square meter, None, ('natural resource', 'land')),\n",
       " 'Transformation, from forest, primary (non-use)' (square meter, None, ('natural resource', 'land')),\n",
       " 'Transformation, from forest, secondary (non-use)' (square meter, None, ('natural resource', 'land')),\n",
       " 'Transformation, from forest, unspecified' (square meter, None, ('natural resource', 'land')),\n",
       " 'Transformation, from grassland, natural (non-use)' (square meter, None, ('natural resource', 'land')),\n",
       " 'Transformation, from grassland, natural, for livestock grazing' (square meter, None, ('natural resource', 'land')),\n",
       " 'Transformation, from heterogeneous, agricultural' (square meter, None, ('natural resource', 'land')),\n",
       " 'Transformation, from industrial area' (square meter, None, ('natural resource', 'land')),\n",
       " 'Transformation, from inland waterbody, unspecified' (square meter, None, ('natural resource', 'land')),\n",
       " 'Transformation, from lake, artificial' (square meter, None, ('natural resource', 'land')),\n",
       " 'Transformation, from lake, natural (non-use)' (square meter, None, ('natural resource', 'land')),\n",
       " 'Transformation, from mineral extraction site' (square meter, None, ('natural resource', 'land')),\n",
       " 'Transformation, from pasture, man made' (square meter, None, ('natural resource', 'land')),\n",
       " 'Transformation, from pasture, man made, extensive' (square meter, None, ('natural resource', 'land')),\n",
       " 'Transformation, from pasture, man made, intensive' (square meter, None, ('natural resource', 'land')),\n",
       " 'Transformation, from permanent crop' (square meter, None, ('natural resource', 'land')),\n",
       " 'Transformation, from permanent crop, irrigated' (square meter, None, ('natural resource', 'land')),\n",
       " 'Transformation, from permanent crop, irrigated, extensive' (square meter, None, ('natural resource', 'land')),\n",
       " 'Transformation, from permanent crop, irrigated, intensive' (square meter, None, ('natural resource', 'land')),\n",
       " 'Transformation, from permanent crop, non-irrigated' (square meter, None, ('natural resource', 'land')),\n",
       " 'Transformation, from permanent crop, non-irrigated, extensive' (square meter, None, ('natural resource', 'land')),\n",
       " 'Transformation, from permanent crop, non-irrigated, intensive' (square meter, None, ('natural resource', 'land')),\n",
       " 'Transformation, from river, artificial' (square meter, None, ('natural resource', 'land')),\n",
       " 'Transformation, from river, natural (non-use)' (square meter, None, ('natural resource', 'land')),\n",
       " 'Transformation, from seabed, drilling and mining' (square meter, None, ('natural resource', 'land')),\n",
       " 'Transformation, from seabed, infrastructure' (square meter, None, ('natural resource', 'land')),\n",
       " 'Transformation, from seabed, natural (non-use)' (square meter, None, ('natural resource', 'land')),\n",
       " 'Transformation, from seabed, unspecified' (square meter, None, ('natural resource', 'land')),\n",
       " 'Transformation, from shrub land, sclerophyllous' (square meter, None, ('natural resource', 'land')),\n",
       " 'Transformation, from snow and ice (non-use)' (square meter, None, ('natural resource', 'land')),\n",
       " 'Transformation, from traffic area, rail network' (square meter, None, ('natural resource', 'land')),\n",
       " 'Transformation, from traffic area, rail/road embankment' (square meter, None, ('natural resource', 'land')),\n",
       " 'Transformation, from traffic area, road network' (square meter, None, ('natural resource', 'land')),\n",
       " 'Transformation, from unknown' (square meter, None, ('natural resource', 'land')),\n",
       " 'Transformation, from unspecified' (square meter, None, ('natural resource', 'land')),\n",
       " 'Transformation, from unspecified, natural (non-use)' (square meter, None, ('natural resource', 'land')),\n",
       " 'Transformation, from urban, continuously built' (square meter, None, ('natural resource', 'land')),\n",
       " 'Transformation, from urban, discontinuously built' (square meter, None, ('natural resource', 'land')),\n",
       " 'Transformation, from urban, green area' (square meter, None, ('natural resource', 'land')),\n",
       " 'Transformation, from urban/industrial fallow (non-use)' (square meter, None, ('natural resource', 'land')),\n",
       " 'Transformation, from wetland, coastal (non-use)' (square meter, None, ('natural resource', 'land')),\n",
       " 'Transformation, from wetland, inland (non-use)' (square meter, None, ('natural resource', 'land')),\n",
       " 'Transformation, to annual crop' (square meter, None, ('natural resource', 'land')),\n",
       " 'Transformation, to annual crop, flooded crop' (square meter, None, ('natural resource', 'land')),\n",
       " 'Transformation, to annual crop, greenhouse' (square meter, None, ('natural resource', 'land')),\n",
       " 'Transformation, to annual crop, irrigated' (square meter, None, ('natural resource', 'land')),\n",
       " 'Transformation, to annual crop, irrigated, extensive' (square meter, None, ('natural resource', 'land')),\n",
       " 'Transformation, to annual crop, irrigated, intensive' (square meter, None, ('natural resource', 'land')),\n",
       " 'Transformation, to annual crop, non-irrigated' (square meter, None, ('natural resource', 'land')),\n",
       " 'Transformation, to annual crop, non-irrigated, extensive' (square meter, None, ('natural resource', 'land')),\n",
       " 'Transformation, to annual crop, non-irrigated, intensive' (square meter, None, ('natural resource', 'land')),\n",
       " 'Transformation, to arable land, unspecified use' (square meter, None, ('natural resource', 'land')),\n",
       " 'Transformation, to bare area (non-use)' (square meter, None, ('natural resource', 'land')),\n",
       " 'Transformation, to cropland fallow (non-use)' (square meter, None, ('natural resource', 'land')),\n",
       " 'Transformation, to dump site' (square meter, None, ('natural resource', 'land')),\n",
       " 'Transformation, to dump site, inert material landfill' (square meter, None, ('natural resource', 'land')),\n",
       " 'Transformation, to dump site, residual material landfill' (square meter, None, ('natural resource', 'land')),\n",
       " 'Transformation, to dump site, sanitary landfill' (square meter, None, ('natural resource', 'land')),\n",
       " 'Transformation, to dump site, slag compartment' (square meter, None, ('natural resource', 'land')),\n",
       " 'Transformation, to field margin/hedgerow' (square meter, None, ('natural resource', 'land')),\n",
       " 'Transformation, to forest, extensive' (square meter, None, ('natural resource', 'land')),\n",
       " 'Transformation, to forest, intensive' (square meter, None, ('natural resource', 'land')),\n",
       " 'Transformation, to forest, primary (non-use)' (square meter, None, ('natural resource', 'land')),\n",
       " 'Transformation, to forest, secondary (non-use)' (square meter, None, ('natural resource', 'land')),\n",
       " 'Transformation, to forest, unspecified' (square meter, None, ('natural resource', 'land')),\n",
       " 'Transformation, to grassland, natural (non-use)' (square meter, None, ('natural resource', 'land')),\n",
       " 'Transformation, to grassland, natural, for livestock grazing' (square meter, None, ('natural resource', 'land')),\n",
       " 'Transformation, to heterogeneous, agricultural' (square meter, None, ('natural resource', 'land')),\n",
       " 'Transformation, to industrial area' (square meter, None, ('natural resource', 'land')),\n",
       " 'Transformation, to inland waterbody, unspecified' (square meter, None, ('natural resource', 'land')),\n",
       " 'Transformation, to lake, artificial' (square meter, None, ('natural resource', 'land')),\n",
       " 'Transformation, to lake, natural (non-use)' (square meter, None, ('natural resource', 'land')),\n",
       " 'Transformation, to mineral extraction site' (square meter, None, ('natural resource', 'land')),\n",
       " 'Transformation, to pasture, man made' (square meter, None, ('natural resource', 'land')),\n",
       " 'Transformation, to pasture, man made, extensive' (square meter, None, ('natural resource', 'land')),\n",
       " 'Transformation, to pasture, man made, intensive' (square meter, None, ('natural resource', 'land')),\n",
       " 'Transformation, to permanent crop' (square meter, None, ('natural resource', 'land')),\n",
       " 'Transformation, to permanent crop, irrigated' (square meter, None, ('natural resource', 'land')),\n",
       " 'Transformation, to permanent crop, irrigated, extensive' (square meter, None, ('natural resource', 'land')),\n",
       " 'Transformation, to permanent crop, irrigated, intensive' (square meter, None, ('natural resource', 'land')),\n",
       " 'Transformation, to permanent crop, non-irrigated' (square meter, None, ('natural resource', 'land')),\n",
       " 'Transformation, to permanent crop, non-irrigated, extensive' (square meter, None, ('natural resource', 'land')),\n",
       " 'Transformation, to permanent crop, non-irrigated, intensive' (square meter, None, ('natural resource', 'land')),\n",
       " 'Transformation, to river, artificial' (square meter, None, ('natural resource', 'land')),\n",
       " 'Transformation, to river, natural (non-use)' (square meter, None, ('natural resource', 'land')),\n",
       " 'Transformation, to seabed, drilling and mining' (square meter, None, ('natural resource', 'land')),\n",
       " 'Transformation, to seabed, infrastructure' (square meter, None, ('natural resource', 'land')),\n",
       " 'Transformation, to seabed, natural (non-use)' (square meter, None, ('natural resource', 'land')),\n",
       " 'Transformation, to seabed, unspecified' (square meter, None, ('natural resource', 'land')),\n",
       " 'Transformation, to shrub land, sclerophyllous' (square meter, None, ('natural resource', 'land')),\n",
       " 'Transformation, to snow and ice (non-use)' (square meter, None, ('natural resource', 'land')),\n",
       " 'Transformation, to traffic area, rail network' (square meter, None, ('natural resource', 'land')),\n",
       " 'Transformation, to traffic area, rail/road embankment' (square meter, None, ('natural resource', 'land')),\n",
       " 'Transformation, to traffic area, road network' (square meter, None, ('natural resource', 'land')),\n",
       " 'Transformation, to unknown' (square meter, None, ('natural resource', 'land')),\n",
       " 'Transformation, to unspecified' (square meter, None, ('natural resource', 'land')),\n",
       " 'Transformation, to unspecified, natural (non-use)' (square meter, None, ('natural resource', 'land')),\n",
       " 'Transformation, to urban, continuously built' (square meter, None, ('natural resource', 'land')),\n",
       " 'Transformation, to urban, discontinuously built' (square meter, None, ('natural resource', 'land')),\n",
       " 'Transformation, to urban, green area' (square meter, None, ('natural resource', 'land')),\n",
       " 'Transformation, to urban/industrial fallow (non-use)' (square meter, None, ('natural resource', 'land')),\n",
       " 'Transformation, to wetland, coastal (non-use)' (square meter, None, ('natural resource', 'land')),\n",
       " 'Transformation, to wetland, inland (non-use)' (square meter, None, ('natural resource', 'land')),\n",
       " 'Tungsten, in ground' (kilogram, None, ('natural resource', 'in ground')),\n",
       " 'Ulexite, in ground' (kilogram, None, ('natural resource', 'in ground')),\n",
       " 'Uranium, in ground' (kilogram, None, ('natural resource', 'in ground')),\n",
       " 'Vanadium, in ground' (kilogram, None, ('natural resource', 'in ground')),\n",
       " 'Vermiculite, in ground' (kilogram, None, ('natural resource', 'in ground')),\n",
       " 'Volume occupied, final repository for low-active radioactive waste' (cubic meter, None, ('natural resource', 'in ground')),\n",
       " 'Volume occupied, final repository for radioactive waste' (cubic meter, None, ('natural resource', 'in ground')),\n",
       " 'Volume occupied, reservoir' (cubic meter-year, None, ('natural resource', 'in water')),\n",
       " 'Volume occupied, underground deposit' (cubic meter, None, ('natural resource', 'in ground')),\n",
       " 'Water, cooling, unspecified natural origin' (cubic meter, None, ('natural resource', 'in water')),\n",
       " 'Water, in air' (cubic meter, None, ('natural resource', 'in air')),\n",
       " 'Water, lake' (cubic meter, None, ('natural resource', 'in water')),\n",
       " 'Water, river' (cubic meter, None, ('natural resource', 'in water')),\n",
       " 'Water, salt, ocean' (cubic meter, None, ('natural resource', 'in water')),\n",
       " 'Water, salt, sole' (cubic meter, None, ('natural resource', 'in water')),\n",
       " 'Water, turbine use, unspecified natural origin' (cubic meter, None, ('natural resource', 'in water')),\n",
       " 'Water, unspecified natural origin' (cubic meter, None, ('natural resource', 'fossil well')),\n",
       " 'Water, unspecified natural origin' (cubic meter, None, ('natural resource', 'in water')),\n",
       " 'Water, unspecified natural origin' (cubic meter, None, ('natural resource', 'in ground')),\n",
       " 'Water, well, in ground' (cubic meter, None, ('natural resource', 'in water')),\n",
       " 'Wood, hard, standing' (cubic meter, None, ('natural resource', 'biotic')),\n",
       " 'Wood, primary forest, standing' (cubic meter, None, ('natural resource', 'biotic')),\n",
       " 'Wood, soft, standing' (cubic meter, None, ('natural resource', 'biotic')),\n",
       " 'Wood, unspecified, standing' (cubic meter, None, ('natural resource', 'biotic')),\n",
       " 'Xenon, in air' (kilogram, None, ('natural resource', 'in air')),\n",
       " 'Ytterbium, in ground' (kilogram, None, ('natural resource', 'in ground')),\n",
       " 'Yttrium, in ground' (kilogram, None, ('natural resource', 'in ground')),\n",
       " 'Zinc, 9.0% in sulfide, Zn 5.3%, Pb, Ag, Cd, In, in ground' (kilogram, None, ('natural resource', 'in ground')),\n",
       " 'Zinc, Zn 0.63%, in mixed ore, in ground' (kilogram, None, ('natural resource', 'in ground')),\n",
       " 'Zinc, Zn 3.1%, in mixed ore, in ground' (kilogram, None, ('natural resource', 'in ground')),\n",
       " 'Zinc, in ground' (kilogram, None, ('natural resource', 'in ground')),\n",
       " 'Zirconia, as baddeleyite, in ground' (kilogram, None, ('natural resource', 'in ground')),\n",
       " 'Zirconium, 50% in zircon, 0.39% in crude ore, in ground' (kilogram, None, ('natural resource', 'in ground')),\n",
       " 'Zirconium, in ground' (kilogram, None, ('natural resource', 'in ground'))]"
      ]
     },
     "execution_count": 5,
     "metadata": {},
     "output_type": "execute_result"
    }
   ],
   "source": [
    "sorted([x for x in biosphere if x['categories'][0] == 'natural resource'], key=lambda x: x['name'])"
   ]
  },
  {
   "cell_type": "code",
   "execution_count": 4,
   "metadata": {},
   "outputs": [],
   "source": [
    "gw = FossilResourceScarcity(data, biosphere)"
   ]
  },
  {
   "cell_type": "code",
   "execution_count": 5,
   "metadata": {},
   "outputs": [
    {
     "name": "stdout",
     "output_type": "stream",
     "text": [
      "Applying strategy: fix_perspective_string\n",
      "Applying strategy: generic_reformat\n",
      "Applying strategy: split_synonyms\n",
      "Applying strategy: more_synonyms\n",
      "Applying strategy: fix_unit_string\n",
      "Applying strategy: name_matcher\n",
      "Applying strategy: fossil_method_name\n",
      "Applying strategy: add_fossil_natural_resource_category\n",
      "Applying strategy: match_multiple\n",
      "Applied 9 strategies in 0.01 seconds\n"
     ]
    }
   ],
   "source": [
    "gw.apply_strategies()"
   ]
  },
  {
   "cell_type": "code",
   "execution_count": 6,
   "metadata": {},
   "outputs": [
    {
     "name": "stdout",
     "output_type": "stream",
     "text": [
      "Wrote matching file to:\n",
      "/Users/cmutel/Library/Application Support/Brightway3/default.c21f969b/output/lcia-matching-fossil_resource_scarcity.xlsx\n"
     ]
    }
   ],
   "source": [
    "gw.write_excel(\"fossil_resource_scarcity\")"
   ]
  },
  {
   "cell_type": "code",
   "execution_count": 7,
   "metadata": {},
   "outputs": [
    {
     "name": "stdout",
     "output_type": "stream",
     "text": [
      "1 methods\n",
      "5 cfs\n",
      "0 unlinked cfs\n"
     ]
    },
    {
     "data": {
      "text/plain": [
       "(1, 5, 0)"
      ]
     },
     "execution_count": 7,
     "metadata": {},
     "output_type": "execute_result"
    }
   ],
   "source": [
    "gw.statistics()"
   ]
  },
  {
   "cell_type": "code",
   "execution_count": 8,
   "metadata": {},
   "outputs": [],
   "source": [
    "comp = gw.compare_to_previous()"
   ]
  },
  {
   "cell_type": "code",
   "execution_count": 9,
   "metadata": {},
   "outputs": [
    {
     "data": {
      "text/plain": [
       "[('found', 5), ('missing', 0), ('reference', 5)]"
      ]
     },
     "execution_count": 9,
     "metadata": {},
     "output_type": "execute_result"
    }
   ],
   "source": [
    "[(key, len(comp[key])) for key in comp]"
   ]
  },
  {
   "cell_type": "markdown",
   "metadata": {},
   "source": [
    "Present in previous ReCiPe, missing here"
   ]
  },
  {
   "cell_type": "code",
   "execution_count": 10,
   "metadata": {},
   "outputs": [
    {
     "data": {
      "text/plain": [
       "['gas, mine, off-gas, process, coal mining']"
      ]
     },
     "execution_count": 10,
     "metadata": {},
     "output_type": "execute_result"
    }
   ],
   "source": [
    "sorted(comp['reference'].difference(comp['found']))"
   ]
  },
  {
   "cell_type": "code",
   "execution_count": 11,
   "metadata": {},
   "outputs": [
    {
     "name": "stdout",
     "output_type": "stream",
     "text": [
      "Wrote 1 LCIA methods with 5 characterization factors\n"
     ]
    }
   ],
   "source": [
    "gw.write_methods(overwrite=True)"
   ]
  },
  {
   "cell_type": "code",
   "execution_count": 13,
   "metadata": {},
   "outputs": [
    {
     "data": {
      "text/plain": [
       "('ReCiPe 2016', 'v1.1 (20180117)', 'Fossil resource scarcity')"
      ]
     },
     "execution_count": 13,
     "metadata": {},
     "output_type": "execute_result"
    }
   ],
   "source": [
    "gw.data[0]['name']"
   ]
  },
  {
   "cell_type": "markdown",
   "metadata": {},
   "source": [
    "# Compare to previous ReCiPe method"
   ]
  },
  {
   "cell_type": "code",
   "execution_count": 14,
   "metadata": {},
   "outputs": [],
   "source": [
    "%matplotlib inline"
   ]
  },
  {
   "cell_type": "code",
   "execution_count": 15,
   "metadata": {},
   "outputs": [],
   "source": [
    "import bw2data, bw2calc\n",
    "import pyprind\n",
    "import seaborn as sb\n",
    "import numpy as np"
   ]
  },
  {
   "cell_type": "code",
   "execution_count": 16,
   "metadata": {},
   "outputs": [],
   "source": [
    "keys = sorted([x.key for x in bw2data.Database(\"ecoinvent 3.6 cutoff\")])"
   ]
  },
  {
   "cell_type": "code",
   "execution_count": 17,
   "metadata": {},
   "outputs": [],
   "source": [
    "results_reference, results_2016 = [], []"
   ]
  },
  {
   "cell_type": "code",
   "execution_count": 18,
   "metadata": {},
   "outputs": [],
   "source": [
    "lca = bw2calc.LCA({keys[0]: 1}, gw.previous_reference)\n",
    "lca.lci()\n",
    "lca.lcia()"
   ]
  },
  {
   "cell_type": "code",
   "execution_count": 19,
   "metadata": {},
   "outputs": [],
   "source": [
    "reference_cm = lca.characterization_matrix.copy()"
   ]
  },
  {
   "cell_type": "code",
   "execution_count": 20,
   "metadata": {},
   "outputs": [],
   "source": [
    "lca.switch_method(('ReCiPe 2016', 'v1.1 (20180117)', 'Fossil resource scarcity'))"
   ]
  },
  {
   "cell_type": "code",
   "execution_count": 21,
   "metadata": {},
   "outputs": [
    {
     "data": {
      "text/plain": [
       "(2.6999999582767487, 3.8790000081062317)"
      ]
     },
     "execution_count": 21,
     "metadata": {},
     "output_type": "execute_result"
    }
   ],
   "source": [
    "lca.characterization_matrix.sum(), reference_cm.sum()"
   ]
  },
  {
   "cell_type": "code",
   "execution_count": 22,
   "metadata": {},
   "outputs": [],
   "source": [
    "new_cm = lca.characterization_matrix.copy()"
   ]
  },
  {
   "cell_type": "code",
   "execution_count": 23,
   "metadata": {},
   "outputs": [
    {
     "name": "stderr",
     "output_type": "stream",
     "text": [
      "0% [##############################] 100% | ETA: 00:00:00\n",
      "Total time elapsed: 00:05:24\n"
     ]
    }
   ],
   "source": [
    "for key in pyprind.prog_bar(keys):\n",
    "    lca.redo_lci({key: 1})\n",
    "    results_reference.append((reference_cm * lca.inventory).sum())\n",
    "    results_2016.append((new_cm * lca.inventory).sum())    "
   ]
  },
  {
   "cell_type": "code",
   "execution_count": 24,
   "metadata": {},
   "outputs": [
    {
     "name": "stderr",
     "output_type": "stream",
     "text": [
      "/Users/cmutel/miniconda3/envs/bw2dev/lib/python3.7/site-packages/ipykernel_launcher.py:1: RuntimeWarning: divide by zero encountered in log10\n",
      "  \"\"\"Entry point for launching an IPython kernel.\n"
     ]
    },
    {
     "data": {
      "text/plain": [
       "<matplotlib.axes._subplots.AxesSubplot at 0x117354450>"
      ]
     },
     "execution_count": 24,
     "metadata": {},
     "output_type": "execute_result"
    },
    {
     "data": {
      "image/png": "[encoded data removed]",
      "text/plain": [
       "<Figure size 432x288 with 1 Axes>"
      ]
     },
     "metadata": {
      "needs_background": "light"
     },
     "output_type": "display_data"
    }
   ],
   "source": [
    "sb.scatterplot(np.log10(np.array(results_reference)), np.log10(np.array(results_2016)))"
   ]
  },
  {
   "cell_type": "code",
   "execution_count": 26,
   "metadata": {},
   "outputs": [],
   "source": [
    "def masked_ratio(a, b):\n",
    "    a, b = np.array(a), np.array(b)\n",
    "    mask = (a != 0) * (b != 0)\n",
    "    return a / b"
   ]
  },
  {
   "cell_type": "code",
   "execution_count": 23,
   "metadata": {},
   "outputs": [
    {
     "name": "stderr",
     "output_type": "stream",
     "text": [
      "/Users/cmutel/miniconda3/envs/bw2dev/lib/python3.7/site-packages/ipykernel_launcher.py:4: RuntimeWarning: divide by zero encountered in true_divide\n",
      "  after removing the cwd from sys.path.\n"
     ]
    },
    {
     "ename": "OverflowError",
     "evalue": "cannot convert float infinity to integer",
     "output_type": "error",
     "traceback": [
      "\u001b[0;31m---------------------------------------------------------------------------\u001b[0m",
      "\u001b[0;31mOverflowError\u001b[0m                             Traceback (most recent call last)",
      "\u001b[0;32m<ipython-input-23-2a222fdd991d>\u001b[0m in \u001b[0;36m<module>\u001b[0;34m\u001b[0m\n\u001b[0;32m----> 1\u001b[0;31m \u001b[0msb\u001b[0m\u001b[0;34m.\u001b[0m\u001b[0mdistplot\u001b[0m\u001b[0;34m(\u001b[0m\u001b[0mmasked_ratio\u001b[0m\u001b[0;34m(\u001b[0m\u001b[0mresults_2016\u001b[0m\u001b[0;34m,\u001b[0m \u001b[0mresults_reference\u001b[0m\u001b[0;34m)\u001b[0m\u001b[0;34m)\u001b[0m\u001b[0;34m\u001b[0m\u001b[0;34m\u001b[0m\u001b[0m\n\u001b[0m",
      "\u001b[0;32m~/miniconda3/envs/bw2dev/lib/python3.7/site-packages/seaborn/distributions.py\u001b[0m in \u001b[0;36mdistplot\u001b[0;34m(a, bins, hist, kde, rug, fit, hist_kws, kde_kws, rug_kws, fit_kws, color, vertical, norm_hist, axlabel, label, ax)\u001b[0m\n\u001b[1;32m    213\u001b[0m     \u001b[0;32mif\u001b[0m \u001b[0mhist\u001b[0m\u001b[0;34m:\u001b[0m\u001b[0;34m\u001b[0m\u001b[0;34m\u001b[0m\u001b[0m\n\u001b[1;32m    214\u001b[0m         \u001b[0;32mif\u001b[0m \u001b[0mbins\u001b[0m \u001b[0;32mis\u001b[0m \u001b[0;32mNone\u001b[0m\u001b[0;34m:\u001b[0m\u001b[0;34m\u001b[0m\u001b[0;34m\u001b[0m\u001b[0m\n\u001b[0;32m--> 215\u001b[0;31m             \u001b[0mbins\u001b[0m \u001b[0;34m=\u001b[0m \u001b[0mmin\u001b[0m\u001b[0;34m(\u001b[0m\u001b[0m_freedman_diaconis_bins\u001b[0m\u001b[0;34m(\u001b[0m\u001b[0ma\u001b[0m\u001b[0;34m)\u001b[0m\u001b[0;34m,\u001b[0m \u001b[0;36m50\u001b[0m\u001b[0;34m)\u001b[0m\u001b[0;34m\u001b[0m\u001b[0;34m\u001b[0m\u001b[0m\n\u001b[0m\u001b[1;32m    216\u001b[0m         \u001b[0mhist_kws\u001b[0m\u001b[0;34m.\u001b[0m\u001b[0msetdefault\u001b[0m\u001b[0;34m(\u001b[0m\u001b[0;34m\"alpha\"\u001b[0m\u001b[0;34m,\u001b[0m \u001b[0;36m0.4\u001b[0m\u001b[0;34m)\u001b[0m\u001b[0;34m\u001b[0m\u001b[0;34m\u001b[0m\u001b[0m\n\u001b[1;32m    217\u001b[0m         \u001b[0mhist_kws\u001b[0m\u001b[0;34m.\u001b[0m\u001b[0msetdefault\u001b[0m\u001b[0;34m(\u001b[0m\u001b[0;34m\"density\"\u001b[0m\u001b[0;34m,\u001b[0m \u001b[0mnorm_hist\u001b[0m\u001b[0;34m)\u001b[0m\u001b[0;34m\u001b[0m\u001b[0;34m\u001b[0m\u001b[0m\n",
      "\u001b[0;32m~/miniconda3/envs/bw2dev/lib/python3.7/site-packages/seaborn/distributions.py\u001b[0m in \u001b[0;36m_freedman_diaconis_bins\u001b[0;34m(a)\u001b[0m\n\u001b[1;32m     33\u001b[0m         \u001b[0;32mreturn\u001b[0m \u001b[0mint\u001b[0m\u001b[0;34m(\u001b[0m\u001b[0mnp\u001b[0m\u001b[0;34m.\u001b[0m\u001b[0msqrt\u001b[0m\u001b[0;34m(\u001b[0m\u001b[0ma\u001b[0m\u001b[0;34m.\u001b[0m\u001b[0msize\u001b[0m\u001b[0;34m)\u001b[0m\u001b[0;34m)\u001b[0m\u001b[0;34m\u001b[0m\u001b[0;34m\u001b[0m\u001b[0m\n\u001b[1;32m     34\u001b[0m     \u001b[0;32melse\u001b[0m\u001b[0;34m:\u001b[0m\u001b[0;34m\u001b[0m\u001b[0;34m\u001b[0m\u001b[0m\n\u001b[0;32m---> 35\u001b[0;31m         \u001b[0;32mreturn\u001b[0m \u001b[0mint\u001b[0m\u001b[0;34m(\u001b[0m\u001b[0mnp\u001b[0m\u001b[0;34m.\u001b[0m\u001b[0mceil\u001b[0m\u001b[0;34m(\u001b[0m\u001b[0;34m(\u001b[0m\u001b[0ma\u001b[0m\u001b[0;34m.\u001b[0m\u001b[0mmax\u001b[0m\u001b[0;34m(\u001b[0m\u001b[0;34m)\u001b[0m \u001b[0;34m-\u001b[0m \u001b[0ma\u001b[0m\u001b[0;34m.\u001b[0m\u001b[0mmin\u001b[0m\u001b[0;34m(\u001b[0m\u001b[0;34m)\u001b[0m\u001b[0;34m)\u001b[0m \u001b[0;34m/\u001b[0m \u001b[0mh\u001b[0m\u001b[0;34m)\u001b[0m\u001b[0;34m)\u001b[0m\u001b[0;34m\u001b[0m\u001b[0;34m\u001b[0m\u001b[0m\n\u001b[0m\u001b[1;32m     36\u001b[0m \u001b[0;34m\u001b[0m\u001b[0m\n\u001b[1;32m     37\u001b[0m \u001b[0;34m\u001b[0m\u001b[0m\n",
      "\u001b[0;31mOverflowError\u001b[0m: cannot convert float infinity to integer"
     ]
    },
    {
     "data": {
      "image/png": "[encoded data removed]",
      "text/plain": [
       "<Figure size 432x288 with 1 Axes>"
      ]
     },
     "metadata": {
      "needs_background": "light"
     },
     "output_type": "display_data"
    }
   ],
   "source": [
    "sb.distplot(masked_ratio(results_2016, results_reference))"
   ]
  },
  {
   "cell_type": "code",
   "execution_count": 24,
   "metadata": {},
   "outputs": [],
   "source": [
    "def abnormal_ratio(a, b):\n",
    "    if not a or not b:\n",
    "        return\n",
    "    ratio = abs(a / b)\n",
    "    if 0.8 < ratio < 1.25:\n",
    "        return\n",
    "    return ratio"
   ]
  },
  {
   "cell_type": "code",
   "execution_count": null,
   "metadata": {},
   "outputs": [],
   "source": [
    "exceptions = sorted([\n",
    "    (abnormal_ratio(results_2016[i], results_reference[i]), bw2data.get_activity(key)) \n",
    "    for i, key in enumerate(keys) \n",
    "    if abnormal_ratio(results_2016[i], results_reference[i])\n",
    "], reverse=True)"
   ]
  },
  {
   "cell_type": "code",
   "execution_count": null,
   "metadata": {},
   "outputs": [],
   "source": [
    "len(exceptions)"
   ]
  },
  {
   "cell_type": "code",
   "execution_count": null,
   "metadata": {
    "scrolled": false
   },
   "outputs": [],
   "source": [
    "exceptions[:10]"
   ]
  },
  {
   "cell_type": "code",
   "execution_count": null,
   "metadata": {},
   "outputs": [],
   "source": [
    "lca.redo_lci({exceptions[0][1]: 1})\n",
    "lca.characterized_inventory = new_cm * lca.inventory"
   ]
  }
 ],
 "metadata": {
  "kernelspec": {
   "display_name": "Python 3",
   "language": "python",
   "name": "python3"
  },
  "language_info": {
   "codemirror_mode": {
    "name": "ipython",
    "version": 3
   },
   "file_extension": ".py",
   "mimetype": "text/x-python",
   "name": "python",
   "nbconvert_exporter": "python",
   "pygments_lexer": "ipython3",
   "version": "3.7.6"
  }
 },
 "nbformat": 4,
 "nbformat_minor": 4
}
