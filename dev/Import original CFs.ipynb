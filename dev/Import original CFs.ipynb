{
 "cells": [
  {
   "cell_type": "code",
   "execution_count": 109,
   "metadata": {},
   "outputs": [],
   "source": [
    "from bw2io.extractors import ExcelExtractor\n",
    "import bw2data as bd\n",
    "import re"
   ]
  },
  {
   "cell_type": "code",
   "execution_count": 110,
   "metadata": {},
   "outputs": [
    {
     "data": {
      "text/plain": [
       "(4321, 1415)"
      ]
     },
     "execution_count": 110,
     "metadata": {},
     "output_type": "execute_result"
    }
   ],
   "source": [
    "assert \"biosphere3\" in bd.databases, \"Must install base ecoinvent data\"\n",
    "bio = list(bd.Database(\"biosphere3\"))\n",
    "bio_names = {o['name'].lower() for o in bio}\n",
    "len(bio), len(bio_names)"
   ]
  },
  {
   "cell_type": "code",
   "execution_count": 111,
   "metadata": {},
   "outputs": [
    {
     "data": {
      "text/plain": [
       "{'categories': ('soil', 'forestry'),\n",
       " 'code': '48dbf4b1-0b2a-4bf5-a190-2d7fc465bda4',\n",
       " 'CAS number': '007440-22-4',\n",
       " 'name': 'Silver',\n",
       " 'database': 'biosphere3',\n",
       " 'unit': 'kilogram',\n",
       " 'type': 'emission'}"
      ]
     },
     "execution_count": 111,
     "metadata": {},
     "output_type": "execute_result"
    }
   ],
   "source": [
    "bio[0]._data"
   ]
  },
  {
   "cell_type": "code",
   "execution_count": 3,
   "metadata": {},
   "outputs": [
    {
     "data": {
      "text/plain": [
       "['methane, fossil',\n",
       " 'carbon monoxide, non-fossil',\n",
       " 'oils, non-fossil',\n",
       " 'carbon monoxide, fossil',\n",
       " 'carbon dioxide, fossil',\n",
       " 'carbon dioxide, non-fossil',\n",
       " 'carbon dioxide, non-fossil, from calcination',\n",
       " 'methane, non-fossil']"
      ]
     },
     "execution_count": 3,
     "metadata": {},
     "output_type": "execute_result"
    }
   ],
   "source": [
    "[x for x in bio_names if \"fossil\" in x]"
   ]
  },
  {
   "cell_type": "code",
   "execution_count": 4,
   "metadata": {},
   "outputs": [],
   "source": [
    "data = ExcelExtractor.extract(\"ReCiPe2016_CFs_v1.1_20180117.xlsx\")"
   ]
  },
  {
   "cell_type": "code",
   "execution_count": 5,
   "metadata": {},
   "outputs": [],
   "source": [
    "multiple = re.compile(\"^(.*)\\((.*)\\)$\")\n",
    "\n",
    "def get_names(dct):\n",
    "    \"\"\"Get all possible names for this elementary flow\"\"\"\n",
    "    def _(s):\n",
    "        return s.strip().lower()\n",
    "    \n",
    "    if 'name' in dct:\n",
    "        yield _(dct['name'])\n",
    "    if 'Name' in dct:\n",
    "        yield _(dct['Name'])\n",
    "    if 'Alternative name (=name in emission database if different)' in dct:\n",
    "        match = multiple.match(dct['Alternative name (=name in emission database if different)'])\n",
    "        if match:\n",
    "            for name in match.groups():\n",
    "                yield _(name)\n",
    "                yield _(name).replace(\" \", \"-\")\n",
    "        else:\n",
    "            yield _(dct['Alternative name (=name in emission database if different)'])\n",
    "            yield _(dct['Alternative name (=name in emission database if different)']).replace(\" \", \"-\")\n",
    "    if 'Alternative name' in dct:\n",
    "        match = multiple.match(dct['Alternative name'])\n",
    "        if match:\n",
    "            for name in match.groups():\n",
    "                yield _(name)\n",
    "                yield _(name).replace(\" \", \"-\")\n",
    "        else:\n",
    "            yield _(dct['Alternative name'])\n",
    "            yield _(dct['Alternative name']).replace(\" \", \"-\")\n",
    "            \n",
    "get_names_test = {\n",
    "    'Name': 'Nitrous oxide',\n",
    "   'Alternative name (=name in emission database if different)': 'dinitrogen oxide (nitrous oxide)',\n",
    "}\n",
    "\n",
    "assert list(get_names(get_names_test)) == ['nitrous oxide', 'dinitrogen oxide', 'dinitrogen-oxide', 'nitrous oxide', 'nitrous-oxide']"
   ]
  },
  {
   "cell_type": "code",
   "execution_count": 101,
   "metadata": {},
   "outputs": [],
   "source": [
    "def three_row_header(data):\n",
    "    def _(s):\n",
    "        \"\"\"Clean up some minor typos.\n",
    "        \n",
    "        Turns `(kg CO2eq/ kg GHG)` into `kg CO2eq/kg GHG`.\"\"\"\n",
    "        if s.startswith(\"(\"):\n",
    "            s = s[1:]\n",
    "        if s.endswith(\")\"):\n",
    "            s = s[:-1]\n",
    "        return s.replace(\"/ \", \"/\")\n",
    "    \n",
    "    try:\n",
    "        index_of_starting_cfs = data[2].index(\"Individualist\")\n",
    "    except ValueError:\n",
    "        index_of_starting_cfs = data[2].index(\"I\")\n",
    "    labels = data[2][:index_of_starting_cfs]\n",
    "    \n",
    "    results = []\n",
    "    for column_index in range(index_of_starting_cfs, len(data[0])):\n",
    "        method = {\n",
    "            'name': data[0][column_index],\n",
    "            'unit': _(data[1][column_index]),\n",
    "            'perspective': data[2][column_index],\n",
    "            'cfs': []\n",
    "        }\n",
    "        for row in data[3:]:\n",
    "            if row[column_index] == '':\n",
    "                continue\n",
    "            method['cfs'].append(1)\n",
    "        results.append(method)\n",
    "    return method"
   ]
  },
  {
   "cell_type": "code",
   "execution_count": 102,
   "metadata": {},
   "outputs": [],
   "source": [
    "category_formatter = {\n",
    "    'Global Warming': three_row_header,\n",
    "    'Stratospheric ozone depletion': three_row_header,\n",
    "    'Ionizing radiation': three_row_header,\n",
    "    'Human damage ozone formation': three_row_header,\n",
    "}"
   ]
  },
  {
   "cell_type": "code",
   "execution_count": 103,
   "metadata": {},
   "outputs": [],
   "source": [
    "def as_dict(data):\n",
    "    return {\n",
    "        label: category_formatter[label](rows)\n",
    "        for label, rows in data\n",
    "        if label in category_formatter\n",
    "    }"
   ]
  },
  {
   "cell_type": "code",
   "execution_count": 104,
   "metadata": {},
   "outputs": [],
   "source": [
    "dd = as_dict(data)"
   ]
  },
  {
   "cell_type": "code",
   "execution_count": 105,
   "metadata": {},
   "outputs": [],
   "source": [
    "def find_name_in_biosphere(cf, category_mapping):\n",
    "    _ = lambda s: category_mapping.get(s, s)\n",
    "    for name in get_names(cf):\n",
    "        name = _(name)\n",
    "        if name in bio_names:\n",
    "            return name\n",
    "    # Try a partial match\n",
    "    name = _(cf['Name'].lower())\n",
    "    for o in bio_names:\n",
    "        if name and name in o:\n",
    "            return o"
   ]
  },
  {
   "cell_type": "markdown",
   "metadata": {},
   "source": [
    "# Global warming"
   ]
  },
  {
   "cell_type": "code",
   "execution_count": 11,
   "metadata": {},
   "outputs": [],
   "source": [
    "category_mapping = {\n",
    "    'carbon dioxide': 'carbon dioxide, fossil',\n",
    "    'carbon monoxide': 'carbon monoxide, fossil',\n",
    "    'methane': 'methane, non-fossil',\n",
    "    'fossil methane': 'methane, fossil',\n",
    "    'nitrous oxide': 'dinitrogen monoxide',\n",
    "    'sulphur hexafluoride': 'sulfur hexafluoride',\n",
    "    'halon-1211': 'methane, bromochlorodifluoro-, halon 1211',\n",
    "    'pfc-41-12': 'perfluoropentane',\n",
    "    'cfc-11': 'methane, trichlorofluoro-, cfc-11',\n",
    "    'pfc-116': 'ethane, hexafluoro-, hfc-116',\n",
    "    'halon-1301': 'methane, bromotrifluoro-, halon 1301',\n",
    "    'methylene chloride': 'methane, dichloro-, hcc-30',\n",
    "    'methyl chloride': 'methane, monochloro-, r-40',\n",
    "    'carbon tetrachloride': 'methane, tetrachloro-, r-10',\n",
    "    'pfc-14': 'methane, tetrafluoro-, r-14',\n",
    "    'cfc-12': 'methane, dichlorodifluoro-, cfc-12',\n",
    "    'methyl bromide': 'methane, bromo-, halon 1001',\n",
    "}"
   ]
  },
  {
   "cell_type": "code",
   "execution_count": 12,
   "metadata": {},
   "outputs": [
    {
     "data": {
      "text/plain": [
       "{'carbon dioxide, fossil',\n",
       " 'chloroform',\n",
       " 'dinitrogen monoxide',\n",
       " 'ethane, 1,1,1,2-tetrafluoro-, hfc-134a',\n",
       " 'ethane, 1,1,1-trifluoro-, hfc-143a',\n",
       " 'ethane, 1,1,2-trichloro-1,2,2-trifluoro-, cfc-113',\n",
       " 'ethane, 1,1-dichloro-1-fluoro-, hcfc-141b',\n",
       " 'ethane, 1,1-difluoro-, hfc-152a',\n",
       " 'ethane, 1,2-dichloro-1,1,2,2-tetrafluoro-, cfc-114',\n",
       " 'ethane, 1-chloro-1,1-difluoro-, hcfc-142b',\n",
       " 'ethane, 2,2-dichloro-1,1,1-trifluoro-, hcfc-123',\n",
       " 'ethane, 2-chloro-1,1,1,2-tetrafluoro-, hcfc-124',\n",
       " 'ethane, chloropentafluoro-, cfc-115',\n",
       " 'ethane, hexafluoro-, hfc-116',\n",
       " 'ethane, pentafluoro-, hfc-125',\n",
       " 'hydrocarbons, chlorinated',\n",
       " 'methane, bromo-, halon 1001',\n",
       " 'methane, bromochlorodifluoro-, halon 1211',\n",
       " 'methane, bromotrifluoro-, halon 1301',\n",
       " 'methane, chlorodifluoro-, hcfc-22',\n",
       " 'methane, chlorotrifluoro-, cfc-13',\n",
       " 'methane, dichloro-, hcc-30',\n",
       " 'methane, dichlorodifluoro-, cfc-12',\n",
       " 'methane, dichlorofluoro-, hcfc-21',\n",
       " 'methane, difluoro-, hfc-32',\n",
       " 'methane, fossil',\n",
       " 'methane, monochloro-, r-40',\n",
       " 'methane, non-fossil',\n",
       " 'methane, tetrachloro-, r-10',\n",
       " 'methane, tetrafluoro-, r-14',\n",
       " 'methane, trichlorofluoro-, cfc-11',\n",
       " 'methane, trifluoro-, hfc-23',\n",
       " 'perfluoropentane',\n",
       " 'sulfur hexafluoride'}"
      ]
     },
     "execution_count": 12,
     "metadata": {},
     "output_type": "execute_result"
    }
   ],
   "source": [
    "found = {find_name_in_biosphere(cf, category_mapping) \n",
    "         for cf in dd['Global Warming']['cfs'] \n",
    "         if find_name_in_biosphere(cf, category_mapping)}\n",
    "found"
   ]
  },
  {
   "cell_type": "code",
   "execution_count": 13,
   "metadata": {},
   "outputs": [],
   "source": [
    "in_ecoinvent_ipcc = {bd.get_activity(o[0])['name'].lower() for o in bd.Method(('IPCC 2013', 'climate change', 'GWP 100a')).load()}"
   ]
  },
  {
   "cell_type": "code",
   "execution_count": 14,
   "metadata": {},
   "outputs": [],
   "source": [
    "in_ecoinvent_recipe = {bd.get_activity(o[0])['name'].lower() for o in bd.Method(('ReCiPe Midpoint (E) V1.13', 'climate change', 'GWP500')).load()}"
   ]
  },
  {
   "cell_type": "code",
   "execution_count": 15,
   "metadata": {},
   "outputs": [],
   "source": [
    "known_missing = {\n",
    "    'ethane, 1,1,1-trichloro-, hcfc-140',\n",
    "    'carbon monoxide, fossil',\n",
    "    'carbon monoxide, from soil or biomass stock',\n",
    "    'carbon monoxide, non-fossil',  \n",
    "    'methane, bromo-, halon 1001',\n",
    "    'nitric oxide',\n",
    "    'nitrogen fluoride',\n",
    "    'voc, volatile organic compounds, unspecified origin', # What could the CF even be?\n",
    "    'ethane, 1,2-dichloro-',\n",
    "    'dimethyl ether',\n",
    "}"
   ]
  },
  {
   "cell_type": "code",
   "execution_count": 16,
   "metadata": {},
   "outputs": [
    {
     "data": {
      "text/plain": [
       "{'carbon dioxide, from soil or biomass stock',\n",
       " 'carbon dioxide, to soil or biomass stock',\n",
       " 'methane',\n",
       " 'methane, from soil or biomass stock'}"
      ]
     },
     "execution_count": 16,
     "metadata": {},
     "output_type": "execute_result"
    }
   ],
   "source": [
    "in_ecoinvent_ipcc.difference(found).difference(known_missing)"
   ]
  },
  {
   "cell_type": "code",
   "execution_count": 17,
   "metadata": {},
   "outputs": [
    {
     "data": {
      "text/plain": [
       "{'carbon dioxide, from soil or biomass stock',\n",
       " 'carbon dioxide, to soil or biomass stock',\n",
       " 'methane',\n",
       " 'methane, from soil or biomass stock'}"
      ]
     },
     "execution_count": 17,
     "metadata": {},
     "output_type": "execute_result"
    }
   ],
   "source": [
    "in_ecoinvent_recipe.difference(found).difference(known_missing)"
   ]
  },
  {
   "cell_type": "code",
   "execution_count": 19,
   "metadata": {},
   "outputs": [
    {
     "data": {
      "text/plain": [
       "{'perfluoropentane'}"
      ]
     },
     "execution_count": 19,
     "metadata": {},
     "output_type": "execute_result"
    }
   ],
   "source": [
    "found.difference(in_ecoinvent_recipe)"
   ]
  },
  {
   "cell_type": "code",
   "execution_count": 20,
   "metadata": {},
   "outputs": [
    {
     "data": {
      "text/plain": [
       "{'hydrocarbons, chlorinated'}"
      ]
     },
     "execution_count": 20,
     "metadata": {},
     "output_type": "execute_result"
    }
   ],
   "source": [
    "found.difference(in_ecoinvent_ipcc)"
   ]
  },
  {
   "cell_type": "markdown",
   "metadata": {},
   "source": [
    "# Ozone depletion"
   ]
  },
  {
   "cell_type": "code",
   "execution_count": 87,
   "metadata": {},
   "outputs": [],
   "source": [
    "category_mapping = {\n",
    "    'carbon tetrachloride': 'methane, tetrachloro-, r-10',\n",
    "    'cfc-12': 'methane, dichlorodifluoro-, cfc-12',\n",
    "    'cfc-11': 'methane, trichlorofluoro-, cfc-11',\n",
    "    'halon-1301': 'methane, bromotrifluoro-, halon 1301',\n",
    "    'halon-1211': 'methane, bromochlorodifluoro-, halon 1211',\n",
    "    'ch3cl': 'methane, monochloro-, r-40',\n",
    "    'ch3br': 'methane, bromo-, halon 1001',\n",
    "    'n2o': 'dinitrogen oxide',\n",
    "}"
   ]
  },
  {
   "cell_type": "code",
   "execution_count": 88,
   "metadata": {},
   "outputs": [
    {
     "data": {
      "text/plain": [
       "{'ethane, 1,1,2-trichloro-1,2,2-trifluoro-, cfc-113',\n",
       " 'ethane, 1,1-dichloro-1-fluoro-, hcfc-141b',\n",
       " 'ethane, 1,2-dichloro-1,1,2,2-tetrafluoro-, cfc-114',\n",
       " 'ethane, 1-chloro-1,1-difluoro-, hcfc-142b',\n",
       " 'ethane, 2,2-dichloro-1,1,1-trifluoro-, hcfc-123',\n",
       " 'ethane, 2-chloro-1,1,1,2-tetrafluoro-, hcfc-124',\n",
       " 'ethane, chloropentafluoro-, cfc-115',\n",
       " 'hydrocarbons, chlorinated',\n",
       " 'methane, bromo-, halon 1001',\n",
       " 'methane, bromochlorodifluoro-, halon 1211',\n",
       " 'methane, bromotrifluoro-, halon 1301',\n",
       " 'methane, chlorodifluoro-, hcfc-22',\n",
       " 'methane, dichlorodifluoro-, cfc-12',\n",
       " 'methane, monochloro-, r-40',\n",
       " 'methane, tetrachloro-, r-10',\n",
       " 'methane, trichlorofluoro-, cfc-11'}"
      ]
     },
     "execution_count": 88,
     "metadata": {},
     "output_type": "execute_result"
    }
   ],
   "source": [
    "found = {find_name_in_biosphere(cf, category_mapping) \n",
    "         for cf in dd['Stratospheric ozone depletion']['cfs'] \n",
    "         if find_name_in_biosphere(cf, category_mapping)}\n",
    "found"
   ]
  },
  {
   "cell_type": "code",
   "execution_count": 89,
   "metadata": {},
   "outputs": [
    {
     "data": {
      "text/plain": [
       "{'CH3CCl3', 'HCFC-225ca', 'HCFC-225cb', 'Halon-1202', 'Halon-2402', 'N2O'}"
      ]
     },
     "execution_count": 89,
     "metadata": {},
     "output_type": "execute_result"
    }
   ],
   "source": [
    "missing = {cf['Name'] \n",
    "         for cf in dd['Stratospheric ozone depletion']['cfs'] \n",
    "         if not find_name_in_biosphere(cf, category_mapping)}\n",
    "missing"
   ]
  },
  {
   "cell_type": "code",
   "execution_count": 23,
   "metadata": {},
   "outputs": [],
   "source": [
    "in_ecoinvent = {bd.get_activity(o[0])['name'].lower() for o in bd.Method(('ReCiPe Midpoint (E) V1.13', 'ozone depletion', 'ODPinf')).load()}"
   ]
  },
  {
   "cell_type": "code",
   "execution_count": 24,
   "metadata": {},
   "outputs": [],
   "source": [
    "known_missing = {\n",
    "    'ethane, 1,1,1-trichloro-, hcfc-140',\n",
    "    'ethane, 1,1,2-trichloro-',\n",
    "}"
   ]
  },
  {
   "cell_type": "code",
   "execution_count": 25,
   "metadata": {},
   "outputs": [
    {
     "data": {
      "text/plain": [
       "set()"
      ]
     },
     "execution_count": 25,
     "metadata": {},
     "output_type": "execute_result"
    }
   ],
   "source": [
    "in_ecoinvent.difference(found).difference(known_missing)"
   ]
  },
  {
   "cell_type": "code",
   "execution_count": 26,
   "metadata": {},
   "outputs": [
    {
     "data": {
      "text/plain": [
       "set()"
      ]
     },
     "execution_count": 26,
     "metadata": {},
     "output_type": "execute_result"
    }
   ],
   "source": [
    "found.difference(in_ecoinvent)"
   ]
  },
  {
   "cell_type": "markdown",
   "metadata": {},
   "source": [
    "# Ionizing radiation"
   ]
  },
  {
   "cell_type": "code",
   "execution_count": 90,
   "metadata": {},
   "outputs": [],
   "source": [
    "category_mapping = {\n",
    "    'ch3cl': 'methane, monochloro-, r-40',\n",
    "    'ch3br': 'methane, bromo-, halon 1001',\n",
    "    'actinides, unspecified': 'actinides, radioactive, unspecified',\n",
    "    'cs-134': 'cesium-134',\n",
    "    'cs-137': 'cesium-137',\n",
    "    'co-58': 'cobalt-58',\n",
    "    'h-3': 'hydrogen-3, tritium',\n",
    "    'cm alphaa': 'curium alpha',\n",
    "    'pb-210': 'lead-210',\n",
    "    'pu-238': 'plutonium-238',\n",
    "    'pu-239': 'plutonium-239',\n",
    "    'mn-54': 'manganese-54',\n",
    "    'ra-226a': 'radium-226',\n",
    "    'ra-226': 'radium-226',\n",
    "    'sb-124': 'antimony-124',\n",
    "    'i-133': 'iodine-133',\n",
    "    'po-210': 'polonium-210',\n",
    "    'ag-110m': 'silver-110',\n",
    "    'pu alpha': 'plutonium-alpha',\n",
    "    'pu alphaa': 'plutonium-alpha',\n",
    "    'u-238a': 'uranium-238',\n",
    "    'xe-133': 'xenon-133',\n",
    "    # What ecoinvent calls 'plutonium-alpha' could be Pu 239?\n",
    "}"
   ]
  },
  {
   "cell_type": "code",
   "execution_count": 91,
   "metadata": {},
   "outputs": [
    {
     "data": {
      "text/plain": [
       "{'actinides, radioactive, unspecified',\n",
       " 'americium-241',\n",
       " 'antimony-124',\n",
       " 'antimony-125',\n",
       " 'carbon-14',\n",
       " 'cesium-134',\n",
       " 'cesium-137',\n",
       " 'cobalt-58',\n",
       " 'cobalt-60',\n",
       " 'curium alpha',\n",
       " 'hydrogen-3, tritium',\n",
       " 'iodine-129',\n",
       " 'iodine-131',\n",
       " 'iodine-133',\n",
       " 'krypton-85',\n",
       " 'lead-210',\n",
       " 'manganese-54',\n",
       " 'noble gases, radioactive, unspecified',\n",
       " 'plutonium-238',\n",
       " 'plutonium-alpha',\n",
       " 'polonium-210',\n",
       " 'radium-226',\n",
       " 'radon-222',\n",
       " 'ruthenium-106',\n",
       " 'silver-110',\n",
       " 'strontium-90',\n",
       " 'technetium-99',\n",
       " 'thorium-230',\n",
       " 'uranium-234',\n",
       " 'uranium-235',\n",
       " 'uranium-238',\n",
       " 'xenon-133'}"
      ]
     },
     "execution_count": 91,
     "metadata": {},
     "output_type": "execute_result"
    }
   ],
   "source": [
    "found = {find_name_in_biosphere(cf, category_mapping) \n",
    "         for cf in dd['Ionizing radiation']['cfs'] \n",
    "         if find_name_in_biosphere(cf, category_mapping)}\n",
    "found"
   ]
  },
  {
   "cell_type": "code",
   "execution_count": 92,
   "metadata": {},
   "outputs": [],
   "source": [
    "in_ecoinvent = {bd.get_activity(o[0])['name'].lower() \n",
    "                for o in bd.Method(('ReCiPe Midpoint (E) V1.13', 'ionising radiation', 'IRP_HE')).load()}"
   ]
  },
  {
   "cell_type": "code",
   "execution_count": 93,
   "metadata": {},
   "outputs": [],
   "source": [
    "known_missing = {\n",
    "    'uranium alpha',\n",
    "}"
   ]
  },
  {
   "cell_type": "code",
   "execution_count": 94,
   "metadata": {},
   "outputs": [
    {
     "data": {
      "text/plain": [
       "set()"
      ]
     },
     "execution_count": 94,
     "metadata": {},
     "output_type": "execute_result"
    }
   ],
   "source": [
    "in_ecoinvent.difference(found).difference(known_missing)"
   ]
  },
  {
   "cell_type": "code",
   "execution_count": 95,
   "metadata": {},
   "outputs": [
    {
     "data": {
      "text/plain": [
       "{'technetium-99'}"
      ]
     },
     "execution_count": 95,
     "metadata": {},
     "output_type": "execute_result"
    }
   ],
   "source": [
    "found.difference(in_ecoinvent)"
   ]
  },
  {
   "cell_type": "code",
   "execution_count": 96,
   "metadata": {},
   "outputs": [
    {
     "data": {
      "text/plain": [
       "{'Pu-239'}"
      ]
     },
     "execution_count": 96,
     "metadata": {},
     "output_type": "execute_result"
    }
   ],
   "source": [
    "missing = {cf['Name'] \n",
    "         for cf in dd['Ionizing radiation']['cfs'] \n",
    "         if not find_name_in_biosphere(cf, category_mapping)}\n",
    "missing"
   ]
  },
  {
   "cell_type": "markdown",
   "metadata": {},
   "source": [
    "# Human damage ozone formation"
   ]
  },
  {
   "cell_type": "code",
   "execution_count": 106,
   "metadata": {},
   "outputs": [],
   "source": [
    "category_mapping = {\n",
    "    'ch3cl': 'methane, monochloro-, r-40',\n",
    "#     'ch3br': 'methane, bromo-, halon 1001',\n",
    "#     'actinides, unspecified': 'actinides, radioactive, unspecified',\n",
    "#     'cs-134': 'cesium-134',\n",
    "#     'cs-137': 'cesium-137',\n",
    "#     'co-58': 'cobalt-58',\n",
    "#     'h-3': 'hydrogen-3, tritium',\n",
    "#     'cm alphaa': 'curium alpha',\n",
    "#     'pb-210': 'lead-210',\n",
    "#     'pu-238': 'plutonium-238',\n",
    "#     'pu-239': 'plutonium-239',\n",
    "#     'mn-54': 'manganese-54',\n",
    "#     'ra-226a': 'radium-226',\n",
    "#     'ra-226': 'radium-226',\n",
    "#     'sb-124': 'antimony-124',\n",
    "#     'i-133': 'iodine-133',\n",
    "#     'po-210': 'polonium-210',\n",
    "#     'ag-110m': 'silver-110',\n",
    "#     'pu alpha': 'plutonium-alpha',\n",
    "#     'pu alphaa': 'plutonium-alpha',\n",
    "#     'u-238a': 'uranium-238',\n",
    "#     'xe-133': 'xenon-133',\n",
    "}"
   ]
  },
  {
   "cell_type": "code",
   "execution_count": 107,
   "metadata": {},
   "outputs": [
    {
     "ename": "KeyError",
     "evalue": "'Name'",
     "output_type": "error",
     "traceback": [
      "\u001b[0;31m---------------------------------------------------------------------------\u001b[0m",
      "\u001b[0;31mKeyError\u001b[0m                                  Traceback (most recent call last)",
      "\u001b[0;32m<ipython-input-107-2304f12c9601>\u001b[0m in \u001b[0;36m<module>\u001b[0;34m\u001b[0m\n\u001b[1;32m      1\u001b[0m found = {find_name_in_biosphere(cf, category_mapping) \n\u001b[0;32m----> 2\u001b[0;31m          \u001b[0;32mfor\u001b[0m \u001b[0mcf\u001b[0m \u001b[0;32min\u001b[0m \u001b[0mdd\u001b[0m\u001b[0;34m[\u001b[0m\u001b[0;34m'Human damage ozone formation'\u001b[0m\u001b[0;34m]\u001b[0m\u001b[0;34m[\u001b[0m\u001b[0;34m'cfs'\u001b[0m\u001b[0;34m]\u001b[0m\u001b[0;34m\u001b[0m\u001b[0;34m\u001b[0m\u001b[0m\n\u001b[0m\u001b[1;32m      3\u001b[0m          if find_name_in_biosphere(cf, category_mapping)}\n\u001b[1;32m      4\u001b[0m \u001b[0mfound\u001b[0m\u001b[0;34m\u001b[0m\u001b[0;34m\u001b[0m\u001b[0m\n",
      "\u001b[0;32m<ipython-input-107-2304f12c9601>\u001b[0m in \u001b[0;36m<setcomp>\u001b[0;34m(.0)\u001b[0m\n\u001b[1;32m      1\u001b[0m found = {find_name_in_biosphere(cf, category_mapping) \n\u001b[1;32m      2\u001b[0m          \u001b[0;32mfor\u001b[0m \u001b[0mcf\u001b[0m \u001b[0;32min\u001b[0m \u001b[0mdd\u001b[0m\u001b[0;34m[\u001b[0m\u001b[0;34m'Human damage ozone formation'\u001b[0m\u001b[0;34m]\u001b[0m\u001b[0;34m[\u001b[0m\u001b[0;34m'cfs'\u001b[0m\u001b[0;34m]\u001b[0m\u001b[0;34m\u001b[0m\u001b[0;34m\u001b[0m\u001b[0m\n\u001b[0;32m----> 3\u001b[0;31m          if find_name_in_biosphere(cf, category_mapping)}\n\u001b[0m\u001b[1;32m      4\u001b[0m \u001b[0mfound\u001b[0m\u001b[0;34m\u001b[0m\u001b[0;34m\u001b[0m\u001b[0m\n",
      "\u001b[0;32m<ipython-input-105-b37c26c641b6>\u001b[0m in \u001b[0;36mfind_name_in_biosphere\u001b[0;34m(cf, category_mapping)\u001b[0m\n\u001b[1;32m      6\u001b[0m             \u001b[0;32mreturn\u001b[0m \u001b[0mname\u001b[0m\u001b[0;34m\u001b[0m\u001b[0;34m\u001b[0m\u001b[0m\n\u001b[1;32m      7\u001b[0m     \u001b[0;31m# Try a partial match\u001b[0m\u001b[0;34m\u001b[0m\u001b[0;34m\u001b[0m\u001b[0;34m\u001b[0m\u001b[0m\n\u001b[0;32m----> 8\u001b[0;31m     \u001b[0mname\u001b[0m \u001b[0;34m=\u001b[0m \u001b[0m_\u001b[0m\u001b[0;34m(\u001b[0m\u001b[0mcf\u001b[0m\u001b[0;34m[\u001b[0m\u001b[0;34m'Name'\u001b[0m\u001b[0;34m]\u001b[0m\u001b[0;34m.\u001b[0m\u001b[0mlower\u001b[0m\u001b[0;34m(\u001b[0m\u001b[0;34m)\u001b[0m\u001b[0;34m)\u001b[0m\u001b[0;34m\u001b[0m\u001b[0;34m\u001b[0m\u001b[0m\n\u001b[0m\u001b[1;32m      9\u001b[0m     \u001b[0;32mfor\u001b[0m \u001b[0mo\u001b[0m \u001b[0;32min\u001b[0m \u001b[0mbio_names\u001b[0m\u001b[0;34m:\u001b[0m\u001b[0;34m\u001b[0m\u001b[0;34m\u001b[0m\u001b[0m\n\u001b[1;32m     10\u001b[0m         \u001b[0;32mif\u001b[0m \u001b[0mname\u001b[0m \u001b[0;32mand\u001b[0m \u001b[0mname\u001b[0m \u001b[0;32min\u001b[0m \u001b[0mo\u001b[0m\u001b[0;34m:\u001b[0m\u001b[0;34m\u001b[0m\u001b[0;34m\u001b[0m\u001b[0m\n",
      "\u001b[0;31mKeyError\u001b[0m: 'Name'"
     ]
    }
   ],
   "source": [
    "found = {find_name_in_biosphere(cf, category_mapping) \n",
    "         for cf in dd['Human damage ozone formation']['cfs'] \n",
    "         if find_name_in_biosphere(cf, category_mapping)}\n",
    "found"
   ]
  },
  {
   "cell_type": "code",
   "execution_count": 92,
   "metadata": {},
   "outputs": [],
   "source": [
    "in_ecoinvent = {bd.get_activity(o[0])['name'].lower() \n",
    "                for o in bd.Method(('ReCiPe Midpoint (E) V1.13', 'photochemical oxidant formation', 'POFP')).load()}"
   ]
  },
  {
   "cell_type": "code",
   "execution_count": 93,
   "metadata": {},
   "outputs": [],
   "source": [
    "known_missing = {\n",
    "    'uranium alpha',\n",
    "}"
   ]
  },
  {
   "cell_type": "code",
   "execution_count": 94,
   "metadata": {},
   "outputs": [
    {
     "data": {
      "text/plain": [
       "set()"
      ]
     },
     "execution_count": 94,
     "metadata": {},
     "output_type": "execute_result"
    }
   ],
   "source": [
    "in_ecoinvent.difference(found).difference(known_missing)"
   ]
  },
  {
   "cell_type": "code",
   "execution_count": 95,
   "metadata": {},
   "outputs": [
    {
     "data": {
      "text/plain": [
       "{'technetium-99'}"
      ]
     },
     "execution_count": 95,
     "metadata": {},
     "output_type": "execute_result"
    }
   ],
   "source": [
    "found.difference(in_ecoinvent)"
   ]
  },
  {
   "cell_type": "code",
   "execution_count": 96,
   "metadata": {},
   "outputs": [
    {
     "data": {
      "text/plain": [
       "{'Pu-239'}"
      ]
     },
     "execution_count": 96,
     "metadata": {},
     "output_type": "execute_result"
    }
   ],
   "source": [
    "missing = {cf['Name'] \n",
    "         for cf in dd['Human damage ozone formation']['cfs'] \n",
    "         if not find_name_in_biosphere(cf, category_mapping)}\n",
    "missing"
   ]
  },
  {
   "cell_type": "code",
   "execution_count": null,
   "metadata": {},
   "outputs": [],
   "source": []
  },
  {
   "cell_type": "code",
   "execution_count": null,
   "metadata": {},
   "outputs": [],
   "source": []
  },
  {
   "cell_type": "code",
   "execution_count": null,
   "metadata": {},
   "outputs": [],
   "source": []
  },
  {
   "cell_type": "code",
   "execution_count": null,
   "metadata": {},
   "outputs": [],
   "source": []
  },
  {
   "cell_type": "code",
   "execution_count": null,
   "metadata": {},
   "outputs": [],
   "source": []
  },
  {
   "cell_type": "code",
   "execution_count": 79,
   "metadata": {},
   "outputs": [
    {
     "data": {
      "text/plain": [
       "{'plutonium-238', 'plutonium-241', 'plutonium-alpha'}"
      ]
     },
     "execution_count": 79,
     "metadata": {},
     "output_type": "execute_result"
    }
   ],
   "source": [
    "s = \"pluton\"\n",
    "{x for x in bio_names if s in x}"
   ]
  },
  {
   "cell_type": "code",
   "execution_count": null,
   "metadata": {},
   "outputs": [],
   "source": []
  },
  {
   "cell_type": "code",
   "execution_count": null,
   "metadata": {},
   "outputs": [],
   "source": []
  },
  {
   "cell_type": "code",
   "execution_count": 108,
   "metadata": {},
   "outputs": [
    {
     "data": {
      "text/plain": [
       "[('ReCiPe Midpoint (E) V1.13', 'agricultural land occupation', 'ALOP'),\n",
       " ('ReCiPe Midpoint (E) V1.13', 'climate change', 'GWP500'),\n",
       " ('ReCiPe Midpoint (E) V1.13', 'fossil depletion', 'FDP'),\n",
       " ('ReCiPe Midpoint (E) V1.13', 'freshwater ecotoxicity', 'FETPinf'),\n",
       " ('ReCiPe Midpoint (E) V1.13', 'freshwater eutrophication', 'FEP'),\n",
       " ('ReCiPe Midpoint (E) V1.13', 'human toxicity', 'HTPinf'),\n",
       " ('ReCiPe Midpoint (E) V1.13', 'ionising radiation', 'IRP_HE'),\n",
       " ('ReCiPe Midpoint (E) V1.13', 'marine ecotoxicity', 'METPinf'),\n",
       " ('ReCiPe Midpoint (E) V1.13', 'marine eutrophication', 'MEP'),\n",
       " ('ReCiPe Midpoint (E) V1.13', 'metal depletion', 'MDP'),\n",
       " ('ReCiPe Midpoint (E) V1.13', 'natural land transformation', 'NLTP'),\n",
       " ('ReCiPe Midpoint (E) V1.13', 'ozone depletion', 'ODPinf'),\n",
       " ('ReCiPe Midpoint (E) V1.13', 'particulate matter formation', 'PMFP'),\n",
       " ('ReCiPe Midpoint (E) V1.13', 'photochemical oxidant formation', 'POFP'),\n",
       " ('ReCiPe Midpoint (E) V1.13', 'terrestrial acidification', 'TAP500'),\n",
       " ('ReCiPe Midpoint (E) V1.13', 'terrestrial ecotoxicity', 'TETPinf'),\n",
       " ('ReCiPe Midpoint (E) V1.13', 'urban land occupation', 'ULOP'),\n",
       " ('ReCiPe Midpoint (E) V1.13', 'water depletion', 'WDP')]"
      ]
     },
     "execution_count": 108,
     "metadata": {},
     "output_type": "execute_result"
    }
   ],
   "source": [
    "sorted([m for m in bd.methods if m[0] == 'ReCiPe Midpoint (E) V1.13'])"
   ]
  },
  {
   "cell_type": "code",
   "execution_count": null,
   "metadata": {},
   "outputs": [],
   "source": []
  }
 ],
 "metadata": {
  "kernelspec": {
   "display_name": "Python 3",
   "language": "python",
   "name": "python3"
  },
  "language_info": {
   "codemirror_mode": {
    "name": "ipython",
    "version": 3
   },
   "file_extension": ".py",
   "mimetype": "text/x-python",
   "name": "python",
   "nbconvert_exporter": "python",
   "pygments_lexer": "ipython3",
   "version": "3.7.6"
  }
 },
 "nbformat": 4,
 "nbformat_minor": 4
}
