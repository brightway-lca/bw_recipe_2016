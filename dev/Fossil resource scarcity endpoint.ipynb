{
 "cells": [
  {
   "cell_type": "code",
   "execution_count": 1,
   "metadata": {},
   "outputs": [],
   "source": [
    "from bw_recipe_2016 import (\n",
    "    FossilResourceScarcityEndpoint,\n",
    "    get_biosphere_database, \n",
    "    extract_recipe,\n",
    ")"
   ]
  },
  {
   "cell_type": "code",
   "execution_count": 2,
   "metadata": {},
   "outputs": [],
   "source": [
    "biosphere = get_biosphere_database()"
   ]
  },
  {
   "cell_type": "code",
   "execution_count": 3,
   "metadata": {},
   "outputs": [],
   "source": [
    "gw = FossilResourceScarcityEndpoint(biosphere)"
   ]
  },
  {
   "cell_type": "code",
   "execution_count": 4,
   "metadata": {},
   "outputs": [
    {
     "name": "stdout",
     "output_type": "stream",
     "text": [
      "Applying strategy: match_multiple\n",
      "Applying strategy: final_method_name\n",
      "Applied 2 strategies in 0.01 seconds\n"
     ]
    }
   ],
   "source": [
    "gw.apply_strategies()"
   ]
  },
  {
   "cell_type": "code",
   "execution_count": 5,
   "metadata": {},
   "outputs": [
    {
     "name": "stdout",
     "output_type": "stream",
     "text": [
      "3 methods\n",
      "15 cfs\n",
      "0 unlinked cfs\n"
     ]
    },
    {
     "data": {
      "text/plain": [
       "(3, 15, 0)"
      ]
     },
     "execution_count": 5,
     "metadata": {},
     "output_type": "execute_result"
    }
   ],
   "source": [
    "gw.statistics()"
   ]
  },
  {
   "cell_type": "code",
   "execution_count": null,
   "metadata": {},
   "outputs": [],
   "source": []
  },
  {
   "cell_type": "code",
   "execution_count": 6,
   "metadata": {},
   "outputs": [
    {
     "data": {
      "text/plain": [
       "{('Acidification - Terrestrial ecosystems',\n",
       "  'Egalitarian'): ('Terrestrial Ecosystems', ('Terrestrial Acidification',)),\n",
       " ('Acidification - Terrestrial ecosystems',\n",
       "  'Hierarchist'): ('Terrestrial Ecosystems', ('Terrestrial Acidification',)),\n",
       " ('Acidification - Terrestrial ecosystems',\n",
       "  'Individualist'): ('Terrestrial Ecosystems', ('Terrestrial Acidification',)),\n",
       " ('Eutrophication - Freshwater ecosystems',\n",
       "  'Egalitarian'): ('Freshwater ecosystems', ('Freshwater Eutrophication',)),\n",
       " ('Eutrophication - Freshwater ecosystems',\n",
       "  'Hierarchist'): ('Freshwater ecosystems', ('Freshwater Eutrophication',)),\n",
       " ('Eutrophication - Freshwater ecosystems',\n",
       "  'Individualist'): ('Freshwater ecosystems', ('Freshwater Eutrophication',)),\n",
       " ('Eutrophication - Marine ecosystems', 'Egalitarian'): ('Marine ecosystems',\n",
       "  ('Marine eutrophication',)),\n",
       " ('Eutrophication - Marine ecosystems', 'Hierarchist'): ('Marine ecosystems',\n",
       "  ('Marine eutrophication',)),\n",
       " ('Eutrophication - Marine ecosystems', 'Individualist'): ('Marine ecosystems',\n",
       "  ('Marine eutrophication',)),\n",
       " ('Fine particulate matter formation - Human health',\n",
       "  'Egalitarian'): ('Human health', ('Particulate Matter Formation',\n",
       "   'Egalitarian')),\n",
       " ('Fine particulate matter formation - Human health',\n",
       "  'Hierarchist'): ('Human health', ('Particulate Matter Formation',\n",
       "   'Hierarchist')),\n",
       " ('Fine particulate matter formation - Human health',\n",
       "  'Individualist'): ('Human health', ('Particulate Matter Formation',\n",
       "   'Individualist')),\n",
       " ('Global Warming - Freshwater ecosystems',\n",
       "  'Egalitarian'): ('Freshwater ecosystems', ('Global Warming',\n",
       "   '1000 year timescale',\n",
       "   'Egalitarian')),\n",
       " ('Global Warming - Freshwater ecosystems',\n",
       "  'Hierarchist'): ('Freshwater ecosystems', ('Global Warming',\n",
       "   '100 year timescale',\n",
       "   'Hierarchist')),\n",
       " ('Global Warming - Freshwater ecosystems',\n",
       "  'Individualist'): ('Freshwater ecosystems', ('Global Warming',\n",
       "   '20 year timescale',\n",
       "   'Individualist')),\n",
       " ('Global Warming - Human health', 'Egalitarian'): ('Human health',\n",
       "  ('Global Warming', '1000 year timescale', 'Egalitarian')),\n",
       " ('Global Warming - Human health', 'Hierarchist'): ('Human health',\n",
       "  ('Global Warming', '100 year timescale', 'Hierarchist')),\n",
       " ('Global Warming - Human health', 'Individualist'): ('Human health',\n",
       "  ('Global Warming', '20 year timescale', 'Individualist')),\n",
       " ('Global Warming - Terrestrial ecosystems',\n",
       "  'Egalitarian'): ('Terrestrial Ecosystems', ('Global Warming',\n",
       "   '1000 year timescale',\n",
       "   'Egalitarian')),\n",
       " ('Global Warming - Terrestrial ecosystems',\n",
       "  'Hierarchist'): ('Terrestrial Ecosystems', ('Global Warming',\n",
       "   '100 year timescale',\n",
       "   'Hierarchist')),\n",
       " ('Global Warming - Terrestrial ecosystems',\n",
       "  'Individualist'): ('Terrestrial Ecosystems', ('Global Warming',\n",
       "   '20 year timescale',\n",
       "   'Individualist')),\n",
       " ('Ionzing Radiation - Human health', 'Egalitarian'): ('Human health',\n",
       "  ('Ionizing Radiation', 'Egalitarian')),\n",
       " ('Ionzing Radiation - Human health', 'Hierarchist'): ('Human health',\n",
       "  ('Ionizing Radiation', 'Hierarchist')),\n",
       " ('Ionzing Radiation - Human health', 'Individualist'): ('Human health',\n",
       "  ('Ionizing Radiation', 'Individualist')),\n",
       " ('Land use - occupation', 'Egalitarian'): ('Terrestrial Ecosystems',\n",
       "  ('Land occupation',)),\n",
       " ('Land use - occupation', 'Hierarchist'): ('Terrestrial Ecosystems',\n",
       "  ('Land occupation',)),\n",
       " ('Land use - occupation', 'Individualist'): ('Terrestrial Ecosystems',\n",
       "  ('Land occupation',)),\n",
       " ('Land use - transformation', 'Egalitarian'): ('Terrestrial Ecosystems',\n",
       "  ('Land transformation',)),\n",
       " ('Land use - transformation', 'Hierarchist'): ('Terrestrial Ecosystems',\n",
       "  ('Land transformation',)),\n",
       " ('Land use - transformation', 'Individualist'): ('Terrestrial Ecosystems',\n",
       "  ('Land transformation',)),\n",
       " ('Photochemical ozone formation - Human health',\n",
       "  'Egalitarian'): ('Human health', ('Ozone Formation', 'Damage to Humans')),\n",
       " ('Photochemical ozone formation - Human health',\n",
       "  'Hierarchist'): ('Human health', ('Ozone Formation', 'Damage to Humans')),\n",
       " ('Photochemical ozone formation - Human health',\n",
       "  'Individualist'): ('Human health', ('Ozone Formation', 'Damage to Humans')),\n",
       " ('Photochemical ozone formation - Terrestrial ecosystems',\n",
       "  'Egalitarian'): ('Terrestrial Ecosystems',\n",
       "  ('Ozone Formation', 'Damage to Ecosystems')),\n",
       " ('Photochemical ozone formation - Terrestrial ecosystems',\n",
       "  'Hierarchist'): ('Terrestrial Ecosystems', ('Ozone Formation',\n",
       "   'Damage to Ecosystems')),\n",
       " ('Photochemical ozone formation - Terrestrial ecosystems',\n",
       "  'Individualist'): ('Terrestrial Ecosystems', ('Ozone Formation',\n",
       "   'Damage to Ecosystems')),\n",
       " ('Stratospheric ozone depletion - Human health',\n",
       "  'Egalitarian'): ('Human health', ('Stratospheric Ozone Depletion',\n",
       "   'Infinite timescale',\n",
       "   'Egalitarian')),\n",
       " ('Stratospheric ozone depletion - Human health',\n",
       "  'Hierarchist'): ('Human health', ('Stratospheric Ozone Depletion',\n",
       "   '100 year timescale',\n",
       "   'Hierarchist')),\n",
       " ('Stratospheric ozone depletion - Human health',\n",
       "  'Individualist'): ('Human health', ('Stratospheric Ozone Depletion',\n",
       "   '20 year timescale',\n",
       "   'Individualist')),\n",
       " ('Toxicity - Freshwater ecosystems', 'Egalitarian'): ('Freshwater ecosystems',\n",
       "  ('Ecotoxicity', 'Freshwater', 'Egalitarian')),\n",
       " ('Toxicity - Freshwater ecosystems', 'Hierarchist'): ('Freshwater ecosystems',\n",
       "  ('Ecotoxicity', 'Freshwater', 'Hierarchist')),\n",
       " ('Toxicity - Freshwater ecosystems',\n",
       "  'Individualist'): ('Freshwater ecosystems', ('Ecotoxicity',\n",
       "   'Freshwater',\n",
       "   'Individualist')),\n",
       " ('Toxicity - Human health (cancer)', 'Egalitarian'): ('Human health',\n",
       "  ('Toxicity', 'Carcinogenic', 'Egalitarian')),\n",
       " ('Toxicity - Human health (cancer)', 'Hierarchist'): ('Human health',\n",
       "  ('Toxicity', 'Carcinogenic', 'Hierarchist')),\n",
       " ('Toxicity - Human health (cancer)', 'Individualist'): ('Human health',\n",
       "  ('Toxicity', 'Carcinogenic', 'Individualist')),\n",
       " ('Toxicity - Human health (non-cancer)', 'Egalitarian'): ('Human health',\n",
       "  ('Toxicity', 'Non-carcinogenic', 'Egalitarian')),\n",
       " ('Toxicity - Human health (non-cancer)', 'Hierarchist'): ('Human health',\n",
       "  ('Toxicity', 'Non-carcinogenic', 'Hierarchist')),\n",
       " ('Toxicity - Human health (non-cancer)', 'Individualist'): ('Human health',\n",
       "  ('Toxicity', 'Non-carcinogenic', 'Individualist')),\n",
       " ('Toxicity - Marine ecosystems', 'Egalitarian'): ('Marine ecosystems',\n",
       "  ('Ecotoxicity', 'Marine', 'Egalitarian')),\n",
       " ('Toxicity - Marine ecosystems', 'Hierarchist'): ('Marine ecosystems',\n",
       "  ('Ecotoxicity', 'Marine', 'Hierarchist')),\n",
       " ('Toxicity - Marine ecosystems', 'Individualist'): ('Marine ecosystems',\n",
       "  ('Ecotoxicity', 'Marine', 'Individualist')),\n",
       " ('Toxicity - Terrestrial ecosystems',\n",
       "  'Egalitarian'): ('Terrestrial Ecosystems', ('Ecotoxicity',\n",
       "   'Terrestrial',\n",
       "   'Egalitarian')),\n",
       " ('Toxicity - Terrestrial ecosystems',\n",
       "  'Hierarchist'): ('Terrestrial Ecosystems', ('Ecotoxicity',\n",
       "   'Terrestrial',\n",
       "   'Hierarchist')),\n",
       " ('Toxicity - Terrestrial ecosystems',\n",
       "  'Individualist'): ('Terrestrial Ecosystems', ('Ecotoxicity',\n",
       "   'Terrestrial',\n",
       "   'Individualist')),\n",
       " ('Water consumption - human health', 'Egalitarian'): ('Human health',\n",
       "  ('Water consumption',)),\n",
       " ('Water consumption - human health', 'Hierarchist'): ('Human health',\n",
       "  ('Water consumption',)),\n",
       " ('Water consumption - human health', 'Individualist'): ('Human health',\n",
       "  ('Water consumption',)),\n",
       " ('Water consumption - terrestrial ecosystems',\n",
       "  'Egalitarian'): ('Terrestrial Ecosystems', ('Water consumption',)),\n",
       " ('Water consumption - terrestrial ecosystems',\n",
       "  'Hierarchist'): ('Terrestrial Ecosystems', ('Water consumption',)),\n",
       " ('Water consumption - terrestrial ecosystems',\n",
       "  'Individualist'): ('Terrestrial Ecosystems', ('Water consumption',)),\n",
       " ('Water consumption -aquatic ecosystems',\n",
       "  'Egalitarian'): ('Freshwater ecosystems', ('Water consumption',)),\n",
       " ('Water consumption -aquatic ecosystems',\n",
       "  'Hierarchist'): ('Freshwater ecosystems', ('Water consumption',)),\n",
       " ('Water consumption -aquatic ecosystems',\n",
       "  'Individualist'): ('Freshwater ecosystems', ('Water consumption',)),\n",
       " ('Mineral resource scarcity', 'Egalitarian'): ('Resources',\n",
       "  ('Mineral resource scarcity',)),\n",
       " ('Mineral resource scarcity', 'Hierarchist'): ('Resources',\n",
       "  ('Mineral resource scarcity',)),\n",
       " ('Mineral resource scarcity', 'Individualist'): ('Resources',\n",
       "  ('Mineral resource scarcity',))}"
      ]
     },
     "execution_count": 6,
     "metadata": {},
     "output_type": "execute_result"
    }
   ],
   "source": [
    "NAME_MAPPING = [\n",
    "    (('Acidification - Terrestrial ecosystems', 'Egalitarian'), 'Terrestrial Ecosystems', ('Terrestrial Acidification',)),\n",
    "    (('Acidification - Terrestrial ecosystems', 'Hierarchist'), 'Terrestrial Ecosystems', ('Terrestrial Acidification',)),\n",
    "    (('Acidification - Terrestrial ecosystems', 'Individualist'), 'Terrestrial Ecosystems', ('Terrestrial Acidification',)),\n",
    "    (('Eutrophication - Freshwater ecosystems', 'Egalitarian'), 'Freshwater ecosystems', ('Freshwater Eutrophication',)),\n",
    "    (('Eutrophication - Freshwater ecosystems', 'Hierarchist'), 'Freshwater ecosystems', ('Freshwater Eutrophication',)),\n",
    "    (('Eutrophication - Freshwater ecosystems', 'Individualist'), 'Freshwater ecosystems', ('Freshwater Eutrophication',)),\n",
    "    (('Eutrophication - Marine ecosystems', 'Egalitarian'), 'Marine ecosystems', ('Marine eutrophication',)),\n",
    "    (('Eutrophication - Marine ecosystems', 'Hierarchist'), 'Marine ecosystems', ('Marine eutrophication',)),\n",
    "    (('Eutrophication - Marine ecosystems', 'Individualist'), 'Marine ecosystems', ('Marine eutrophication',)),\n",
    "    (('Fine particulate matter formation - Human health', 'Egalitarian'), 'Human health', ('Particulate Matter Formation', 'Egalitarian')),\n",
    "    (('Fine particulate matter formation - Human health', 'Hierarchist'), 'Human health', ('Particulate Matter Formation', 'Hierarchist')),\n",
    "    (('Fine particulate matter formation - Human health', 'Individualist'), 'Human health', ('Particulate Matter Formation', 'Individualist')),\n",
    "    (('Global Warming - Freshwater ecosystems', 'Egalitarian'), 'Freshwater ecosystems', ('Global Warming', '1000 year timescale', 'Egalitarian')),\n",
    "    (('Global Warming - Freshwater ecosystems', 'Hierarchist'), 'Freshwater ecosystems', ('Global Warming', '100 year timescale', 'Hierarchist')),\n",
    "    (('Global Warming - Freshwater ecosystems', 'Individualist'), 'Freshwater ecosystems', ('Global Warming', '20 year timescale', 'Individualist')),\n",
    "    (('Global Warming - Human health', 'Egalitarian'), 'Human health', ('Global Warming', '1000 year timescale', 'Egalitarian')),\n",
    "    (('Global Warming - Human health', 'Hierarchist'), 'Human health', ('Global Warming', '100 year timescale', 'Hierarchist')),\n",
    "    (('Global Warming - Human health', 'Individualist'), 'Human health', ('Global Warming', '20 year timescale', 'Individualist')),\n",
    "    (('Global Warming - Terrestrial ecosystems', 'Egalitarian'), 'Terrestrial Ecosystems', ('Global Warming', '1000 year timescale', 'Egalitarian')),\n",
    "    (('Global Warming - Terrestrial ecosystems', 'Hierarchist'), 'Terrestrial Ecosystems', ('Global Warming', '100 year timescale', 'Hierarchist')),\n",
    "    (('Global Warming - Terrestrial ecosystems', 'Individualist'), 'Terrestrial Ecosystems', ('Global Warming', '20 year timescale', 'Individualist')),\n",
    "    (('Ionzing Radiation - Human health', 'Egalitarian'), 'Human health', ('Ionizing Radiation', 'Egalitarian')),\n",
    "    (('Ionzing Radiation - Human health', 'Hierarchist'), 'Human health', ('Ionizing Radiation', 'Hierarchist')),\n",
    "    (('Ionzing Radiation - Human health', 'Individualist'), 'Human health', ('Ionizing Radiation', 'Individualist')),\n",
    "    (('Land use - occupation', 'Egalitarian'), 'Terrestrial Ecosystems', ('Land occupation',)),\n",
    "    (('Land use - occupation', 'Hierarchist'), 'Terrestrial Ecosystems', ('Land occupation',)),\n",
    "    (('Land use - occupation', 'Individualist'), 'Terrestrial Ecosystems', ('Land occupation',)),\n",
    "    (('Land use - transformation', 'Egalitarian'), 'Terrestrial Ecosystems', ('Land transformation',)),\n",
    "    (('Land use - transformation', 'Hierarchist'), 'Terrestrial Ecosystems', ('Land transformation',)),\n",
    "    (('Land use - transformation', 'Individualist'), 'Terrestrial Ecosystems', ('Land transformation',)),\n",
    "    (('Photochemical ozone formation - Human health', 'Egalitarian'), 'Human health', ('Ozone Formation', 'Damage to Humans')),\n",
    "    (('Photochemical ozone formation - Human health', 'Hierarchist'), 'Human health', ('Ozone Formation', 'Damage to Humans')),\n",
    "    (('Photochemical ozone formation - Human health', 'Individualist'), 'Human health', ('Ozone Formation', 'Damage to Humans')),\n",
    "    (('Photochemical ozone formation - Terrestrial ecosystems', 'Egalitarian'), 'Terrestrial Ecosystems', ('Ozone Formation', 'Damage to Ecosystems')),\n",
    "    (('Photochemical ozone formation - Terrestrial ecosystems', 'Hierarchist'), 'Terrestrial Ecosystems', ('Ozone Formation', 'Damage to Ecosystems')),\n",
    "    (('Photochemical ozone formation - Terrestrial ecosystems', 'Individualist'), 'Terrestrial Ecosystems', ('Ozone Formation', 'Damage to Ecosystems')),\n",
    "    (('Stratospheric ozone depletion - Human health', 'Egalitarian'), 'Human health', ('Stratospheric Ozone Depletion', 'Infinite timescale', 'Egalitarian')),\n",
    "    (('Stratospheric ozone depletion - Human health', 'Hierarchist'), 'Human health', ('Stratospheric Ozone Depletion', '100 year timescale', 'Hierarchist')),\n",
    "    (('Stratospheric ozone depletion - Human health', 'Individualist'), 'Human health', ('Stratospheric Ozone Depletion', '20 year timescale', 'Individualist')),\n",
    "    (('Toxicity - Freshwater ecosystems', 'Egalitarian'), 'Freshwater ecosystems', ('Ecotoxicity', 'Freshwater', 'Egalitarian')),\n",
    "    (('Toxicity - Freshwater ecosystems', 'Hierarchist'), 'Freshwater ecosystems', ('Ecotoxicity', 'Freshwater', 'Hierarchist')),\n",
    "    (('Toxicity - Freshwater ecosystems', 'Individualist'), 'Freshwater ecosystems', ('Ecotoxicity', 'Freshwater', 'Individualist')),\n",
    "    (('Toxicity - Human health (cancer)', 'Egalitarian'), 'Human health', ('Toxicity', 'Carcinogenic', 'Egalitarian')),\n",
    "    (('Toxicity - Human health (cancer)', 'Hierarchist'), 'Human health', ('Toxicity', 'Carcinogenic', 'Hierarchist')),\n",
    "    (('Toxicity - Human health (cancer)', 'Individualist'), 'Human health', ('Toxicity', 'Carcinogenic', 'Individualist')),\n",
    "    (('Toxicity - Human health (non-cancer)', 'Egalitarian'), 'Human health', ('Toxicity', 'Non-carcinogenic', 'Egalitarian')),\n",
    "    (('Toxicity - Human health (non-cancer)', 'Hierarchist'), 'Human health', ('Toxicity', 'Non-carcinogenic', 'Hierarchist')),\n",
    "    (('Toxicity - Human health (non-cancer)', 'Individualist'), 'Human health', ('Toxicity', 'Non-carcinogenic', 'Individualist')),\n",
    "    (('Toxicity - Marine ecosystems', 'Egalitarian'), 'Marine ecosystems', ('Ecotoxicity', 'Marine', 'Egalitarian')),\n",
    "    (('Toxicity - Marine ecosystems', 'Hierarchist'), 'Marine ecosystems', ('Ecotoxicity', 'Marine', 'Hierarchist')),\n",
    "    (('Toxicity - Marine ecosystems', 'Individualist'), 'Marine ecosystems', ('Ecotoxicity', 'Marine', 'Individualist')),\n",
    "    (('Toxicity - Terrestrial ecosystems', 'Egalitarian'), 'Terrestrial Ecosystems', ('Ecotoxicity', 'Terrestrial', 'Egalitarian')),\n",
    "    (('Toxicity - Terrestrial ecosystems', 'Hierarchist'), 'Terrestrial Ecosystems', ('Ecotoxicity', 'Terrestrial', 'Hierarchist')),\n",
    "    (('Toxicity - Terrestrial ecosystems', 'Individualist'), 'Terrestrial Ecosystems', ('Ecotoxicity', 'Terrestrial', 'Individualist')),\n",
    "    (('Water consumption - human health', 'Egalitarian'), 'Human health', ('Water consumption',)),\n",
    "    (('Water consumption - human health', 'Hierarchist'), 'Human health', ('Water consumption',)),\n",
    "    (('Water consumption - human health', 'Individualist'), 'Human health', ('Water consumption',)),\n",
    "    (('Water consumption - terrestrial ecosystems', 'Egalitarian'), 'Terrestrial Ecosystems', ('Water consumption',)),\n",
    "    (('Water consumption - terrestrial ecosystems', 'Hierarchist'), 'Terrestrial Ecosystems', ('Water consumption',)),\n",
    "    (('Water consumption - terrestrial ecosystems', 'Individualist'), 'Terrestrial Ecosystems', ('Water consumption',)),\n",
    "    (('Water consumption -aquatic ecosystems', 'Egalitarian'), 'Freshwater ecosystems', ('Water consumption',)),\n",
    "    (('Water consumption -aquatic ecosystems', 'Hierarchist'), 'Freshwater ecosystems', ('Water consumption',)),\n",
    "    (('Water consumption -aquatic ecosystems', 'Individualist'), 'Freshwater ecosystems', ('Water consumption',)),\n",
    "    (('Mineral resource scarcity', 'Egalitarian'), 'Resources', ('Mineral resource scarcity',)),\n",
    "    (('Mineral resource scarcity', 'Hierarchist'), 'Resources', ('Mineral resource scarcity',)),\n",
    "    (('Mineral resource scarcity', 'Individualist'), 'Resources', ('Mineral resource scarcity',)),\n",
    "]\n",
    "\n",
    "{a: (b, c) for a,b,c in NAME_MAPPING}"
   ]
  },
  {
   "cell_type": "code",
   "execution_count": 6,
   "metadata": {},
   "outputs": [
    {
     "name": "stdout",
     "output_type": "stream",
     "text": [
      "Wrote 3 LCIA methods with 15 characterization factors\n"
     ]
    }
   ],
   "source": [
    "gw.write_methods(overwrite=True)"
   ]
  },
  {
   "cell_type": "code",
   "execution_count": 7,
   "metadata": {},
   "outputs": [
    {
     "data": {
      "text/plain": [
       "('ReCiPe 2016',\n",
       " 'v1.1 (20180117)',\n",
       " 'Endpoint',\n",
       " 'Fossil resource scarcity',\n",
       " 'Individualist')"
      ]
     },
     "execution_count": 7,
     "metadata": {},
     "output_type": "execute_result"
    }
   ],
   "source": [
    "gw.data[0]['name']"
   ]
  },
  {
   "cell_type": "code",
   "execution_count": 12,
   "metadata": {},
   "outputs": [
    {
     "data": {
      "text/plain": [
       "-0.015002145000389636"
      ]
     },
     "execution_count": 12,
     "metadata": {},
     "output_type": "execute_result"
    }
   ],
   "source": [
    "from bw2calc import LCA\n",
    "from bw2data import Database\n",
    "lca = LCA({next(iter(Database(\"ecoinvent 3.6 cutoff\"))): 1}, gw.data[0]['name'])\n",
    "lca.lci()\n",
    "lca.lcia()\n",
    "lca.score"
   ]
  }
 ],
 "metadata": {
  "kernelspec": {
   "display_name": "Python 3",
   "language": "python",
   "name": "python3"
  },
  "language_info": {
   "codemirror_mode": {
    "name": "ipython",
    "version": 3
   },
   "file_extension": ".py",
   "mimetype": "text/x-python",
   "name": "python",
   "nbconvert_exporter": "python",
   "pygments_lexer": "ipython3",
   "version": "3.7.6"
  }
 },
 "nbformat": 4,
 "nbformat_minor": 4
}
