{
 "cells": [
  {
   "cell_type": "code",
   "execution_count": 1,
   "metadata": {},
   "outputs": [],
   "source": [
    "from bw_recipe_2016 import (\n",
    "    FossilResourceScarcityEndpoint,\n",
    "    get_biosphere_database, \n",
    "    extract_recipe,\n",
    ")"
   ]
  },
  {
   "cell_type": "code",
   "execution_count": 2,
   "metadata": {},
   "outputs": [],
   "source": [
    "biosphere = get_biosphere_database()"
   ]
  },
  {
   "cell_type": "code",
   "execution_count": 3,
   "metadata": {},
   "outputs": [],
   "source": [
    "gw = FossilResourceScarcityEndpoint(biosphere)"
   ]
  },
  {
   "cell_type": "code",
   "execution_count": 4,
   "metadata": {},
   "outputs": [
    {
     "name": "stdout",
     "output_type": "stream",
     "text": [
      "Applying strategy: match_multiple\n",
      "Applied 1 strategies in 0.01 seconds\n"
     ]
    }
   ],
   "source": [
    "gw.apply_strategies()"
   ]
  },
  {
   "cell_type": "code",
   "execution_count": 5,
   "metadata": {},
   "outputs": [
    {
     "name": "stdout",
     "output_type": "stream",
     "text": [
      "3 methods\n",
      "15 cfs\n",
      "0 unlinked cfs\n"
     ]
    },
    {
     "data": {
      "text/plain": [
       "(3, 15, 0)"
      ]
     },
     "execution_count": 5,
     "metadata": {},
     "output_type": "execute_result"
    }
   ],
   "source": [
    "gw.statistics()"
   ]
  },
  {
   "cell_type": "code",
   "execution_count": 6,
   "metadata": {},
   "outputs": [
    {
     "name": "stdout",
     "output_type": "stream",
     "text": [
      "Wrote 3 LCIA methods with 15 characterization factors\n"
     ]
    }
   ],
   "source": [
    "gw.write_methods(overwrite=True)"
   ]
  },
  {
   "cell_type": "code",
   "execution_count": 7,
   "metadata": {},
   "outputs": [
    {
     "data": {
      "text/plain": [
       "('ReCiPe 2016',\n",
       " 'v1.1 (20180117)',\n",
       " 'Endpoint',\n",
       " 'Fossil resource scarcity',\n",
       " 'Individualist')"
      ]
     },
     "execution_count": 7,
     "metadata": {},
     "output_type": "execute_result"
    }
   ],
   "source": [
    "gw.data[0]['name']"
   ]
  },
  {
   "cell_type": "code",
   "execution_count": 12,
   "metadata": {},
   "outputs": [
    {
     "data": {
      "text/plain": [
       "-0.015002145000389636"
      ]
     },
     "execution_count": 12,
     "metadata": {},
     "output_type": "execute_result"
    }
   ],
   "source": [
    "from bw2calc import LCA\n",
    "from bw2data import Database\n",
    "lca = LCA({next(iter(Database(\"ecoinvent 3.6 cutoff\"))): 1}, gw.data[0]['name'])\n",
    "lca.lci()\n",
    "lca.lcia()\n",
    "lca.score"
   ]
  }
 ],
 "metadata": {
  "kernelspec": {
   "display_name": "Python 3",
   "language": "python",
   "name": "python3"
  },
  "language_info": {
   "codemirror_mode": {
    "name": "ipython",
    "version": 3
   },
   "file_extension": ".py",
   "mimetype": "text/x-python",
   "name": "python",
   "nbconvert_exporter": "python",
   "pygments_lexer": "ipython3",
   "version": "3.7.6"
  }
 },
 "nbformat": 4,
 "nbformat_minor": 4
}
