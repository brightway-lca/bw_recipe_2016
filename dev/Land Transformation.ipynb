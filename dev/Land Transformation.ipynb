{
 "cells": [
  {
   "cell_type": "code",
   "execution_count": 1,
   "metadata": {},
   "outputs": [],
   "source": [
    "from bw_recipe_2016 import (\n",
    "    LandTransformation,\n",
    "    get_biosphere_database, \n",
    "    extract_recipe,\n",
    ")"
   ]
  },
  {
   "cell_type": "code",
   "execution_count": 2,
   "metadata": {},
   "outputs": [],
   "source": [
    "data = extract_recipe()[16]"
   ]
  },
  {
   "cell_type": "code",
   "execution_count": 3,
   "metadata": {},
   "outputs": [],
   "source": [
    "biosphere = get_biosphere_database()"
   ]
  },
  {
   "cell_type": "code",
   "execution_count": 4,
   "metadata": {},
   "outputs": [],
   "source": [
    "gw = LandTransformation(data, biosphere)"
   ]
  },
  {
   "cell_type": "code",
   "execution_count": 5,
   "metadata": {},
   "outputs": [
    {
     "name": "stdout",
     "output_type": "stream",
     "text": [
      "Applying strategy: generic_reformat\n",
      "Applying strategy: set_unit\n",
      "Applying strategy: complete_method_name\n",
      "Applying strategy: match_multiple\n",
      "Applied 4 strategies in 0.01 seconds\n"
     ]
    }
   ],
   "source": [
    "gw.apply_strategies()"
   ]
  },
  {
   "cell_type": "code",
   "execution_count": 6,
   "metadata": {},
   "outputs": [
    {
     "data": {
      "text/plain": [
       "{'name': ('ReCiPe 2016', 'v1.1 (20180117)', 'Land transformation'),\n",
       " 'unit': 'm2∙annual crop eq',\n",
       " 'filename': 'ReCiPe2016_CFs_v1.1_20180117.xlsx',\n",
       " 'description': '',\n",
       " 'exchanges': [{'name': 'Transformation, from grassland, natural (non-use)',\n",
       "   'categories': '',\n",
       "   'amount': 3.75,\n",
       "   'input': ('biosphere3', 'b905c2e0-a0db-4e66-80d2-8bdfc93c6218')},\n",
       "  {'name': 'Transformation, from forest, primary (non-use)',\n",
       "   'categories': '',\n",
       "   'amount': 36.75,\n",
       "   'input': ('biosphere3', '9d136389-8670-45ae-ad1d-a06848a1fd1d')},\n",
       "  {'name': 'Transformation, from forest, secondary (non-use)',\n",
       "   'categories': '',\n",
       "   'amount': 36.75,\n",
       "   'input': ('biosphere3', '9cc80820-fcf9-4ea9-8e67-0aa423eba6a4')},\n",
       "  {'name': 'Transformation, from shrub land, sclerophyllous',\n",
       "   'categories': '',\n",
       "   'amount': 3.75,\n",
       "   'input': ('biosphere3', '17a5a406-333f-4b9e-8852-c2de50bc9585')},\n",
       "  {'name': 'Transformation, from wetland, inland (non-use)',\n",
       "   'categories': '',\n",
       "   'amount': 3.75,\n",
       "   'input': ('biosphere3', '0782d8ff-80e5-47a7-a2ba-3ba40ab60b60')},\n",
       "  {'name': 'Transformation, to shrub land, sclerophyllous',\n",
       "   'categories': '',\n",
       "   'amount': -3.75,\n",
       "   'input': ('biosphere3', '9089d7ad-09b1-4174-a188-8844ebde2d5d')},\n",
       "  {'name': 'Transformation, to forest, secondary (non-use)',\n",
       "   'categories': '',\n",
       "   'amount': -36.75,\n",
       "   'input': ('biosphere3', 'ff6dccc1-5ebd-42c3-9fd9-3d73db7a3dd2')},\n",
       "  {'name': 'Transformation, to wetland, inland (non-use)',\n",
       "   'categories': '',\n",
       "   'amount': -3.75,\n",
       "   'input': ('biosphere3', 'd36dd104-5214-4ca2-b1ab-c878987a42fe')},\n",
       "  {'name': 'Transformation, to grassland, natural (non-use)',\n",
       "   'categories': '',\n",
       "   'amount': -3.75,\n",
       "   'input': ('biosphere3', 'fe17e7c1-9574-4880-b7e6-ec09c2e3ae5d')}]}"
      ]
     },
     "execution_count": 6,
     "metadata": {},
     "output_type": "execute_result"
    }
   ],
   "source": [
    "gw.data[0]"
   ]
  },
  {
   "cell_type": "code",
   "execution_count": 7,
   "metadata": {},
   "outputs": [
    {
     "name": "stdout",
     "output_type": "stream",
     "text": [
      "Wrote matching file to:\n",
      "/Users/cmutel/Library/Application Support/Brightway3/default.c21f969b/output/lcia-matching-land_transformation.xlsx\n"
     ]
    }
   ],
   "source": [
    "gw.write_excel(\"land_transformation\")"
   ]
  },
  {
   "cell_type": "code",
   "execution_count": 8,
   "metadata": {},
   "outputs": [
    {
     "name": "stdout",
     "output_type": "stream",
     "text": [
      "1 methods\n",
      "9 cfs\n",
      "0 unlinked cfs\n"
     ]
    },
    {
     "data": {
      "text/plain": [
       "(1, 9, 0)"
      ]
     },
     "execution_count": 8,
     "metadata": {},
     "output_type": "execute_result"
    }
   ],
   "source": [
    "gw.statistics()"
   ]
  },
  {
   "cell_type": "code",
   "execution_count": 9,
   "metadata": {},
   "outputs": [],
   "source": [
    "comp = gw.compare_to_previous()"
   ]
  },
  {
   "cell_type": "code",
   "execution_count": 10,
   "metadata": {},
   "outputs": [
    {
     "name": "stdout",
     "output_type": "stream",
     "text": [
      "'Transformation, from annual crop' (square meter, None, ('natural resource', 'land'))\n",
      "'Transformation, from annual crop, flooded crop' (square meter, None, ('natural resource', 'land'))\n",
      "'Transformation, from annual crop, greenhouse' (square meter, None, ('natural resource', 'land'))\n",
      "'Transformation, from annual crop, irrigated' (square meter, None, ('natural resource', 'land'))\n",
      "'Transformation, from annual crop, irrigated, extensive' (square meter, None, ('natural resource', 'land'))\n",
      "'Transformation, from annual crop, irrigated, intensive' (square meter, None, ('natural resource', 'land'))\n",
      "'Transformation, from annual crop, non-irrigated' (square meter, None, ('natural resource', 'land'))\n",
      "'Transformation, from annual crop, non-irrigated, extensive' (square meter, None, ('natural resource', 'land'))\n",
      "'Transformation, from annual crop, non-irrigated, intensive' (square meter, None, ('natural resource', 'land'))\n",
      "'Transformation, from arable land, unspecified use' (square meter, None, ('natural resource', 'land'))\n",
      "'Transformation, from bare area (non-use)' (square meter, None, ('natural resource', 'land'))\n",
      "'Transformation, from cropland fallow (non-use)' (square meter, None, ('natural resource', 'land'))\n",
      "'Transformation, from dump site' (square meter, None, ('natural resource', 'land'))\n",
      "'Transformation, from dump site, inert material landfill' (square meter, None, ('natural resource', 'land'))\n",
      "'Transformation, from dump site, residual material landfill' (square meter, None, ('natural resource', 'land'))\n",
      "'Transformation, from dump site, sanitary landfill' (square meter, None, ('natural resource', 'land'))\n",
      "'Transformation, from dump site, slag compartment' (square meter, None, ('natural resource', 'land'))\n",
      "'Transformation, from field margin/hedgerow' (square meter, None, ('natural resource', 'land'))\n",
      "'Transformation, from forest, extensive' (square meter, None, ('natural resource', 'land'))\n",
      "'Transformation, from forest, intensive' (square meter, None, ('natural resource', 'land'))\n",
      "'Transformation, from forest, primary (non-use)' (square meter, None, ('natural resource', 'land'))\n",
      "'Transformation, from forest, secondary (non-use)' (square meter, None, ('natural resource', 'land'))\n",
      "'Transformation, from forest, unspecified' (square meter, None, ('natural resource', 'land'))\n",
      "'Transformation, from grassland, natural (non-use)' (square meter, None, ('natural resource', 'land'))\n",
      "'Transformation, from grassland, natural, for livestock grazing' (square meter, None, ('natural resource', 'land'))\n",
      "'Transformation, from heterogeneous, agricultural' (square meter, None, ('natural resource', 'land'))\n",
      "'Transformation, from industrial area' (square meter, None, ('natural resource', 'land'))\n",
      "'Transformation, from inland waterbody, unspecified' (square meter, None, ('natural resource', 'land'))\n",
      "'Transformation, from lake, artificial' (square meter, None, ('natural resource', 'land'))\n",
      "'Transformation, from lake, natural (non-use)' (square meter, None, ('natural resource', 'land'))\n",
      "'Transformation, from mineral extraction site' (square meter, None, ('natural resource', 'land'))\n",
      "'Transformation, from pasture, man made' (square meter, None, ('natural resource', 'land'))\n",
      "'Transformation, from pasture, man made, extensive' (square meter, None, ('natural resource', 'land'))\n",
      "'Transformation, from pasture, man made, intensive' (square meter, None, ('natural resource', 'land'))\n",
      "'Transformation, from permanent crop' (square meter, None, ('natural resource', 'land'))\n",
      "'Transformation, from permanent crop, irrigated' (square meter, None, ('natural resource', 'land'))\n",
      "'Transformation, from permanent crop, irrigated, extensive' (square meter, None, ('natural resource', 'land'))\n",
      "'Transformation, from permanent crop, irrigated, intensive' (square meter, None, ('natural resource', 'land'))\n",
      "'Transformation, from permanent crop, non-irrigated' (square meter, None, ('natural resource', 'land'))\n",
      "'Transformation, from permanent crop, non-irrigated, extensive' (square meter, None, ('natural resource', 'land'))\n",
      "'Transformation, from permanent crop, non-irrigated, intensive' (square meter, None, ('natural resource', 'land'))\n",
      "'Transformation, from river, artificial' (square meter, None, ('natural resource', 'land'))\n",
      "'Transformation, from river, natural (non-use)' (square meter, None, ('natural resource', 'land'))\n",
      "'Transformation, from seabed, drilling and mining' (square meter, None, ('natural resource', 'land'))\n",
      "'Transformation, from seabed, infrastructure' (square meter, None, ('natural resource', 'land'))\n",
      "'Transformation, from seabed, natural (non-use)' (square meter, None, ('natural resource', 'land'))\n",
      "'Transformation, from seabed, unspecified' (square meter, None, ('natural resource', 'land'))\n",
      "'Transformation, from shrub land, sclerophyllous' (square meter, None, ('natural resource', 'land'))\n",
      "'Transformation, from snow and ice (non-use)' (square meter, None, ('natural resource', 'land'))\n",
      "'Transformation, from traffic area, rail network' (square meter, None, ('natural resource', 'land'))\n",
      "'Transformation, from traffic area, rail/road embankment' (square meter, None, ('natural resource', 'land'))\n",
      "'Transformation, from traffic area, road network' (square meter, None, ('natural resource', 'land'))\n",
      "'Transformation, from unspecified' (square meter, None, ('natural resource', 'land'))\n",
      "'Transformation, from unspecified, natural (non-use)' (square meter, None, ('natural resource', 'land'))\n",
      "'Transformation, from urban, continuously built' (square meter, None, ('natural resource', 'land'))\n",
      "'Transformation, from urban, discontinuously built' (square meter, None, ('natural resource', 'land'))\n",
      "'Transformation, from urban, green area' (square meter, None, ('natural resource', 'land'))\n",
      "'Transformation, from urban/industrial fallow (non-use)' (square meter, None, ('natural resource', 'land'))\n",
      "'Transformation, from wetland, coastal (non-use)' (square meter, None, ('natural resource', 'land'))\n",
      "'Transformation, from wetland, inland (non-use)' (square meter, None, ('natural resource', 'land'))\n",
      "'Transformation, to annual crop' (square meter, None, ('natural resource', 'land'))\n",
      "'Transformation, to annual crop, flooded crop' (square meter, None, ('natural resource', 'land'))\n",
      "'Transformation, to annual crop, greenhouse' (square meter, None, ('natural resource', 'land'))\n",
      "'Transformation, to annual crop, irrigated' (square meter, None, ('natural resource', 'land'))\n",
      "'Transformation, to annual crop, irrigated, extensive' (square meter, None, ('natural resource', 'land'))\n",
      "'Transformation, to annual crop, irrigated, intensive' (square meter, None, ('natural resource', 'land'))\n",
      "'Transformation, to annual crop, non-irrigated' (square meter, None, ('natural resource', 'land'))\n",
      "'Transformation, to annual crop, non-irrigated, extensive' (square meter, None, ('natural resource', 'land'))\n",
      "'Transformation, to annual crop, non-irrigated, intensive' (square meter, None, ('natural resource', 'land'))\n",
      "'Transformation, to arable land, unspecified use' (square meter, None, ('natural resource', 'land'))\n",
      "'Transformation, to bare area (non-use)' (square meter, None, ('natural resource', 'land'))\n",
      "'Transformation, to cropland fallow (non-use)' (square meter, None, ('natural resource', 'land'))\n",
      "'Transformation, to dump site' (square meter, None, ('natural resource', 'land'))\n",
      "'Transformation, to dump site, inert material landfill' (square meter, None, ('natural resource', 'land'))\n",
      "'Transformation, to dump site, residual material landfill' (square meter, None, ('natural resource', 'land'))\n",
      "'Transformation, to dump site, sanitary landfill' (square meter, None, ('natural resource', 'land'))\n",
      "'Transformation, to dump site, slag compartment' (square meter, None, ('natural resource', 'land'))\n",
      "'Transformation, to field margin/hedgerow' (square meter, None, ('natural resource', 'land'))\n",
      "'Transformation, to forest, extensive' (square meter, None, ('natural resource', 'land'))\n",
      "'Transformation, to forest, intensive' (square meter, None, ('natural resource', 'land'))\n",
      "'Transformation, to forest, primary (non-use)' (square meter, None, ('natural resource', 'land'))\n",
      "'Transformation, to forest, secondary (non-use)' (square meter, None, ('natural resource', 'land'))\n",
      "'Transformation, to forest, unspecified' (square meter, None, ('natural resource', 'land'))\n",
      "'Transformation, to grassland, natural (non-use)' (square meter, None, ('natural resource', 'land'))\n",
      "'Transformation, to grassland, natural, for livestock grazing' (square meter, None, ('natural resource', 'land'))\n",
      "'Transformation, to heterogeneous, agricultural' (square meter, None, ('natural resource', 'land'))\n",
      "'Transformation, to industrial area' (square meter, None, ('natural resource', 'land'))\n",
      "'Transformation, to inland waterbody, unspecified' (square meter, None, ('natural resource', 'land'))\n",
      "'Transformation, to lake, artificial' (square meter, None, ('natural resource', 'land'))\n",
      "'Transformation, to lake, natural (non-use)' (square meter, None, ('natural resource', 'land'))\n",
      "'Transformation, to mineral extraction site' (square meter, None, ('natural resource', 'land'))\n",
      "'Transformation, to pasture, man made' (square meter, None, ('natural resource', 'land'))\n",
      "'Transformation, to pasture, man made, extensive' (square meter, None, ('natural resource', 'land'))\n",
      "'Transformation, to pasture, man made, intensive' (square meter, None, ('natural resource', 'land'))\n",
      "'Transformation, to permanent crop' (square meter, None, ('natural resource', 'land'))\n",
      "'Transformation, to permanent crop, irrigated' (square meter, None, ('natural resource', 'land'))\n",
      "'Transformation, to permanent crop, irrigated, extensive' (square meter, None, ('natural resource', 'land'))\n",
      "'Transformation, to permanent crop, irrigated, intensive' (square meter, None, ('natural resource', 'land'))\n",
      "'Transformation, to permanent crop, non-irrigated' (square meter, None, ('natural resource', 'land'))\n",
      "'Transformation, to permanent crop, non-irrigated, extensive' (square meter, None, ('natural resource', 'land'))\n",
      "'Transformation, to permanent crop, non-irrigated, intensive' (square meter, None, ('natural resource', 'land'))\n",
      "'Transformation, to river, artificial' (square meter, None, ('natural resource', 'land'))\n",
      "'Transformation, to river, natural (non-use)' (square meter, None, ('natural resource', 'land'))\n",
      "'Transformation, to seabed, drilling and mining' (square meter, None, ('natural resource', 'land'))\n",
      "'Transformation, to seabed, infrastructure' (square meter, None, ('natural resource', 'land'))\n",
      "'Transformation, to seabed, natural (non-use)' (square meter, None, ('natural resource', 'land'))\n",
      "'Transformation, to seabed, unspecified' (square meter, None, ('natural resource', 'land'))\n",
      "'Transformation, to shrub land, sclerophyllous' (square meter, None, ('natural resource', 'land'))\n",
      "'Transformation, to snow and ice (non-use)' (square meter, None, ('natural resource', 'land'))\n",
      "'Transformation, to traffic area, rail network' (square meter, None, ('natural resource', 'land'))\n",
      "'Transformation, to traffic area, rail/road embankment' (square meter, None, ('natural resource', 'land'))\n",
      "'Transformation, to traffic area, road network' (square meter, None, ('natural resource', 'land'))\n",
      "'Transformation, to unspecified' (square meter, None, ('natural resource', 'land'))\n",
      "'Transformation, to unspecified, natural (non-use)' (square meter, None, ('natural resource', 'land'))\n",
      "'Transformation, to urban, continuously built' (square meter, None, ('natural resource', 'land'))\n",
      "'Transformation, to urban, discontinuously built' (square meter, None, ('natural resource', 'land'))\n",
      "'Transformation, to urban, green area' (square meter, None, ('natural resource', 'land'))\n",
      "'Transformation, to urban/industrial fallow (non-use)' (square meter, None, ('natural resource', 'land'))\n",
      "'Transformation, to wetland, coastal (non-use)' (square meter, None, ('natural resource', 'land'))\n",
      "'Transformation, to wetland, inland (non-use)' (square meter, None, ('natural resource', 'land'))\n"
     ]
    }
   ],
   "source": [
    "import bw2data\n",
    "\n",
    "for flow, cf in bw2data.Method(gw.previous_reference).load():\n",
    "    print(bw2data.get_activity(flow))"
   ]
  },
  {
   "cell_type": "code",
   "execution_count": 11,
   "metadata": {},
   "outputs": [
    {
     "data": {
      "text/plain": [
       "[('found', 9), ('missing', 0), ('reference', 120)]"
      ]
     },
     "execution_count": 11,
     "metadata": {},
     "output_type": "execute_result"
    }
   ],
   "source": [
    "[(key, len(comp[key])) for key in comp]"
   ]
  },
  {
   "cell_type": "markdown",
   "metadata": {},
   "source": [
    "Present in previous ReCiPe, missing here"
   ]
  },
  {
   "cell_type": "code",
   "execution_count": 13,
   "metadata": {},
   "outputs": [
    {
     "data": {
      "text/plain": [
       "{'phosphate', 'phosphoric acid', 'phosphorus'}"
      ]
     },
     "execution_count": 13,
     "metadata": {},
     "output_type": "execute_result"
    }
   ],
   "source": [
    "comp['reference']"
   ]
  },
  {
   "cell_type": "code",
   "execution_count": 14,
   "metadata": {},
   "outputs": [
    {
     "data": {
      "text/plain": [
       "{'phosphate', 'phosphoric acid', 'phosphorus'}"
      ]
     },
     "execution_count": 14,
     "metadata": {},
     "output_type": "execute_result"
    }
   ],
   "source": [
    "comp['found']"
   ]
  },
  {
   "cell_type": "code",
   "execution_count": 12,
   "metadata": {},
   "outputs": [
    {
     "data": {
      "text/plain": [
       "['transformation, from annual crop',\n",
       " 'transformation, from annual crop, flooded crop',\n",
       " 'transformation, from annual crop, greenhouse',\n",
       " 'transformation, from annual crop, irrigated',\n",
       " 'transformation, from annual crop, irrigated, extensive',\n",
       " 'transformation, from annual crop, irrigated, intensive',\n",
       " 'transformation, from annual crop, non-irrigated',\n",
       " 'transformation, from annual crop, non-irrigated, extensive',\n",
       " 'transformation, from annual crop, non-irrigated, intensive',\n",
       " 'transformation, from arable land, unspecified use',\n",
       " 'transformation, from bare area (non-use)',\n",
       " 'transformation, from cropland fallow (non-use)',\n",
       " 'transformation, from dump site',\n",
       " 'transformation, from dump site, inert material landfill',\n",
       " 'transformation, from dump site, residual material landfill',\n",
       " 'transformation, from dump site, sanitary landfill',\n",
       " 'transformation, from dump site, slag compartment',\n",
       " 'transformation, from field margin/hedgerow',\n",
       " 'transformation, from forest, extensive',\n",
       " 'transformation, from forest, intensive',\n",
       " 'transformation, from forest, unspecified',\n",
       " 'transformation, from grassland, natural, for livestock grazing',\n",
       " 'transformation, from heterogeneous, agricultural',\n",
       " 'transformation, from industrial area',\n",
       " 'transformation, from inland waterbody, unspecified',\n",
       " 'transformation, from lake, artificial',\n",
       " 'transformation, from lake, natural (non-use)',\n",
       " 'transformation, from mineral extraction site',\n",
       " 'transformation, from pasture, man made',\n",
       " 'transformation, from pasture, man made, extensive',\n",
       " 'transformation, from pasture, man made, intensive',\n",
       " 'transformation, from permanent crop',\n",
       " 'transformation, from permanent crop, irrigated',\n",
       " 'transformation, from permanent crop, irrigated, extensive',\n",
       " 'transformation, from permanent crop, irrigated, intensive',\n",
       " 'transformation, from permanent crop, non-irrigated',\n",
       " 'transformation, from permanent crop, non-irrigated, extensive',\n",
       " 'transformation, from permanent crop, non-irrigated, intensive',\n",
       " 'transformation, from river, artificial',\n",
       " 'transformation, from river, natural (non-use)',\n",
       " 'transformation, from seabed, drilling and mining',\n",
       " 'transformation, from seabed, infrastructure',\n",
       " 'transformation, from seabed, natural (non-use)',\n",
       " 'transformation, from seabed, unspecified',\n",
       " 'transformation, from snow and ice (non-use)',\n",
       " 'transformation, from traffic area, rail network',\n",
       " 'transformation, from traffic area, rail/road embankment',\n",
       " 'transformation, from traffic area, road network',\n",
       " 'transformation, from unspecified',\n",
       " 'transformation, from unspecified, natural (non-use)',\n",
       " 'transformation, from urban, continuously built',\n",
       " 'transformation, from urban, discontinuously built',\n",
       " 'transformation, from urban, green area',\n",
       " 'transformation, from urban/industrial fallow (non-use)',\n",
       " 'transformation, from wetland, coastal (non-use)',\n",
       " 'transformation, to annual crop',\n",
       " 'transformation, to annual crop, flooded crop',\n",
       " 'transformation, to annual crop, greenhouse',\n",
       " 'transformation, to annual crop, irrigated',\n",
       " 'transformation, to annual crop, irrigated, extensive',\n",
       " 'transformation, to annual crop, irrigated, intensive',\n",
       " 'transformation, to annual crop, non-irrigated',\n",
       " 'transformation, to annual crop, non-irrigated, extensive',\n",
       " 'transformation, to annual crop, non-irrigated, intensive',\n",
       " 'transformation, to arable land, unspecified use',\n",
       " 'transformation, to bare area (non-use)',\n",
       " 'transformation, to cropland fallow (non-use)',\n",
       " 'transformation, to dump site',\n",
       " 'transformation, to dump site, inert material landfill',\n",
       " 'transformation, to dump site, residual material landfill',\n",
       " 'transformation, to dump site, sanitary landfill',\n",
       " 'transformation, to dump site, slag compartment',\n",
       " 'transformation, to field margin/hedgerow',\n",
       " 'transformation, to forest, extensive',\n",
       " 'transformation, to forest, intensive',\n",
       " 'transformation, to forest, primary (non-use)',\n",
       " 'transformation, to forest, unspecified',\n",
       " 'transformation, to grassland, natural, for livestock grazing',\n",
       " 'transformation, to heterogeneous, agricultural',\n",
       " 'transformation, to industrial area',\n",
       " 'transformation, to inland waterbody, unspecified',\n",
       " 'transformation, to lake, artificial',\n",
       " 'transformation, to lake, natural (non-use)',\n",
       " 'transformation, to mineral extraction site',\n",
       " 'transformation, to pasture, man made',\n",
       " 'transformation, to pasture, man made, extensive',\n",
       " 'transformation, to pasture, man made, intensive',\n",
       " 'transformation, to permanent crop',\n",
       " 'transformation, to permanent crop, irrigated',\n",
       " 'transformation, to permanent crop, irrigated, extensive',\n",
       " 'transformation, to permanent crop, irrigated, intensive',\n",
       " 'transformation, to permanent crop, non-irrigated',\n",
       " 'transformation, to permanent crop, non-irrigated, extensive',\n",
       " 'transformation, to permanent crop, non-irrigated, intensive',\n",
       " 'transformation, to river, artificial',\n",
       " 'transformation, to river, natural (non-use)',\n",
       " 'transformation, to seabed, drilling and mining',\n",
       " 'transformation, to seabed, infrastructure',\n",
       " 'transformation, to seabed, natural (non-use)',\n",
       " 'transformation, to seabed, unspecified',\n",
       " 'transformation, to snow and ice (non-use)',\n",
       " 'transformation, to traffic area, rail network',\n",
       " 'transformation, to traffic area, rail/road embankment',\n",
       " 'transformation, to traffic area, road network',\n",
       " 'transformation, to unspecified',\n",
       " 'transformation, to unspecified, natural (non-use)',\n",
       " 'transformation, to urban, continuously built',\n",
       " 'transformation, to urban, discontinuously built',\n",
       " 'transformation, to urban, green area',\n",
       " 'transformation, to urban/industrial fallow (non-use)',\n",
       " 'transformation, to wetland, coastal (non-use)']"
      ]
     },
     "execution_count": 12,
     "metadata": {},
     "output_type": "execute_result"
    }
   ],
   "source": [
    "sorted(comp['reference'].difference(comp['found']))"
   ]
  },
  {
   "cell_type": "code",
   "execution_count": null,
   "metadata": {},
   "outputs": [],
   "source": [
    "c['found']"
   ]
  },
  {
   "cell_type": "code",
   "execution_count": null,
   "metadata": {},
   "outputs": [],
   "source": [
    "c['missing']"
   ]
  },
  {
   "cell_type": "code",
   "execution_count": 13,
   "metadata": {},
   "outputs": [
    {
     "name": "stdout",
     "output_type": "stream",
     "text": [
      "Wrote 1 LCIA methods with 9 characterization factors\n"
     ]
    }
   ],
   "source": [
    "gw.write_methods(overwrite=True)"
   ]
  },
  {
   "cell_type": "code",
   "execution_count": 14,
   "metadata": {},
   "outputs": [
    {
     "data": {
      "text/plain": [
       "('ReCiPe 2016', 'v1.1 (20180117)', 'Land transformation')"
      ]
     },
     "execution_count": 14,
     "metadata": {},
     "output_type": "execute_result"
    }
   ],
   "source": [
    "gw.data[0]['name']"
   ]
  },
  {
   "cell_type": "markdown",
   "metadata": {},
   "source": [
    "# Compare to previous ReCiPe method"
   ]
  },
  {
   "cell_type": "code",
   "execution_count": 15,
   "metadata": {},
   "outputs": [],
   "source": [
    "%matplotlib inline"
   ]
  },
  {
   "cell_type": "code",
   "execution_count": 16,
   "metadata": {},
   "outputs": [],
   "source": [
    "import bw2data, bw2calc\n",
    "import pyprind\n",
    "import seaborn as sb\n",
    "import numpy as np"
   ]
  },
  {
   "cell_type": "code",
   "execution_count": 17,
   "metadata": {},
   "outputs": [],
   "source": [
    "keys = sorted([x.key for x in bw2data.Database(\"ecoinvent 3.6 cutoff\")])"
   ]
  },
  {
   "cell_type": "code",
   "execution_count": 18,
   "metadata": {},
   "outputs": [],
   "source": [
    "results_reference, results_2016 = [], []"
   ]
  },
  {
   "cell_type": "code",
   "execution_count": 19,
   "metadata": {},
   "outputs": [],
   "source": [
    "lca = bw2calc.LCA({keys[0]: 1}, gw.previous_reference)\n",
    "lca.lci()\n",
    "lca.lcia()"
   ]
  },
  {
   "cell_type": "code",
   "execution_count": 20,
   "metadata": {},
   "outputs": [],
   "source": [
    "reference_cm = lca.characterization_matrix.copy()"
   ]
  },
  {
   "cell_type": "code",
   "execution_count": 21,
   "metadata": {},
   "outputs": [],
   "source": [
    "lca.switch_method(('ReCiPe 2016', 'v1.1 (20180117)', 'Land transformation'))"
   ]
  },
  {
   "cell_type": "code",
   "execution_count": 22,
   "metadata": {},
   "outputs": [
    {
     "data": {
      "text/plain": [
       "(36.75, -6.0)"
      ]
     },
     "execution_count": 22,
     "metadata": {},
     "output_type": "execute_result"
    }
   ],
   "source": [
    "lca.characterization_matrix.sum(), reference_cm.sum()"
   ]
  },
  {
   "cell_type": "code",
   "execution_count": 23,
   "metadata": {},
   "outputs": [],
   "source": [
    "new_cm = lca.characterization_matrix.copy()"
   ]
  },
  {
   "cell_type": "code",
   "execution_count": 24,
   "metadata": {},
   "outputs": [
    {
     "name": "stderr",
     "output_type": "stream",
     "text": [
      "0% [##############################] 100% | ETA: 00:00:00\n",
      "Total time elapsed: 00:05:02\n"
     ]
    }
   ],
   "source": [
    "for key in pyprind.prog_bar(keys):\n",
    "    lca.redo_lci({key: 1})\n",
    "    results_reference.append((reference_cm * lca.inventory).sum())\n",
    "    results_2016.append((new_cm * lca.inventory).sum())    "
   ]
  },
  {
   "cell_type": "code",
   "execution_count": 25,
   "metadata": {},
   "outputs": [
    {
     "name": "stderr",
     "output_type": "stream",
     "text": [
      "/Users/cmutel/miniconda3/envs/bw2dev/lib/python3.7/site-packages/ipykernel_launcher.py:1: RuntimeWarning: divide by zero encountered in log10\n",
      "  \"\"\"Entry point for launching an IPython kernel.\n"
     ]
    },
    {
     "data": {
      "text/plain": [
       "<matplotlib.axes._subplots.AxesSubplot at 0x11ffe0d10>"
      ]
     },
     "execution_count": 25,
     "metadata": {},
     "output_type": "execute_result"
    },
    {
     "data": {
      "image/png": "[encoded data removed]",
      "text/plain": [
       "<Figure size 432x288 with 1 Axes>"
      ]
     },
     "metadata": {
      "needs_background": "light"
     },
     "output_type": "display_data"
    }
   ],
   "source": [
    "sb.scatterplot(np.log10(np.array(results_reference)), np.log10(np.array(results_2016)))"
   ]
  },
  {
   "cell_type": "code",
   "execution_count": 26,
   "metadata": {},
   "outputs": [],
   "source": [
    "def masked_ratio(a, b):\n",
    "    a, b = np.array(a), np.array(b)\n",
    "    mask = (a != 0) * (b != 0)\n",
    "    return a / b"
   ]
  },
  {
   "cell_type": "code",
   "execution_count": 23,
   "metadata": {},
   "outputs": [
    {
     "name": "stderr",
     "output_type": "stream",
     "text": [
      "/Users/cmutel/miniconda3/envs/bw2dev/lib/python3.7/site-packages/ipykernel_launcher.py:4: RuntimeWarning: divide by zero encountered in true_divide\n",
      "  after removing the cwd from sys.path.\n"
     ]
    },
    {
     "ename": "OverflowError",
     "evalue": "cannot convert float infinity to integer",
     "output_type": "error",
     "traceback": [
      "\u001b[0;31m---------------------------------------------------------------------------\u001b[0m",
      "\u001b[0;31mOverflowError\u001b[0m                             Traceback (most recent call last)",
      "\u001b[0;32m<ipython-input-23-2a222fdd991d>\u001b[0m in \u001b[0;36m<module>\u001b[0;34m\u001b[0m\n\u001b[0;32m----> 1\u001b[0;31m \u001b[0msb\u001b[0m\u001b[0;34m.\u001b[0m\u001b[0mdistplot\u001b[0m\u001b[0;34m(\u001b[0m\u001b[0mmasked_ratio\u001b[0m\u001b[0;34m(\u001b[0m\u001b[0mresults_2016\u001b[0m\u001b[0;34m,\u001b[0m \u001b[0mresults_reference\u001b[0m\u001b[0;34m)\u001b[0m\u001b[0;34m)\u001b[0m\u001b[0;34m\u001b[0m\u001b[0;34m\u001b[0m\u001b[0m\n\u001b[0m",
      "\u001b[0;32m~/miniconda3/envs/bw2dev/lib/python3.7/site-packages/seaborn/distributions.py\u001b[0m in \u001b[0;36mdistplot\u001b[0;34m(a, bins, hist, kde, rug, fit, hist_kws, kde_kws, rug_kws, fit_kws, color, vertical, norm_hist, axlabel, label, ax)\u001b[0m\n\u001b[1;32m    213\u001b[0m     \u001b[0;32mif\u001b[0m \u001b[0mhist\u001b[0m\u001b[0;34m:\u001b[0m\u001b[0;34m\u001b[0m\u001b[0;34m\u001b[0m\u001b[0m\n\u001b[1;32m    214\u001b[0m         \u001b[0;32mif\u001b[0m \u001b[0mbins\u001b[0m \u001b[0;32mis\u001b[0m \u001b[0;32mNone\u001b[0m\u001b[0;34m:\u001b[0m\u001b[0;34m\u001b[0m\u001b[0;34m\u001b[0m\u001b[0m\n\u001b[0;32m--> 215\u001b[0;31m             \u001b[0mbins\u001b[0m \u001b[0;34m=\u001b[0m \u001b[0mmin\u001b[0m\u001b[0;34m(\u001b[0m\u001b[0m_freedman_diaconis_bins\u001b[0m\u001b[0;34m(\u001b[0m\u001b[0ma\u001b[0m\u001b[0;34m)\u001b[0m\u001b[0;34m,\u001b[0m \u001b[0;36m50\u001b[0m\u001b[0;34m)\u001b[0m\u001b[0;34m\u001b[0m\u001b[0;34m\u001b[0m\u001b[0m\n\u001b[0m\u001b[1;32m    216\u001b[0m         \u001b[0mhist_kws\u001b[0m\u001b[0;34m.\u001b[0m\u001b[0msetdefault\u001b[0m\u001b[0;34m(\u001b[0m\u001b[0;34m\"alpha\"\u001b[0m\u001b[0;34m,\u001b[0m \u001b[0;36m0.4\u001b[0m\u001b[0;34m)\u001b[0m\u001b[0;34m\u001b[0m\u001b[0;34m\u001b[0m\u001b[0m\n\u001b[1;32m    217\u001b[0m         \u001b[0mhist_kws\u001b[0m\u001b[0;34m.\u001b[0m\u001b[0msetdefault\u001b[0m\u001b[0;34m(\u001b[0m\u001b[0;34m\"density\"\u001b[0m\u001b[0;34m,\u001b[0m \u001b[0mnorm_hist\u001b[0m\u001b[0;34m)\u001b[0m\u001b[0;34m\u001b[0m\u001b[0;34m\u001b[0m\u001b[0m\n",
      "\u001b[0;32m~/miniconda3/envs/bw2dev/lib/python3.7/site-packages/seaborn/distributions.py\u001b[0m in \u001b[0;36m_freedman_diaconis_bins\u001b[0;34m(a)\u001b[0m\n\u001b[1;32m     33\u001b[0m         \u001b[0;32mreturn\u001b[0m \u001b[0mint\u001b[0m\u001b[0;34m(\u001b[0m\u001b[0mnp\u001b[0m\u001b[0;34m.\u001b[0m\u001b[0msqrt\u001b[0m\u001b[0;34m(\u001b[0m\u001b[0ma\u001b[0m\u001b[0;34m.\u001b[0m\u001b[0msize\u001b[0m\u001b[0;34m)\u001b[0m\u001b[0;34m)\u001b[0m\u001b[0;34m\u001b[0m\u001b[0;34m\u001b[0m\u001b[0m\n\u001b[1;32m     34\u001b[0m     \u001b[0;32melse\u001b[0m\u001b[0;34m:\u001b[0m\u001b[0;34m\u001b[0m\u001b[0;34m\u001b[0m\u001b[0m\n\u001b[0;32m---> 35\u001b[0;31m         \u001b[0;32mreturn\u001b[0m \u001b[0mint\u001b[0m\u001b[0;34m(\u001b[0m\u001b[0mnp\u001b[0m\u001b[0;34m.\u001b[0m\u001b[0mceil\u001b[0m\u001b[0;34m(\u001b[0m\u001b[0;34m(\u001b[0m\u001b[0ma\u001b[0m\u001b[0;34m.\u001b[0m\u001b[0mmax\u001b[0m\u001b[0;34m(\u001b[0m\u001b[0;34m)\u001b[0m \u001b[0;34m-\u001b[0m \u001b[0ma\u001b[0m\u001b[0;34m.\u001b[0m\u001b[0mmin\u001b[0m\u001b[0;34m(\u001b[0m\u001b[0;34m)\u001b[0m\u001b[0;34m)\u001b[0m \u001b[0;34m/\u001b[0m \u001b[0mh\u001b[0m\u001b[0;34m)\u001b[0m\u001b[0;34m)\u001b[0m\u001b[0;34m\u001b[0m\u001b[0;34m\u001b[0m\u001b[0m\n\u001b[0m\u001b[1;32m     36\u001b[0m \u001b[0;34m\u001b[0m\u001b[0m\n\u001b[1;32m     37\u001b[0m \u001b[0;34m\u001b[0m\u001b[0m\n",
      "\u001b[0;31mOverflowError\u001b[0m: cannot convert float infinity to integer"
     ]
    },
    {
     "data": {
      "image/png": "[encoded data removed]",
      "text/plain": [
       "<Figure size 432x288 with 1 Axes>"
      ]
     },
     "metadata": {
      "needs_background": "light"
     },
     "output_type": "display_data"
    }
   ],
   "source": [
    "sb.distplot(masked_ratio(results_2016, results_reference))"
   ]
  },
  {
   "cell_type": "code",
   "execution_count": 24,
   "metadata": {},
   "outputs": [],
   "source": [
    "def abnormal_ratio(a, b):\n",
    "    if not a or not b:\n",
    "        return\n",
    "    ratio = abs(a / b)\n",
    "    if 0.8 < ratio < 1.25:\n",
    "        return\n",
    "    return ratio"
   ]
  },
  {
   "cell_type": "code",
   "execution_count": null,
   "metadata": {},
   "outputs": [],
   "source": [
    "exceptions = sorted([\n",
    "    (abnormal_ratio(results_2016[i], results_reference[i]), bw2data.get_activity(key)) \n",
    "    for i, key in enumerate(keys) \n",
    "    if abnormal_ratio(results_2016[i], results_reference[i])\n",
    "], reverse=True)"
   ]
  },
  {
   "cell_type": "code",
   "execution_count": null,
   "metadata": {},
   "outputs": [],
   "source": [
    "len(exceptions)"
   ]
  },
  {
   "cell_type": "code",
   "execution_count": null,
   "metadata": {
    "scrolled": false
   },
   "outputs": [],
   "source": [
    "exceptions[:10]"
   ]
  },
  {
   "cell_type": "code",
   "execution_count": null,
   "metadata": {},
   "outputs": [],
   "source": [
    "lca.redo_lci({exceptions[0][1]: 1})\n",
    "lca.characterized_inventory = new_cm * lca.inventory"
   ]
  }
 ],
 "metadata": {
  "kernelspec": {
   "display_name": "Python 3",
   "language": "python",
   "name": "python3"
  },
  "language_info": {
   "codemirror_mode": {
    "name": "ipython",
    "version": 3
   },
   "file_extension": ".py",
   "mimetype": "text/x-python",
   "name": "python",
   "nbconvert_exporter": "python",
   "pygments_lexer": "ipython3",
   "version": "3.7.6"
  }
 },
 "nbformat": 4,
 "nbformat_minor": 4
}
