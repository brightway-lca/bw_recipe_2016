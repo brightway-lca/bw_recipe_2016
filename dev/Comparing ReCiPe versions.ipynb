{
 "cells": [
  {
   "cell_type": "code",
   "execution_count": 1,
   "metadata": {},
   "outputs": [],
   "source": [
    "%matplotlib inline"
   ]
  },
  {
   "cell_type": "code",
   "execution_count": 36,
   "metadata": {},
   "outputs": [],
   "source": [
    "from bw_recipe_2016 import *\n",
    "import seaborn as sb\n",
    "from matplotlib import pyplot as plt\n",
    "import itertools\n",
    "import numpy as np"
   ]
  },
  {
   "cell_type": "code",
   "execution_count": 5,
   "metadata": {},
   "outputs": [],
   "source": [
    "from pathlib import Path"
   ]
  },
  {
   "cell_type": "code",
   "execution_count": 9,
   "metadata": {},
   "outputs": [],
   "source": [
    "output_dir = Path(\"data\").resolve()\n",
    "output_dir.mkdir(exist_ok=True)"
   ]
  },
  {
   "cell_type": "code",
   "execution_count": 3,
   "metadata": {},
   "outputs": [
    {
     "name": "stdout",
     "output_type": "stream",
     "text": [
      "Skipping category Marine eutrophication, not found in /Users/cmutel/Code/bw-recipe-2016/bw_recipe_2016/data/ReCiPe2016_CFs_v1.0_20161004.xlsx\n",
      "Skipping category Land transformation, not found in /Users/cmutel/Code/bw-recipe-2016/bw_recipe_2016/data/ReCiPe2016_CFs_v1.0_20161004.xlsx\n"
     ]
    }
   ],
   "source": [
    "x = extract_recipe(0)\n",
    "y = extract_recipe(1)\n",
    "z = extract_recipe(2)"
   ]
  },
  {
   "cell_type": "code",
   "execution_count": 26,
   "metadata": {},
   "outputs": [],
   "source": [
    "terr = (x[10], y[11], z[11])\n",
    "freshw = (x[11], y[12], z[12])\n",
    "marine = (x[12], y[13], z[13])\n",
    "carc = (x[13], y[14], z[14])\n",
    "noncarc = (x[14], y[15], z[15])"
   ]
  },
  {
   "cell_type": "code",
   "execution_count": 31,
   "metadata": {},
   "outputs": [
    {
     "data": {
      "text/plain": [
       "{'E', 'Egalitarian', 'H', 'Hierarchic', 'I', 'Individualistic'}"
      ]
     },
     "execution_count": 31,
     "metadata": {},
     "output_type": "execute_result"
    }
   ],
   "source": [
    "perspectives = {key[1] for dct in itertools.chain(x[10:15], y[11:16], z[11:16]) for key in dct}\n",
    "perspectives"
   ]
  },
  {
   "cell_type": "code",
   "execution_count": 33,
   "metadata": {},
   "outputs": [],
   "source": [
    "def normalize_perspective(s):\n",
    "    mapping = {\n",
    "        'E': 'Egalitarian',\n",
    "        'H': 'Hierarchic',\n",
    "        'I': 'Individualistic',\n",
    "    }\n",
    "    return mapping.get(s, s)"
   ]
  },
  {
   "cell_type": "code",
   "execution_count": 20,
   "metadata": {},
   "outputs": [
    {
     "data": {
      "text/plain": [
       "{'Agricultural soil',\n",
       " 'Freshwater',\n",
       " 'Industrial soil',\n",
       " 'Rural air',\n",
       " 'Sea water',\n",
       " 'Urban air',\n",
       " 'agricultural soil',\n",
       " 'freshwater',\n",
       " 'industrial soil',\n",
       " 'rural air',\n",
       " 'sea water',\n",
       " 'seawater',\n",
       " 'urban  air',\n",
       " 'urban air'}"
      ]
     },
     "execution_count": 20,
     "metadata": {},
     "output_type": "execute_result"
    }
   ],
   "source": [
    "categories = {cf['compartment'] \n",
    "              for obj in (x[10], x[11], x[12], x[13], x[14], y[11], y[15], z[11], z[15]) \n",
    "              for persp in obj.values() \n",
    "              for cf in persp['cfs']}\n",
    "categories"
   ]
  },
  {
   "cell_type": "code",
   "execution_count": 21,
   "metadata": {},
   "outputs": [],
   "source": [
    "def normalize_category(s):\n",
    "    return s.lower().replace(\" \", \"\")"
   ]
  },
  {
   "cell_type": "code",
   "execution_count": 23,
   "metadata": {},
   "outputs": [
    {
     "data": {
      "text/plain": [
       "{'agriculturalsoil',\n",
       " 'freshwater',\n",
       " 'industrialsoil',\n",
       " 'ruralair',\n",
       " 'seawater',\n",
       " 'urbanair'}"
      ]
     },
     "execution_count": 23,
     "metadata": {},
     "output_type": "execute_result"
    }
   ],
   "source": [
    "normalized_categories = {normalize_category(s) for s in categories}\n",
    "normalized_categories"
   ]
  },
  {
   "cell_type": "code",
   "execution_count": 47,
   "metadata": {},
   "outputs": [],
   "source": [
    "def get_data_as_dict(compartment, perspective, data):\n",
    "    data = [v for obj in data for k, v in obj.items() if normalize_perspective(k[1]) == perspective]\n",
    "    assert len(data) == 3\n",
    "    return [{cf['name']: cf['amount'] \n",
    "             for cf in obj['cfs'] if normalize_category(cf['compartment']) == compartment} \n",
    "            for obj in data]"
   ]
  },
  {
   "cell_type": "code",
   "execution_count": 78,
   "metadata": {},
   "outputs": [],
   "source": [
    "def plot_ratio(compartment, perspective, data, filename, persp, comparison='first'):\n",
    "    x, y, z = get_data_as_dict(compartment, perspective, data)\n",
    "    \n",
    "    plt.figure(figsize=(8, 6))\n",
    "    \n",
    "    if comparison == 'first':\n",
    "        ratios = np.array([y[key] / x[key] for key in x if x[key] and y.get(key)])\n",
    "        if max(ratios) < 1.1:\n",
    "            print(\"Skipping\", filename)\n",
    "            plt.close()\n",
    "            return\n",
    "        sb.distplot(np.log10(ratios))\n",
    "        plt.xlabel(r\"$log_{10} \\frac{1.1-20170929}{1.0-20161004}$\")\n",
    "\n",
    "    else:   \n",
    "        ratios = np.array([z[key] / y[key] for key in y if y[key] and z.get(key)])\n",
    "        if max(ratios) < 1.1:\n",
    "            print(\"Skipping\", filename)\n",
    "            plt.close()\n",
    "            return\n",
    "        sb.distplot(np.log10(ratios))\n",
    "        plt.xlabel(r\"$log_{10} \\frac{1.1-20180117}{1.1-20170929}$\")\n",
    "\n",
    "    plt.title(filename)\n",
    "    plt.ylabel(\"Probability\")\n",
    "\n",
    "    (output_dir / persp).mkdir(exist_ok=True)\n",
    "    plt.savefig(output_dir / persp / (filename + \".png\"), dpi=300)\n",
    "    plt.close()"
   ]
  },
  {
   "cell_type": "code",
   "execution_count": 79,
   "metadata": {},
   "outputs": [],
   "source": [
    "datasets = [\n",
    "    (\"Terrestrial ecotox\", terr),\n",
    "    (\"Freshwater ecotox\", freshw),\n",
    "    (\"Marine ecotox\", marine),\n",
    "    (\"Carcinogenic tox\", carc),\n",
    "    (\"Non-carcinogenic tox\", noncarc),\n",
    "]"
   ]
  },
  {
   "cell_type": "code",
   "execution_count": 80,
   "metadata": {
    "scrolled": false
   },
   "outputs": [
    {
     "name": "stdout",
     "output_type": "stream",
     "text": [
      "Skipping Terrestrial Ecotox - Industrialsoil - Egalitarian - 1.1\n",
      "Skipping Freshwater Ecotox - Industrialsoil - Egalitarian - 1.0\n",
      "Skipping Freshwater Ecotox - Industrialsoil - Egalitarian - 1.1\n",
      "Skipping Marine Ecotox - Industrialsoil - Egalitarian - 1.0\n",
      "Skipping Marine Ecotox - Industrialsoil - Egalitarian - 1.1\n",
      "Skipping Carcinogenic Tox - Industrialsoil - Egalitarian - 1.0\n",
      "Skipping Carcinogenic Tox - Industrialsoil - Egalitarian - 1.1\n",
      "Skipping Non-Carcinogenic Tox - Industrialsoil - Egalitarian - 1.1\n",
      "Skipping Terrestrial Ecotox - Urbanair - Egalitarian - 1.1\n",
      "Skipping Freshwater Ecotox - Urbanair - Egalitarian - 1.0\n",
      "Skipping Freshwater Ecotox - Urbanair - Egalitarian - 1.1\n",
      "Skipping Marine Ecotox - Urbanair - Egalitarian - 1.0\n",
      "Skipping Marine Ecotox - Urbanair - Egalitarian - 1.1\n",
      "Skipping Carcinogenic Tox - Urbanair - Egalitarian - 1.0\n",
      "Skipping Carcinogenic Tox - Urbanair - Egalitarian - 1.1\n",
      "Skipping Non-Carcinogenic Tox - Urbanair - Egalitarian - 1.1\n",
      "Skipping Terrestrial Ecotox - Ruralair - Egalitarian - 1.1\n",
      "Skipping Freshwater Ecotox - Ruralair - Egalitarian - 1.0\n",
      "Skipping Freshwater Ecotox - Ruralair - Egalitarian - 1.1\n",
      "Skipping Marine Ecotox - Ruralair - Egalitarian - 1.0\n",
      "Skipping Marine Ecotox - Ruralair - Egalitarian - 1.1\n",
      "Skipping Carcinogenic Tox - Ruralair - Egalitarian - 1.0\n",
      "Skipping Carcinogenic Tox - Ruralair - Egalitarian - 1.1\n",
      "Skipping Non-Carcinogenic Tox - Ruralair - Egalitarian - 1.1\n",
      "Skipping Terrestrial Ecotox - Agriculturalsoil - Egalitarian - 1.1\n",
      "Skipping Freshwater Ecotox - Agriculturalsoil - Egalitarian - 1.0\n",
      "Skipping Freshwater Ecotox - Agriculturalsoil - Egalitarian - 1.1\n",
      "Skipping Marine Ecotox - Agriculturalsoil - Egalitarian - 1.0\n",
      "Skipping Marine Ecotox - Agriculturalsoil - Egalitarian - 1.1\n",
      "Skipping Carcinogenic Tox - Agriculturalsoil - Egalitarian - 1.0\n",
      "Skipping Carcinogenic Tox - Agriculturalsoil - Egalitarian - 1.1\n",
      "Skipping Non-Carcinogenic Tox - Agriculturalsoil - Egalitarian - 1.1\n",
      "Skipping Terrestrial Ecotox - Freshwater - Egalitarian - 1.1\n",
      "Skipping Freshwater Ecotox - Freshwater - Egalitarian - 1.0\n",
      "Skipping Freshwater Ecotox - Freshwater - Egalitarian - 1.1\n",
      "Skipping Marine Ecotox - Freshwater - Egalitarian - 1.0\n",
      "Skipping Marine Ecotox - Freshwater - Egalitarian - 1.1\n",
      "Skipping Carcinogenic Tox - Freshwater - Egalitarian - 1.0\n",
      "Skipping Carcinogenic Tox - Freshwater - Egalitarian - 1.1\n",
      "Skipping Non-Carcinogenic Tox - Freshwater - Egalitarian - 1.1\n",
      "Skipping Terrestrial Ecotox - Seawater - Egalitarian - 1.1\n",
      "Skipping Freshwater Ecotox - Seawater - Egalitarian - 1.0\n",
      "Skipping Freshwater Ecotox - Seawater - Egalitarian - 1.1\n",
      "Skipping Marine Ecotox - Seawater - Egalitarian - 1.0\n",
      "Skipping Marine Ecotox - Seawater - Egalitarian - 1.1\n",
      "Skipping Carcinogenic Tox - Seawater - Egalitarian - 1.0\n",
      "Skipping Carcinogenic Tox - Seawater - Egalitarian - 1.1\n",
      "Skipping Non-Carcinogenic Tox - Seawater - Egalitarian - 1.1\n",
      "Skipping Terrestrial Ecotox - Industrialsoil - Hierarchic - 1.1\n",
      "Skipping Freshwater Ecotox - Industrialsoil - Hierarchic - 1.0\n",
      "Skipping Freshwater Ecotox - Industrialsoil - Hierarchic - 1.1\n",
      "Skipping Marine Ecotox - Industrialsoil - Hierarchic - 1.0\n",
      "Skipping Marine Ecotox - Industrialsoil - Hierarchic - 1.1\n",
      "Skipping Carcinogenic Tox - Industrialsoil - Hierarchic - 1.0\n",
      "Skipping Carcinogenic Tox - Industrialsoil - Hierarchic - 1.1\n",
      "Skipping Non-Carcinogenic Tox - Industrialsoil - Hierarchic - 1.1\n",
      "Skipping Terrestrial Ecotox - Urbanair - Hierarchic - 1.1\n",
      "Skipping Freshwater Ecotox - Urbanair - Hierarchic - 1.0\n",
      "Skipping Freshwater Ecotox - Urbanair - Hierarchic - 1.1\n",
      "Skipping Marine Ecotox - Urbanair - Hierarchic - 1.0\n",
      "Skipping Marine Ecotox - Urbanair - Hierarchic - 1.1\n",
      "Skipping Carcinogenic Tox - Urbanair - Hierarchic - 1.0\n",
      "Skipping Carcinogenic Tox - Urbanair - Hierarchic - 1.1\n",
      "Skipping Non-Carcinogenic Tox - Urbanair - Hierarchic - 1.1\n",
      "Skipping Terrestrial Ecotox - Ruralair - Hierarchic - 1.1\n",
      "Skipping Freshwater Ecotox - Ruralair - Hierarchic - 1.0\n",
      "Skipping Freshwater Ecotox - Ruralair - Hierarchic - 1.1\n",
      "Skipping Marine Ecotox - Ruralair - Hierarchic - 1.0\n",
      "Skipping Marine Ecotox - Ruralair - Hierarchic - 1.1\n",
      "Skipping Carcinogenic Tox - Ruralair - Hierarchic - 1.0\n",
      "Skipping Carcinogenic Tox - Ruralair - Hierarchic - 1.1\n",
      "Skipping Non-Carcinogenic Tox - Ruralair - Hierarchic - 1.1\n",
      "Skipping Terrestrial Ecotox - Agriculturalsoil - Hierarchic - 1.1\n",
      "Skipping Freshwater Ecotox - Agriculturalsoil - Hierarchic - 1.0\n",
      "Skipping Freshwater Ecotox - Agriculturalsoil - Hierarchic - 1.1\n",
      "Skipping Marine Ecotox - Agriculturalsoil - Hierarchic - 1.0\n",
      "Skipping Marine Ecotox - Agriculturalsoil - Hierarchic - 1.1\n",
      "Skipping Carcinogenic Tox - Agriculturalsoil - Hierarchic - 1.0\n",
      "Skipping Carcinogenic Tox - Agriculturalsoil - Hierarchic - 1.1\n",
      "Skipping Non-Carcinogenic Tox - Agriculturalsoil - Hierarchic - 1.1\n",
      "Skipping Terrestrial Ecotox - Freshwater - Hierarchic - 1.1\n",
      "Skipping Freshwater Ecotox - Freshwater - Hierarchic - 1.0\n",
      "Skipping Freshwater Ecotox - Freshwater - Hierarchic - 1.1\n",
      "Skipping Marine Ecotox - Freshwater - Hierarchic - 1.0\n",
      "Skipping Marine Ecotox - Freshwater - Hierarchic - 1.1\n",
      "Skipping Carcinogenic Tox - Freshwater - Hierarchic - 1.0\n",
      "Skipping Carcinogenic Tox - Freshwater - Hierarchic - 1.1\n",
      "Skipping Non-Carcinogenic Tox - Freshwater - Hierarchic - 1.1\n",
      "Skipping Terrestrial Ecotox - Seawater - Hierarchic - 1.1\n",
      "Skipping Freshwater Ecotox - Seawater - Hierarchic - 1.0\n",
      "Skipping Freshwater Ecotox - Seawater - Hierarchic - 1.1\n",
      "Skipping Marine Ecotox - Seawater - Hierarchic - 1.0\n",
      "Skipping Marine Ecotox - Seawater - Hierarchic - 1.1\n",
      "Skipping Carcinogenic Tox - Seawater - Hierarchic - 1.0\n",
      "Skipping Carcinogenic Tox - Seawater - Hierarchic - 1.1\n",
      "Skipping Non-Carcinogenic Tox - Seawater - Hierarchic - 1.1\n",
      "Skipping Terrestrial Ecotox - Industrialsoil - Individualistic - 1.1\n",
      "Skipping Freshwater Ecotox - Industrialsoil - Individualistic - 1.0\n",
      "Skipping Freshwater Ecotox - Industrialsoil - Individualistic - 1.1\n",
      "Skipping Marine Ecotox - Industrialsoil - Individualistic - 1.0\n",
      "Skipping Marine Ecotox - Industrialsoil - Individualistic - 1.1\n",
      "Skipping Carcinogenic Tox - Industrialsoil - Individualistic - 1.0\n",
      "Skipping Carcinogenic Tox - Industrialsoil - Individualistic - 1.1\n",
      "Skipping Non-Carcinogenic Tox - Industrialsoil - Individualistic - 1.1\n",
      "Skipping Terrestrial Ecotox - Urbanair - Individualistic - 1.1\n",
      "Skipping Freshwater Ecotox - Urbanair - Individualistic - 1.0\n",
      "Skipping Freshwater Ecotox - Urbanair - Individualistic - 1.1\n",
      "Skipping Marine Ecotox - Urbanair - Individualistic - 1.0\n",
      "Skipping Marine Ecotox - Urbanair - Individualistic - 1.1\n",
      "Skipping Carcinogenic Tox - Urbanair - Individualistic - 1.0\n",
      "Skipping Carcinogenic Tox - Urbanair - Individualistic - 1.1\n",
      "Skipping Non-Carcinogenic Tox - Urbanair - Individualistic - 1.1\n",
      "Skipping Terrestrial Ecotox - Ruralair - Individualistic - 1.1\n",
      "Skipping Freshwater Ecotox - Ruralair - Individualistic - 1.0\n",
      "Skipping Freshwater Ecotox - Ruralair - Individualistic - 1.1\n",
      "Skipping Marine Ecotox - Ruralair - Individualistic - 1.0\n",
      "Skipping Marine Ecotox - Ruralair - Individualistic - 1.1\n",
      "Skipping Carcinogenic Tox - Ruralair - Individualistic - 1.0\n",
      "Skipping Carcinogenic Tox - Ruralair - Individualistic - 1.1\n",
      "Skipping Non-Carcinogenic Tox - Ruralair - Individualistic - 1.1\n",
      "Skipping Terrestrial Ecotox - Agriculturalsoil - Individualistic - 1.1\n",
      "Skipping Freshwater Ecotox - Agriculturalsoil - Individualistic - 1.0\n",
      "Skipping Freshwater Ecotox - Agriculturalsoil - Individualistic - 1.1\n",
      "Skipping Marine Ecotox - Agriculturalsoil - Individualistic - 1.0\n",
      "Skipping Marine Ecotox - Agriculturalsoil - Individualistic - 1.1\n",
      "Skipping Carcinogenic Tox - Agriculturalsoil - Individualistic - 1.0\n",
      "Skipping Carcinogenic Tox - Agriculturalsoil - Individualistic - 1.1\n",
      "Skipping Non-Carcinogenic Tox - Agriculturalsoil - Individualistic - 1.1\n",
      "Skipping Terrestrial Ecotox - Freshwater - Individualistic - 1.1\n",
      "Skipping Freshwater Ecotox - Freshwater - Individualistic - 1.0\n",
      "Skipping Freshwater Ecotox - Freshwater - Individualistic - 1.1\n",
      "Skipping Marine Ecotox - Freshwater - Individualistic - 1.0\n",
      "Skipping Marine Ecotox - Freshwater - Individualistic - 1.1\n",
      "Skipping Carcinogenic Tox - Freshwater - Individualistic - 1.0\n",
      "Skipping Carcinogenic Tox - Freshwater - Individualistic - 1.1\n"
     ]
    },
    {
     "name": "stdout",
     "output_type": "stream",
     "text": [
      "Skipping Non-Carcinogenic Tox - Freshwater - Individualistic - 1.1\n",
      "Skipping Terrestrial Ecotox - Seawater - Individualistic - 1.1\n",
      "Skipping Freshwater Ecotox - Seawater - Individualistic - 1.0\n",
      "Skipping Freshwater Ecotox - Seawater - Individualistic - 1.1\n",
      "Skipping Marine Ecotox - Seawater - Individualistic - 1.0\n",
      "Skipping Marine Ecotox - Seawater - Individualistic - 1.1\n",
      "Skipping Carcinogenic Tox - Seawater - Individualistic - 1.0\n",
      "Skipping Carcinogenic Tox - Seawater - Individualistic - 1.1\n",
      "Skipping Non-Carcinogenic Tox - Seawater - Individualistic - 1.1\n"
     ]
    }
   ],
   "source": [
    "for persp in ('Egalitarian', 'Hierarchic', 'Individualistic'):\n",
    "    for category in normalized_categories:\n",
    "        for label, dataset in datasets:\n",
    "            filename = \"{} - {} - {} - 1.0\".format(label, category, persp).title()\n",
    "            plot_ratio(category, persp, dataset, filename, persp)\n",
    "            \n",
    "            filename = \"{} - {} - {} - 1.1\".format(label, category, persp).title()\n",
    "            plot_ratio(category, persp, dataset, filename, persp, True)"
   ]
  },
  {
   "cell_type": "code",
   "execution_count": null,
   "metadata": {},
   "outputs": [],
   "source": []
  }
 ],
 "metadata": {
  "kernelspec": {
   "display_name": "Python 3",
   "language": "python",
   "name": "python3"
  },
  "language_info": {
   "codemirror_mode": {
    "name": "ipython",
    "version": 3
   },
   "file_extension": ".py",
   "mimetype": "text/x-python",
   "name": "python",
   "nbconvert_exporter": "python",
   "pygments_lexer": "ipython3",
   "version": "3.7.6"
  }
 },
 "nbformat": 4,
 "nbformat_minor": 4
}
