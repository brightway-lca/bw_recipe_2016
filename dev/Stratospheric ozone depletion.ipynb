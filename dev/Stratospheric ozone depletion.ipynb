{
 "cells": [
  {
   "cell_type": "code",
   "execution_count": 1,
   "metadata": {},
   "outputs": [],
   "source": [
    "from bw_recipe_2016 import (\n",
    "    StratosphericOzoneDepletion,\n",
    "    get_biosphere_database, \n",
    "    extract_recipe,\n",
    ")"
   ]
  },
  {
   "cell_type": "code",
   "execution_count": 2,
   "metadata": {},
   "outputs": [],
   "source": [
    "data = extract_recipe()[3]"
   ]
  },
  {
   "cell_type": "code",
   "execution_count": 3,
   "metadata": {},
   "outputs": [],
   "source": [
    "biosphere = get_biosphere_database()"
   ]
  },
  {
   "cell_type": "code",
   "execution_count": 4,
   "metadata": {},
   "outputs": [],
   "source": [
    "gw = StratosphericOzoneDepletion(data, biosphere)"
   ]
  },
  {
   "cell_type": "code",
   "execution_count": 5,
   "metadata": {},
   "outputs": [
    {
     "name": "stdout",
     "output_type": "stream",
     "text": [
      "Applying strategy: fix_perspective_string\n",
      "Applying strategy: generic_reformat\n",
      "Applying strategy: split_synonyms\n",
      "Applying strategy: more_synonyms\n",
      "Applying strategy: fix_unit_string\n",
      "Applying strategy: name_matcher\n",
      "Applying strategy: add_air_category\n",
      "Applying strategy: complete_method_name\n",
      "Applying strategy: match_multiple\n",
      "Applied 9 strategies in 0.03 seconds\n"
     ]
    }
   ],
   "source": [
    "gw.apply_strategies()"
   ]
  },
  {
   "cell_type": "code",
   "execution_count": 6,
   "metadata": {
    "scrolled": true
   },
   "outputs": [
    {
     "data": {
      "text/plain": [
       "{'name': ('ReCiPe 2016', 'v1.1 (20180117)', 'ODP20', 'Individualist'),\n",
       " 'unit': 'kg CFC11-eq/kg ODS',\n",
       " 'filename': 'ReCiPe2016_CFs_v1.1_20180117.xlsx',\n",
       " 'description': '',\n",
       " 'exchanges': [{'name': 'Halon-2402',\n",
       "   'synonyms': ['H-2402'],\n",
       "   'amount': 22.2,\n",
       "   'categories': ('air',)},\n",
       "  {'name': 'HCFC-225ca',\n",
       "   'synonyms': [''],\n",
       "   'amount': 0.05,\n",
       "   'categories': ('air',)},\n",
       "  {'name': 'HCFC-225cb',\n",
       "   'synonyms': [''],\n",
       "   'amount': 0.073,\n",
       "   'categories': ('air',)},\n",
       "  {'name': 'Halon-1202',\n",
       "   'synonyms': [''],\n",
       "   'amount': 4.247,\n",
       "   'categories': ('air',)},\n",
       "  {'name': 'methane, trichlorofluoro-, cfc-11',\n",
       "   'synonyms': [''],\n",
       "   'amount': 1.0,\n",
       "   'categories': ('air',),\n",
       "   'input': ('biosphere3', '51e99a55-bcdb-4d18-9484-6de4b142e09d')},\n",
       "  {'name': 'methane, trichlorofluoro-, cfc-11',\n",
       "   'synonyms': [''],\n",
       "   'amount': 1.0,\n",
       "   'categories': ('air',),\n",
       "   'input': ('biosphere3', '33a69662-583b-45b8-8cb9-94f59fca9133')},\n",
       "  {'name': 'methane, trichlorofluoro-, cfc-11',\n",
       "   'synonyms': [''],\n",
       "   'amount': 1.0,\n",
       "   'categories': ('air',),\n",
       "   'input': ('biosphere3', '3feb6415-ae50-4bb7-b9d1-c18d99f8a87f')},\n",
       "  {'name': 'methane, trichlorofluoro-, cfc-11',\n",
       "   'synonyms': [''],\n",
       "   'amount': 1.0,\n",
       "   'categories': ('air',),\n",
       "   'input': ('biosphere3', 'a916ca1b-4ece-4630-a563-ae3253efc04f')},\n",
       "  {'name': 'methane, trichlorofluoro-, cfc-11',\n",
       "   'synonyms': [''],\n",
       "   'amount': 1.0,\n",
       "   'categories': ('air',),\n",
       "   'input': ('biosphere3', '6e61b542-5681-44f4-afcb-e30368bca420')},\n",
       "  {'name': 'methane, dichlorodifluoro-, cfc-12',\n",
       "   'synonyms': [''],\n",
       "   'amount': 0.421,\n",
       "   'categories': ('air',),\n",
       "   'input': ('biosphere3', 'c0e8ec60-a5ae-432e-97a5-cf76b6247a00')},\n",
       "  {'name': 'methane, dichlorodifluoro-, cfc-12',\n",
       "   'synonyms': [''],\n",
       "   'amount': 0.421,\n",
       "   'categories': ('air',),\n",
       "   'input': ('biosphere3', 'e93ba406-3df8-4e34-be54-0d556b2bb629')},\n",
       "  {'name': 'methane, dichlorodifluoro-, cfc-12',\n",
       "   'synonyms': [''],\n",
       "   'amount': 0.421,\n",
       "   'categories': ('air',),\n",
       "   'input': ('biosphere3', '1013b9ec-a7b5-459c-be3d-74f61b9ce06e')},\n",
       "  {'name': 'methane, dichlorodifluoro-, cfc-12',\n",
       "   'synonyms': [''],\n",
       "   'amount': 0.421,\n",
       "   'categories': ('air',),\n",
       "   'input': ('biosphere3', '31a3e44c-4098-461e-aba2-f79540e05087')},\n",
       "  {'name': 'methane, dichlorodifluoro-, cfc-12',\n",
       "   'synonyms': [''],\n",
       "   'amount': 0.421,\n",
       "   'categories': ('air',),\n",
       "   'input': ('biosphere3', '31f8976a-6f7d-487e-a850-eb495dbf0351')},\n",
       "  {'name': 'ethane, 1,1,2-trichloro-1,2,2-trifluoro-, cfc-113',\n",
       "   'synonyms': [''],\n",
       "   'amount': 0.504,\n",
       "   'categories': ('air',),\n",
       "   'input': ('biosphere3', 'd2025041-20ee-41bb-b2c8-47631e839ff0')},\n",
       "  {'name': 'ethane, 1,1,2-trichloro-1,2,2-trifluoro-, cfc-113',\n",
       "   'synonyms': [''],\n",
       "   'amount': 0.504,\n",
       "   'categories': ('air',),\n",
       "   'input': ('biosphere3', 'cacfd448-6c2d-4061-9363-fd506b979f25')},\n",
       "  {'name': 'ethane, 1,1,2-trichloro-1,2,2-trifluoro-, cfc-113',\n",
       "   'synonyms': [''],\n",
       "   'amount': 0.504,\n",
       "   'categories': ('air',),\n",
       "   'input': ('biosphere3', '53b87932-00c8-4bf4-b519-ecd3c401ed4d')},\n",
       "  {'name': 'ethane, 1,1,2-trichloro-1,2,2-trifluoro-, cfc-113',\n",
       "   'synonyms': [''],\n",
       "   'amount': 0.504,\n",
       "   'categories': ('air',),\n",
       "   'input': ('biosphere3', '47c12d99-c2dc-41cf-bad1-cd31c2fe0421')},\n",
       "  {'name': 'ethane, 1,1,2-trichloro-1,2,2-trifluoro-, cfc-113',\n",
       "   'synonyms': [''],\n",
       "   'amount': 0.504,\n",
       "   'categories': ('air',),\n",
       "   'input': ('biosphere3', '9b132374-dce2-4ce0-86aa-53201b30f617')},\n",
       "  {'name': 'ethane, 1,2-dichloro-1,1,2,2-tetrafluoro-, cfc-114',\n",
       "   'synonyms': [''],\n",
       "   'amount': 0.165,\n",
       "   'categories': ('air',),\n",
       "   'input': ('biosphere3', '8a3a44e4-e2f1-476d-9e9e-a90fda263fe3')},\n",
       "  {'name': 'ethane, 1,2-dichloro-1,1,2,2-tetrafluoro-, cfc-114',\n",
       "   'synonyms': [''],\n",
       "   'amount': 0.165,\n",
       "   'categories': ('air',),\n",
       "   'input': ('biosphere3', '3b30d058-02ef-4ed2-b357-5fc1a45c63e7')},\n",
       "  {'name': 'ethane, 1,2-dichloro-1,1,2,2-tetrafluoro-, cfc-114',\n",
       "   'synonyms': [''],\n",
       "   'amount': 0.165,\n",
       "   'categories': ('air',),\n",
       "   'input': ('biosphere3', '7d05319a-1260-45e0-8872-d5ff1712ea7e')},\n",
       "  {'name': 'ethane, 1,2-dichloro-1,1,2,2-tetrafluoro-, cfc-114',\n",
       "   'synonyms': [''],\n",
       "   'amount': 0.165,\n",
       "   'categories': ('air',),\n",
       "   'input': ('biosphere3', '1e060d5a-cd41-4f30-9c93-272403b7e004')},\n",
       "  {'name': 'ethane, 1,2-dichloro-1,1,2,2-tetrafluoro-, cfc-114',\n",
       "   'synonyms': [''],\n",
       "   'amount': 0.165,\n",
       "   'categories': ('air',),\n",
       "   'input': ('biosphere3', '1584734d-c5c8-42a5-aa51-0f6a92a9cc0d')},\n",
       "  {'name': 'ethane, chloropentafluoro-, cfc-115',\n",
       "   'synonyms': [''],\n",
       "   'amount': 0.032,\n",
       "   'categories': ('air',),\n",
       "   'input': ('biosphere3', '15e54d5b-aba2-40a6-9aa8-aa2b8c432129')},\n",
       "  {'name': 'ethane, chloropentafluoro-, cfc-115',\n",
       "   'synonyms': [''],\n",
       "   'amount': 0.032,\n",
       "   'categories': ('air',),\n",
       "   'input': ('biosphere3', '6f8ce7a4-d66a-4593-9314-51778aa09d4b')},\n",
       "  {'name': 'ethane, chloropentafluoro-, cfc-115',\n",
       "   'synonyms': [''],\n",
       "   'amount': 0.032,\n",
       "   'categories': ('air',),\n",
       "   'input': ('biosphere3', '30533fd3-b19c-44fc-9a88-fb6b12409b47')},\n",
       "  {'name': 'ethane, chloropentafluoro-, cfc-115',\n",
       "   'synonyms': [''],\n",
       "   'amount': 0.032,\n",
       "   'categories': ('air',),\n",
       "   'input': ('biosphere3', 'ec8789e5-d140-4ca8-b7ef-b3abfd044414')},\n",
       "  {'name': 'ethane, chloropentafluoro-, cfc-115',\n",
       "   'synonyms': [''],\n",
       "   'amount': 0.032,\n",
       "   'categories': ('air',),\n",
       "   'input': ('biosphere3', '4925cde1-9f43-43d3-bcf1-4865b8de6634')},\n",
       "  {'name': 'methane, bromotrifluoro-, halon 1301',\n",
       "   'synonyms': ['H-1301'],\n",
       "   'amount': 11.841,\n",
       "   'categories': ('air',),\n",
       "   'input': ('biosphere3', '82957257-07f3-4536-ac8b-175cb2353c75')},\n",
       "  {'name': 'methane, bromotrifluoro-, halon 1301',\n",
       "   'synonyms': ['H-1301'],\n",
       "   'amount': 11.841,\n",
       "   'categories': ('air',),\n",
       "   'input': ('biosphere3', '4ac2ffc3-312e-4e2d-88c4-2630d4a73d8c')},\n",
       "  {'name': 'methane, bromotrifluoro-, halon 1301',\n",
       "   'synonyms': ['H-1301'],\n",
       "   'amount': 11.841,\n",
       "   'categories': ('air',),\n",
       "   'input': ('biosphere3', '18ddd879-5496-4419-8ab7-e0d3864d977d')},\n",
       "  {'name': 'methane, bromotrifluoro-, halon 1301',\n",
       "   'synonyms': ['H-1301'],\n",
       "   'amount': 11.841,\n",
       "   'categories': ('air',),\n",
       "   'input': ('biosphere3', '96b52062-5e2f-40de-921a-f443c08862e4')},\n",
       "  {'name': 'methane, bromotrifluoro-, halon 1301',\n",
       "   'synonyms': ['H-1301'],\n",
       "   'amount': 11.841,\n",
       "   'categories': ('air',),\n",
       "   'input': ('biosphere3', 'cf719b78-9834-4649-a1dd-8554c366c83f')},\n",
       "  {'name': 'methane, bromochlorodifluoro-, halon 1211',\n",
       "   'synonyms': ['H-1211'],\n",
       "   'amount': 15.053,\n",
       "   'categories': ('air',),\n",
       "   'input': ('biosphere3', 'ee31ac2a-9336-4ed6-8077-9663003bc2f9')},\n",
       "  {'name': 'methane, bromochlorodifluoro-, halon 1211',\n",
       "   'synonyms': ['H-1211'],\n",
       "   'amount': 15.053,\n",
       "   'categories': ('air',),\n",
       "   'input': ('biosphere3', '816c43d1-bc30-4a72-81db-08cb6be4da4f')},\n",
       "  {'name': 'methane, bromochlorodifluoro-, halon 1211',\n",
       "   'synonyms': ['H-1211'],\n",
       "   'amount': 15.053,\n",
       "   'categories': ('air',),\n",
       "   'input': ('biosphere3', '06a4fedf-dab4-4ef1-90df-1d0ce8fe6477')},\n",
       "  {'name': 'methane, bromochlorodifluoro-, halon 1211',\n",
       "   'synonyms': ['H-1211'],\n",
       "   'amount': 15.053,\n",
       "   'categories': ('air',),\n",
       "   'input': ('biosphere3', '50f528ca-45e7-42d0-b399-998ea63ddabf')},\n",
       "  {'name': 'methane, bromochlorodifluoro-, halon 1211',\n",
       "   'synonyms': ['H-1211'],\n",
       "   'amount': 15.053,\n",
       "   'categories': ('air',),\n",
       "   'input': ('biosphere3', '494eb62d-3e16-4a81-b344-6d6dfd9fd4e2')},\n",
       "  {'name': 'Methane, tetrachloro-, R-10',\n",
       "   'synonyms': ['tetrachloromethane',\n",
       "    'carbon tetrachloride',\n",
       "    'carbon-tetrachloride'],\n",
       "   'amount': 1.203,\n",
       "   'categories': ('air',),\n",
       "   'input': ('biosphere3', '0f9f3e17-eb81-4adb-8170-049bc6b66728')},\n",
       "  {'name': 'Methane, tetrachloro-, R-10',\n",
       "   'synonyms': ['tetrachloromethane',\n",
       "    'carbon tetrachloride',\n",
       "    'carbon-tetrachloride'],\n",
       "   'amount': 1.203,\n",
       "   'categories': ('air',),\n",
       "   'input': ('biosphere3', '86d12e70-0c64-4ecf-ba52-114fa0c5d402')},\n",
       "  {'name': 'Methane, tetrachloro-, R-10',\n",
       "   'synonyms': ['tetrachloromethane',\n",
       "    'carbon tetrachloride',\n",
       "    'carbon-tetrachloride'],\n",
       "   'amount': 1.203,\n",
       "   'categories': ('air',),\n",
       "   'input': ('biosphere3', '5c97dd6c-aaa5-4477-aaf8-dbd0674499c4')},\n",
       "  {'name': 'Methane, tetrachloro-, R-10',\n",
       "   'synonyms': ['tetrachloromethane',\n",
       "    'carbon tetrachloride',\n",
       "    'carbon-tetrachloride'],\n",
       "   'amount': 1.203,\n",
       "   'categories': ('air',),\n",
       "   'input': ('biosphere3', 'ba5c9458-44df-4d93-a7c3-9389f65166d8')},\n",
       "  {'name': 'Methane, tetrachloro-, R-10',\n",
       "   'synonyms': ['tetrachloromethane',\n",
       "    'carbon tetrachloride',\n",
       "    'carbon-tetrachloride'],\n",
       "   'amount': 1.203,\n",
       "   'categories': ('air',),\n",
       "   'input': ('biosphere3', '6c833956-6302-47c3-8abc-7ecae92266fb')},\n",
       "  {'name': 'Ethane, 1,1,1-trichloro-, HCFC-140',\n",
       "   'synonyms': ['1,1,1,-trichloroethane',\n",
       "    'methyl chloroform',\n",
       "    'methyl-chloroform'],\n",
       "   'amount': 0.396,\n",
       "   'categories': ('air',),\n",
       "   'input': ('biosphere3', '818cee9e-231c-4b53-8ed2-47a0001802d5')},\n",
       "  {'name': 'Ethane, 1,1,1-trichloro-, HCFC-140',\n",
       "   'synonyms': ['1,1,1,-trichloroethane',\n",
       "    'methyl chloroform',\n",
       "    'methyl-chloroform'],\n",
       "   'amount': 0.396,\n",
       "   'categories': ('air',),\n",
       "   'input': ('biosphere3', '9e7d019f-c8c0-4631-9bbb-ced3e081c90d')},\n",
       "  {'name': 'Ethane, 1,1,1-trichloro-, HCFC-140',\n",
       "   'synonyms': ['1,1,1,-trichloroethane',\n",
       "    'methyl chloroform',\n",
       "    'methyl-chloroform'],\n",
       "   'amount': 0.396,\n",
       "   'categories': ('air',),\n",
       "   'input': ('biosphere3', 'ce6294f5-2ed7-46ee-a967-33e265e34455')},\n",
       "  {'name': 'Ethane, 1,1,1-trichloro-, HCFC-140',\n",
       "   'synonyms': ['1,1,1,-trichloroethane',\n",
       "    'methyl chloroform',\n",
       "    'methyl-chloroform'],\n",
       "   'amount': 0.396,\n",
       "   'categories': ('air',),\n",
       "   'input': ('biosphere3', '99585564-bfce-4845-9aaa-2f24b8f26a41')},\n",
       "  {'name': 'Ethane, 1,1,1-trichloro-, HCFC-140',\n",
       "   'synonyms': ['1,1,1,-trichloroethane',\n",
       "    'methyl chloroform',\n",
       "    'methyl-chloroform'],\n",
       "   'amount': 0.396,\n",
       "   'categories': ('air',),\n",
       "   'input': ('biosphere3', 'f8ee4881-a003-4e18-aa2a-d9daf97d76f7')},\n",
       "  {'name': 'methane, chlorodifluoro-, hcfc-22',\n",
       "   'synonyms': [''],\n",
       "   'amount': 0.085,\n",
       "   'categories': ('air',),\n",
       "   'input': ('biosphere3', '26991da1-c263-4707-9f85-78685acc94dc')},\n",
       "  {'name': 'methane, chlorodifluoro-, hcfc-22',\n",
       "   'synonyms': [''],\n",
       "   'amount': 0.085,\n",
       "   'categories': ('air',),\n",
       "   'input': ('biosphere3', '8ca6c84b-7f56-47e6-8d17-4f2dbc49a943')},\n",
       "  {'name': 'methane, chlorodifluoro-, hcfc-22',\n",
       "   'synonyms': [''],\n",
       "   'amount': 0.085,\n",
       "   'categories': ('air',),\n",
       "   'input': ('biosphere3', '9b505d7c-4239-40e0-9dbe-55d38f3b85b3')},\n",
       "  {'name': 'methane, chlorodifluoro-, hcfc-22',\n",
       "   'synonyms': [''],\n",
       "   'amount': 0.085,\n",
       "   'categories': ('air',),\n",
       "   'input': ('biosphere3', '18c582fe-7336-4138-8797-2db8b7a754c7')},\n",
       "  {'name': 'methane, chlorodifluoro-, hcfc-22',\n",
       "   'synonyms': [''],\n",
       "   'amount': 0.085,\n",
       "   'categories': ('air',),\n",
       "   'input': ('biosphere3', '56b7d3b6-83d7-42b0-a65b-5ad23e29db47')},\n",
       "  {'name': 'ethane, 2,2-dichloro-1,1,1-trifluoro-, hcfc-123',\n",
       "   'synonyms': [''],\n",
       "   'amount': 0.025,\n",
       "   'categories': ('air',),\n",
       "   'input': ('biosphere3', 'f322122f-3059-4cfb-8754-efc82548e7f0')},\n",
       "  {'name': 'ethane, 2,2-dichloro-1,1,1-trifluoro-, hcfc-123',\n",
       "   'synonyms': [''],\n",
       "   'amount': 0.025,\n",
       "   'categories': ('air',),\n",
       "   'input': ('biosphere3', 'db907ff7-6cf0-4f88-9376-116262dfad6d')},\n",
       "  {'name': 'ethane, 2,2-dichloro-1,1,1-trifluoro-, hcfc-123',\n",
       "   'synonyms': [''],\n",
       "   'amount': 0.025,\n",
       "   'categories': ('air',),\n",
       "   'input': ('biosphere3', '2fff3bda-1eec-4166-9969-bc9e757c8e8e')},\n",
       "  {'name': 'ethane, 2,2-dichloro-1,1,1-trifluoro-, hcfc-123',\n",
       "   'synonyms': [''],\n",
       "   'amount': 0.025,\n",
       "   'categories': ('air',),\n",
       "   'input': ('biosphere3', '050da0cd-2957-45a9-ae7a-ace372083fe5')},\n",
       "  {'name': 'ethane, 2,2-dichloro-1,1,1-trifluoro-, hcfc-123',\n",
       "   'synonyms': [''],\n",
       "   'amount': 0.025,\n",
       "   'categories': ('air',),\n",
       "   'input': ('biosphere3', '2cbc6042-2cee-4668-8017-d7f805d9029e')},\n",
       "  {'name': 'ethane, 2-chloro-1,1,1,2-tetrafluoro-, hcfc-124',\n",
       "   'synonyms': [''],\n",
       "   'amount': 0.049,\n",
       "   'categories': ('air',),\n",
       "   'input': ('biosphere3', '60268f3d-468b-487e-acb1-24d7250cb6b3')},\n",
       "  {'name': 'ethane, 2-chloro-1,1,1,2-tetrafluoro-, hcfc-124',\n",
       "   'synonyms': [''],\n",
       "   'amount': 0.049,\n",
       "   'categories': ('air',),\n",
       "   'input': ('biosphere3', '0bf92802-8b5e-43f5-a261-95c06bd5c551')},\n",
       "  {'name': 'ethane, 2-chloro-1,1,1,2-tetrafluoro-, hcfc-124',\n",
       "   'synonyms': [''],\n",
       "   'amount': 0.049,\n",
       "   'categories': ('air',),\n",
       "   'input': ('biosphere3', '9b7e5cbf-e1eb-420d-ad43-248df23457ee')},\n",
       "  {'name': 'ethane, 2-chloro-1,1,1,2-tetrafluoro-, hcfc-124',\n",
       "   'synonyms': [''],\n",
       "   'amount': 0.049,\n",
       "   'categories': ('air',),\n",
       "   'input': ('biosphere3', '27f61651-96a5-45c7-9873-832626cf6905')},\n",
       "  {'name': 'ethane, 2-chloro-1,1,1,2-tetrafluoro-, hcfc-124',\n",
       "   'synonyms': [''],\n",
       "   'amount': 0.049,\n",
       "   'categories': ('air',),\n",
       "   'input': ('biosphere3', '71a6ea76-6642-4573-bed2-c1884e6792fd')},\n",
       "  {'name': 'ethane, 1,1-dichloro-1-fluoro-, hcfc-141b',\n",
       "   'synonyms': [''],\n",
       "   'amount': 0.275,\n",
       "   'categories': ('air',),\n",
       "   'input': ('biosphere3', 'b018c97d-8fea-4258-b4d3-6a65669c77f4')},\n",
       "  {'name': 'ethane, 1,1-dichloro-1-fluoro-, hcfc-141b',\n",
       "   'synonyms': [''],\n",
       "   'amount': 0.275,\n",
       "   'categories': ('air',),\n",
       "   'input': ('biosphere3', '843fd145-61ac-4fa7-a608-ce4ac4d88d49')},\n",
       "  {'name': 'ethane, 1,1-dichloro-1-fluoro-, hcfc-141b',\n",
       "   'synonyms': [''],\n",
       "   'amount': 0.275,\n",
       "   'categories': ('air',),\n",
       "   'input': ('biosphere3', '8c193650-c4ae-4e9a-b25b-eaa7b2b9ea2d')},\n",
       "  {'name': 'ethane, 1,1-dichloro-1-fluoro-, hcfc-141b',\n",
       "   'synonyms': [''],\n",
       "   'amount': 0.275,\n",
       "   'categories': ('air',),\n",
       "   'input': ('biosphere3', '416eedbd-a7b4-4693-8031-9bfaa2f20ebc')},\n",
       "  {'name': 'ethane, 1,1-dichloro-1-fluoro-, hcfc-141b',\n",
       "   'synonyms': [''],\n",
       "   'amount': 0.275,\n",
       "   'categories': ('air',),\n",
       "   'input': ('biosphere3', '033d3a16-e1a2-4ce8-8769-f4ea867801ca')},\n",
       "  {'name': 'ethane, 1-chloro-1,1-difluoro-, hcfc-142b',\n",
       "   'synonyms': [''],\n",
       "   'amount': 0.111,\n",
       "   'categories': ('air',),\n",
       "   'input': ('biosphere3', '50432644-8568-444e-b7e7-8e37a7e1f3e3')},\n",
       "  {'name': 'ethane, 1-chloro-1,1-difluoro-, hcfc-142b',\n",
       "   'synonyms': [''],\n",
       "   'amount': 0.111,\n",
       "   'categories': ('air',),\n",
       "   'input': ('biosphere3', 'ba781ac6-cdf1-4a09-86b5-76b19ed3438b')},\n",
       "  {'name': 'ethane, 1-chloro-1,1-difluoro-, hcfc-142b',\n",
       "   'synonyms': [''],\n",
       "   'amount': 0.111,\n",
       "   'categories': ('air',),\n",
       "   'input': ('biosphere3', '95b6f6da-49f9-413d-8ff5-5342d6cff588')},\n",
       "  {'name': 'ethane, 1-chloro-1,1-difluoro-, hcfc-142b',\n",
       "   'synonyms': [''],\n",
       "   'amount': 0.111,\n",
       "   'categories': ('air',),\n",
       "   'input': ('biosphere3', '400be66e-4383-482a-93e3-c005e96de261')},\n",
       "  {'name': 'ethane, 1-chloro-1,1-difluoro-, hcfc-142b',\n",
       "   'synonyms': [''],\n",
       "   'amount': 0.111,\n",
       "   'categories': ('air',),\n",
       "   'input': ('biosphere3', '1652c2e3-c6c5-49e1-9ad1-34c188087ca6')},\n",
       "  {'name': 'methane, bromo-, halon 1001',\n",
       "   'synonyms': [''],\n",
       "   'amount': 1.649,\n",
       "   'categories': ('air',),\n",
       "   'input': ('biosphere3', '701cda28-4722-431c-b52f-05a735ef5ed3')},\n",
       "  {'name': 'methane, bromo-, halon 1001',\n",
       "   'synonyms': [''],\n",
       "   'amount': 1.649,\n",
       "   'categories': ('air',),\n",
       "   'input': ('biosphere3', '8c283de2-50d3-40c8-8bff-1e172c3398f8')},\n",
       "  {'name': 'methane, bromo-, halon 1001',\n",
       "   'synonyms': [''],\n",
       "   'amount': 1.649,\n",
       "   'categories': ('air',),\n",
       "   'input': ('biosphere3', '09e231fa-b1c2-4d63-9c57-7ea0e2210858')},\n",
       "  {'name': 'methane, bromo-, halon 1001',\n",
       "   'synonyms': [''],\n",
       "   'amount': 1.649,\n",
       "   'categories': ('air',),\n",
       "   'input': ('biosphere3', '6bdb666d-e227-4f57-9b1d-d25009d3c44b')},\n",
       "  {'name': 'methane, bromo-, halon 1001',\n",
       "   'synonyms': [''],\n",
       "   'amount': 1.649,\n",
       "   'categories': ('air',),\n",
       "   'input': ('biosphere3', '4bf1c333-419b-4278-ac14-247c8bf563d6')},\n",
       "  {'name': 'methane, monochloro-, r-40',\n",
       "   'synonyms': [''],\n",
       "   'amount': 0.05,\n",
       "   'categories': ('air',),\n",
       "   'input': ('biosphere3', 'ed63abd0-7cc6-4825-8759-b367e560fe95')},\n",
       "  {'name': 'methane, monochloro-, r-40',\n",
       "   'synonyms': [''],\n",
       "   'amount': 0.05,\n",
       "   'categories': ('air',),\n",
       "   'input': ('biosphere3', '370447a7-70d1-47bd-8577-0a32c4f53570')},\n",
       "  {'name': 'methane, monochloro-, r-40',\n",
       "   'synonyms': [''],\n",
       "   'amount': 0.05,\n",
       "   'categories': ('air',),\n",
       "   'input': ('biosphere3', '246c87af-4495-4977-8d39-eae397c1c8f1')},\n",
       "  {'name': 'methane, monochloro-, r-40',\n",
       "   'synonyms': [''],\n",
       "   'amount': 0.05,\n",
       "   'categories': ('air',),\n",
       "   'input': ('biosphere3', '18ea247b-edc2-43fe-89bd-cedd04102bcc')},\n",
       "  {'name': 'methane, monochloro-, r-40',\n",
       "   'synonyms': [''],\n",
       "   'amount': 0.05,\n",
       "   'categories': ('air',),\n",
       "   'input': ('biosphere3', '0f70e720-127e-44dc-bb85-438158235ab6')},\n",
       "  {'name': 'dinitrogen monoxide',\n",
       "   'synonyms': ['dinitrogen oxide',\n",
       "    'dinitrogen-oxide',\n",
       "    'nitrous oxide',\n",
       "    'nitrous-oxide'],\n",
       "   'amount': 0.007,\n",
       "   'categories': ('air',),\n",
       "   'input': ('biosphere3', 'afd6d670-bbb0-4625-9730-04088a5b035e')},\n",
       "  {'name': 'dinitrogen monoxide',\n",
       "   'synonyms': ['dinitrogen oxide',\n",
       "    'dinitrogen-oxide',\n",
       "    'nitrous oxide',\n",
       "    'nitrous-oxide'],\n",
       "   'amount': 0.007,\n",
       "   'categories': ('air',),\n",
       "   'input': ('biosphere3', '6dc1b46f-ee89-4495-95c4-b8a637bcd6cb')},\n",
       "  {'name': 'dinitrogen monoxide',\n",
       "   'synonyms': ['dinitrogen oxide',\n",
       "    'dinitrogen-oxide',\n",
       "    'nitrous oxide',\n",
       "    'nitrous-oxide'],\n",
       "   'amount': 0.007,\n",
       "   'categories': ('air',),\n",
       "   'input': ('biosphere3', '473826ae-125a-4b02-8c8e-c84322491d80')},\n",
       "  {'name': 'dinitrogen monoxide',\n",
       "   'synonyms': ['dinitrogen oxide',\n",
       "    'dinitrogen-oxide',\n",
       "    'nitrous oxide',\n",
       "    'nitrous-oxide'],\n",
       "   'amount': 0.007,\n",
       "   'categories': ('air',),\n",
       "   'input': ('biosphere3', '20185046-64bb-4c09-a8e7-e8a9e144ca98')},\n",
       "  {'name': 'dinitrogen monoxide',\n",
       "   'synonyms': ['dinitrogen oxide',\n",
       "    'dinitrogen-oxide',\n",
       "    'nitrous oxide',\n",
       "    'nitrous-oxide'],\n",
       "   'amount': 0.007,\n",
       "   'categories': ('air',),\n",
       "   'input': ('biosphere3', '81305cda-63f1-4c1a-99c6-2c2568550ec4')},\n",
       "  {'name': 'Hydrocarbons, chlorinated',\n",
       "   'synonyms': [''],\n",
       "   'amount': 0.0129,\n",
       "   'categories': ('air',),\n",
       "   'input': ('biosphere3', 'd14eb0da-95fd-46c3-90db-55ca33d78701')},\n",
       "  {'name': 'Hydrocarbons, chlorinated',\n",
       "   'synonyms': [''],\n",
       "   'amount': 0.0129,\n",
       "   'categories': ('air',),\n",
       "   'input': ('biosphere3', '21f7d520-f329-4592-8880-949a08773371')},\n",
       "  {'name': 'Hydrocarbons, chlorinated',\n",
       "   'synonyms': [''],\n",
       "   'amount': 0.0129,\n",
       "   'categories': ('air',),\n",
       "   'input': ('biosphere3', '15a335be-9a71-431f-a0b0-56585fbafe5e')},\n",
       "  {'name': 'Hydrocarbons, chlorinated',\n",
       "   'synonyms': [''],\n",
       "   'amount': 0.0129,\n",
       "   'categories': ('air',),\n",
       "   'input': ('biosphere3', 'd6626dfb-3ac8-4169-9e75-54c41ef2a582')},\n",
       "  {'name': 'Hydrocarbons, chlorinated',\n",
       "   'synonyms': [''],\n",
       "   'amount': 0.0129,\n",
       "   'categories': ('air',),\n",
       "   'input': ('biosphere3', '626dd1d8-5355-40cb-8569-9c87c2c6ab18')}]}"
      ]
     },
     "execution_count": 6,
     "metadata": {},
     "output_type": "execute_result"
    }
   ],
   "source": [
    "gw.data[0]"
   ]
  },
  {
   "cell_type": "code",
   "execution_count": 7,
   "metadata": {},
   "outputs": [
    {
     "name": "stdout",
     "output_type": "stream",
     "text": [
      "Wrote matching file to:\n",
      "/Users/cmutel/Library/Application Support/Brightway3/default.c21f969b/output/lcia-matching-ozone-depletion.xlsx\n"
     ]
    }
   ],
   "source": [
    "gw.write_excel(\"ozone-depletion\")"
   ]
  },
  {
   "cell_type": "code",
   "execution_count": 8,
   "metadata": {},
   "outputs": [
    {
     "name": "stdout",
     "output_type": "stream",
     "text": [
      "3 methods\n",
      "282 cfs\n",
      "12 unlinked cfs\n"
     ]
    },
    {
     "data": {
      "text/plain": [
       "(3, 282, 12)"
      ]
     },
     "execution_count": 8,
     "metadata": {},
     "output_type": "execute_result"
    }
   ],
   "source": [
    "gw.statistics()"
   ]
  },
  {
   "cell_type": "code",
   "execution_count": 9,
   "metadata": {},
   "outputs": [],
   "source": [
    "c = gw.compare_to_previous()"
   ]
  },
  {
   "cell_type": "code",
   "execution_count": 10,
   "metadata": {},
   "outputs": [
    {
     "data": {
      "text/plain": [
       "[('found', 18), ('missing', 4), ('reference', 18)]"
      ]
     },
     "execution_count": 10,
     "metadata": {},
     "output_type": "execute_result"
    }
   ],
   "source": [
    "[(key, len(c[key])) for key in c]"
   ]
  },
  {
   "cell_type": "markdown",
   "metadata": {},
   "source": [
    "Present in previous ReCiPe, missing here"
   ]
  },
  {
   "cell_type": "code",
   "execution_count": 11,
   "metadata": {},
   "outputs": [
    {
     "data": {
      "text/plain": [
       "{'ethane, 1,1,2-trichloro-'}"
      ]
     },
     "execution_count": 11,
     "metadata": {},
     "output_type": "execute_result"
    }
   ],
   "source": [
    "c['reference'].difference(c['found'])"
   ]
  },
  {
   "cell_type": "code",
   "execution_count": 12,
   "metadata": {},
   "outputs": [
    {
     "data": {
      "text/plain": [
       "{'dinitrogen monoxide',\n",
       " 'ethane, 1,1,1-trichloro-, hcfc-140',\n",
       " 'ethane, 1,1,2-trichloro-1,2,2-trifluoro-, cfc-113',\n",
       " 'ethane, 1,1-dichloro-1-fluoro-, hcfc-141b',\n",
       " 'ethane, 1,2-dichloro-1,1,2,2-tetrafluoro-, cfc-114',\n",
       " 'ethane, 1-chloro-1,1-difluoro-, hcfc-142b',\n",
       " 'ethane, 2,2-dichloro-1,1,1-trifluoro-, hcfc-123',\n",
       " 'ethane, 2-chloro-1,1,1,2-tetrafluoro-, hcfc-124',\n",
       " 'ethane, chloropentafluoro-, cfc-115',\n",
       " 'hydrocarbons, chlorinated',\n",
       " 'methane, bromo-, halon 1001',\n",
       " 'methane, bromochlorodifluoro-, halon 1211',\n",
       " 'methane, bromotrifluoro-, halon 1301',\n",
       " 'methane, chlorodifluoro-, hcfc-22',\n",
       " 'methane, dichlorodifluoro-, cfc-12',\n",
       " 'methane, monochloro-, r-40',\n",
       " 'methane, tetrachloro-, r-10',\n",
       " 'methane, trichlorofluoro-, cfc-11'}"
      ]
     },
     "execution_count": 12,
     "metadata": {},
     "output_type": "execute_result"
    }
   ],
   "source": [
    "c['found']"
   ]
  },
  {
   "cell_type": "code",
   "execution_count": 13,
   "metadata": {},
   "outputs": [
    {
     "name": "stdout",
     "output_type": "stream",
     "text": [
      "Applying strategy: drop_unlinked_cfs\n",
      "Applied 1 strategies in 0.00 seconds\n"
     ]
    }
   ],
   "source": [
    "gw.drop_unlinked()"
   ]
  },
  {
   "cell_type": "code",
   "execution_count": 14,
   "metadata": {},
   "outputs": [
    {
     "name": "stdout",
     "output_type": "stream",
     "text": [
      "Wrote 3 LCIA methods with 270 characterization factors\n"
     ]
    }
   ],
   "source": [
    "gw.write_methods()"
   ]
  },
  {
   "cell_type": "code",
   "execution_count": 15,
   "metadata": {},
   "outputs": [
    {
     "data": {
      "text/plain": [
       "('ReCiPe 2016', 'v1.1 (20180117)', 'ODPinfinite', 'Egalitarian')"
      ]
     },
     "execution_count": 15,
     "metadata": {},
     "output_type": "execute_result"
    }
   ],
   "source": [
    "gw.data[2]['name']"
   ]
  },
  {
   "cell_type": "markdown",
   "metadata": {},
   "source": [
    "# Compare to previous ReCiPe method"
   ]
  },
  {
   "cell_type": "code",
   "execution_count": 16,
   "metadata": {},
   "outputs": [],
   "source": [
    "%matplotlib inline"
   ]
  },
  {
   "cell_type": "code",
   "execution_count": 17,
   "metadata": {},
   "outputs": [],
   "source": [
    "import bw2data, bw2calc\n",
    "import pyprind\n",
    "import seaborn as sb\n",
    "import numpy as np"
   ]
  },
  {
   "cell_type": "code",
   "execution_count": 18,
   "metadata": {},
   "outputs": [],
   "source": [
    "keys = sorted([x.key for x in bw2data.Database(\"ecoinvent 3.6 cutoff\")])"
   ]
  },
  {
   "cell_type": "code",
   "execution_count": 19,
   "metadata": {},
   "outputs": [],
   "source": [
    "results_reference, results_2016 = [], []"
   ]
  },
  {
   "cell_type": "code",
   "execution_count": 22,
   "metadata": {},
   "outputs": [],
   "source": [
    "lca = bw2calc.LCA({keys[0]: 1}, gw.previous_reference)\n",
    "lca.lci()\n",
    "lca.lcia()"
   ]
  },
  {
   "cell_type": "code",
   "execution_count": 23,
   "metadata": {},
   "outputs": [],
   "source": [
    "reference_cm = lca.characterization_matrix.copy()"
   ]
  },
  {
   "cell_type": "code",
   "execution_count": 24,
   "metadata": {},
   "outputs": [],
   "source": [
    "lca.switch_method(('ReCiPe 2016', 'v1.1 (20180117)', 'ODPinfinite', 'Egalitarian'))"
   ]
  },
  {
   "cell_type": "code",
   "execution_count": 25,
   "metadata": {},
   "outputs": [
    {
     "data": {
      "text/plain": [
       "(49.83785939682275, 38.43234002403915)"
      ]
     },
     "execution_count": 25,
     "metadata": {},
     "output_type": "execute_result"
    }
   ],
   "source": [
    "lca.characterization_matrix.sum(), reference_cm.sum()"
   ]
  },
  {
   "cell_type": "code",
   "execution_count": 26,
   "metadata": {},
   "outputs": [],
   "source": [
    "new_cm = lca.characterization_matrix.copy()"
   ]
  },
  {
   "cell_type": "code",
   "execution_count": 27,
   "metadata": {},
   "outputs": [
    {
     "name": "stderr",
     "output_type": "stream",
     "text": [
      "0% [##############################] 100% | ETA: 00:00:00\n",
      "Total time elapsed: 00:05:29\n"
     ]
    }
   ],
   "source": [
    "for key in pyprind.prog_bar(keys):\n",
    "    lca.redo_lci({key: 1})\n",
    "    results_reference.append((reference_cm * lca.inventory).sum())\n",
    "    results_2016.append((new_cm * lca.inventory).sum())    "
   ]
  },
  {
   "cell_type": "code",
   "execution_count": 28,
   "metadata": {},
   "outputs": [
    {
     "name": "stderr",
     "output_type": "stream",
     "text": [
      "/Users/cmutel/miniconda3/envs/bw2dev/lib/python3.7/site-packages/ipykernel_launcher.py:1: RuntimeWarning: divide by zero encountered in log10\n",
      "  \"\"\"Entry point for launching an IPython kernel.\n"
     ]
    },
    {
     "data": {
      "text/plain": [
       "<matplotlib.axes._subplots.AxesSubplot at 0x12fa349d0>"
      ]
     },
     "execution_count": 28,
     "metadata": {},
     "output_type": "execute_result"
    },
    {
     "data": {
      "image/png": "[encoded data removed]",
      "text/plain": [
       "<Figure size 432x288 with 1 Axes>"
      ]
     },
     "metadata": {
      "needs_background": "light"
     },
     "output_type": "display_data"
    }
   ],
   "source": [
    "sb.scatterplot(np.log10(np.array(results_reference)), np.log10(np.array(results_2016)))"
   ]
  },
  {
   "cell_type": "code",
   "execution_count": 35,
   "metadata": {},
   "outputs": [],
   "source": [
    "def masked_ratio(a, b):\n",
    "    a, b = np.array(a), np.array(b)\n",
    "    mask = (a != 0) * (b != 0)\n",
    "    return a[mask] / b[mask]"
   ]
  },
  {
   "cell_type": "code",
   "execution_count": 36,
   "metadata": {},
   "outputs": [
    {
     "data": {
      "text/plain": [
       "<matplotlib.axes._subplots.AxesSubplot at 0x123d44110>"
      ]
     },
     "execution_count": 36,
     "metadata": {},
     "output_type": "execute_result"
    },
    {
     "data": {
      "image/png": "[encoded data removed]",
      "text/plain": [
       "<Figure size 432x288 with 1 Axes>"
      ]
     },
     "metadata": {
      "needs_background": "light"
     },
     "output_type": "display_data"
    }
   ],
   "source": [
    "sb.distplot(masked_ratio(results_2016, results_reference))"
   ]
  },
  {
   "cell_type": "code",
   "execution_count": 31,
   "metadata": {},
   "outputs": [],
   "source": [
    "def abnormal_ratio(a, b):\n",
    "    if not a or not b:\n",
    "        return\n",
    "    ratio = abs(a / b)\n",
    "    if 0.8 < ratio < 1.25:\n",
    "        return\n",
    "    return ratio"
   ]
  },
  {
   "cell_type": "code",
   "execution_count": 32,
   "metadata": {},
   "outputs": [],
   "source": [
    "exceptions = sorted([\n",
    "    (abnormal_ratio(results_2016[i], results_reference[i]), bw2data.get_activity(key)) \n",
    "    for i, key in enumerate(keys) \n",
    "    if abnormal_ratio(results_2016[i], results_reference[i])\n",
    "], reverse=True)"
   ]
  },
  {
   "cell_type": "code",
   "execution_count": 33,
   "metadata": {},
   "outputs": [
    {
     "data": {
      "text/plain": [
       "16885"
      ]
     },
     "execution_count": 33,
     "metadata": {},
     "output_type": "execute_result"
    }
   ],
   "source": [
    "len(exceptions)"
   ]
  },
  {
   "cell_type": "code",
   "execution_count": 34,
   "metadata": {
    "scrolled": false
   },
   "outputs": [
    {
     "data": {
      "text/plain": [
       "[(1649230.4667126988, 'land use change, annual crop' (hectare, BR-MS, None)),\n",
       " (1649230.4667126988,\n",
       "  'market for land use change, annual crop' (hectare, BR-MS, None)),\n",
       " (282226.93226109183,\n",
       "  'vanilla seedling production, for planting' (unit, RoW, None)),\n",
       " (266990.05910256895,\n",
       "  'vanilla seedling production, for planting' (unit, MG, None)),\n",
       " (145556.89891042918, 'vanilla production' (kilogram, RoW, None)),\n",
       " (141431.75619837918, 'vanilla production' (kilogram, MG, None)),\n",
       " (49209.69111163105,\n",
       "  'market for land use change, annual crop' (hectare, BR-PR, None)),\n",
       " (49209.69111163104, 'land use change, annual crop' (hectare, BR-PR, None)),\n",
       " (46427.120813677335,\n",
       "  'weaned calves production on native pasture, Pantanal' (kilogram, BR, None)),\n",
       " (46427.11866908204,\n",
       "  'weaned calves production on native pasture, Pantanal' (kilogram, BR, None))]"
      ]
     },
     "execution_count": 34,
     "metadata": {},
     "output_type": "execute_result"
    }
   ],
   "source": [
    "exceptions[:10]"
   ]
  },
  {
   "cell_type": "code",
   "execution_count": null,
   "metadata": {},
   "outputs": [],
   "source": []
  }
 ],
 "metadata": {
  "kernelspec": {
   "display_name": "Python 3",
   "language": "python",
   "name": "python3"
  },
  "language_info": {
   "codemirror_mode": {
    "name": "ipython",
    "version": 3
   },
   "file_extension": ".py",
   "mimetype": "text/x-python",
   "name": "python",
   "nbconvert_exporter": "python",
   "pygments_lexer": "ipython3",
   "version": "3.7.6"
  }
 },
 "nbformat": 4,
 "nbformat_minor": 4
}
