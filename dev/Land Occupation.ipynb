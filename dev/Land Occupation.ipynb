{
 "cells": [
  {
   "cell_type": "code",
   "execution_count": 1,
   "metadata": {},
   "outputs": [],
   "source": [
    "from bw_recipe_2016 import (\n",
    "    LandOccupation,\n",
    "    get_biosphere_database, \n",
    "    extract_recipe,\n",
    ")"
   ]
  },
  {
   "cell_type": "code",
   "execution_count": 2,
   "metadata": {},
   "outputs": [],
   "source": [
    "data = extract_recipe()[17]"
   ]
  },
  {
   "cell_type": "code",
   "execution_count": 3,
   "metadata": {},
   "outputs": [],
   "source": [
    "biosphere = get_biosphere_database()"
   ]
  },
  {
   "cell_type": "code",
   "execution_count": 4,
   "metadata": {},
   "outputs": [],
   "source": [
    "gw = LandOccupation(data, biosphere)"
   ]
  },
  {
   "cell_type": "code",
   "execution_count": 5,
   "metadata": {},
   "outputs": [
    {
     "name": "stdout",
     "output_type": "stream",
     "text": [
      "Applying strategy: generic_reformat\n",
      "Applying strategy: set_unit\n",
      "Applying strategy: add_missing_flows\n",
      "Applying strategy: reset_categories\n",
      "Applying strategy: complete_method_name\n",
      "Applying strategy: match_multiple\n",
      "Applied 6 strategies in 0.01 seconds\n"
     ]
    }
   ],
   "source": [
    "gw.apply_strategies()"
   ]
  },
  {
   "cell_type": "code",
   "execution_count": 6,
   "metadata": {},
   "outputs": [
    {
     "data": {
      "text/plain": [
       "{'name': ('ReCiPe 2016', 'v1.1 (20180117)', 'Land occupation'),\n",
       " 'unit': 'm2∙annual crop eq',\n",
       " 'filename': 'ReCiPe2016_CFs_v1.1_20180117.xlsx',\n",
       " 'description': '',\n",
       " 'exchanges': [{'name': 'Occupation, pasture, man made, intensive',\n",
       "   'categories': ('natural resource',),\n",
       "   'amount': 0.55,\n",
       "   'input': ('biosphere3', '98b723d4-3362-4b38-8b1e-1bedacfd5e27')},\n",
       "  {'name': 'Occupation, permanent crop, non-irrigated, intensive',\n",
       "   'categories': ('natural resource',),\n",
       "   'amount': 0.7,\n",
       "   'input': ('biosphere3', 'c9461a73-d00a-4fc7-a890-a9eda6af3185')},\n",
       "  {'name': 'Occupation, mineral extraction site',\n",
       "   'categories': ('natural resource',),\n",
       "   'amount': 0.73,\n",
       "   'input': ('biosphere3', '379ba5c9-5c3a-43d0-8e2d-605ad9c39e46')},\n",
       "  {'name': 'Occupation, annual crop, greenhouse',\n",
       "   'categories': ('natural resource',),\n",
       "   'amount': 0.73,\n",
       "   'input': ('biosphere3', '9e80f7cd-47fa-4c7f-8f2c-bdb9731b3196')},\n",
       "  {'name': 'Occupation, permanent crop, irrigated, intensive',\n",
       "   'categories': ('natural resource',),\n",
       "   'amount': 0.7,\n",
       "   'input': ('biosphere3', '3afbc2d8-1b51-4d43-87a7-e68291c1e999')},\n",
       "  {'name': 'Occupation, industrial area',\n",
       "   'categories': ('natural resource',),\n",
       "   'amount': 0.73,\n",
       "   'input': ('biosphere3', 'fe9c3a98-a6d2-452d-a9a4-a13e64f1b95b')},\n",
       "  {'name': 'Occupation, construction site',\n",
       "   'categories': ('natural resource',),\n",
       "   'amount': 0.73,\n",
       "   'input': ('biosphere3', '4b6b9b76-3199-4bd0-b11d-f8f2efbeac4e')},\n",
       "  {'name': 'Occupation, annual crop, non-irrigated, intensive',\n",
       "   'categories': ('natural resource',),\n",
       "   'amount': 1.0,\n",
       "   'input': ('biosphere3', 'e063ee9c-9850-42b5-b01e-4cc9b5ad7152')},\n",
       "  {'name': 'Occupation, traffic area, road network',\n",
       "   'categories': ('natural resource',),\n",
       "   'amount': 0.73,\n",
       "   'input': ('biosphere3', '26efe47c-92a5-4dea-b4d0-eac13e418a58')},\n",
       "  {'name': 'Occupation, annual crop, irrigated, intensive',\n",
       "   'categories': ('natural resource',),\n",
       "   'amount': 1.0,\n",
       "   'input': ('biosphere3', '9fd128fe-d8c5-476f-af42-2795d5f5d227')},\n",
       "  {'name': 'Occupation, dump site',\n",
       "   'categories': ('natural resource',),\n",
       "   'amount': 0.73,\n",
       "   'input': ('biosphere3', '1eaa9ea4-40b8-414a-b198-5626400372e1')},\n",
       "  {'name': 'Occupation, river, artificial',\n",
       "   'categories': ('natural resource',),\n",
       "   'amount': 0.0,\n",
       "   'input': ('biosphere3', 'c14ea750-4a9f-41fa-bcc1-4a1d84466f43')},\n",
       "  {'name': 'Occupation, annual crop',\n",
       "   'categories': ('natural resource',),\n",
       "   'amount': 1.0,\n",
       "   'input': ('biosphere3', 'c5aafa60-495c-461c-a1d4-b262a34c45b9')},\n",
       "  {'name': 'Occupation, lake, artificial',\n",
       "   'categories': ('natural resource',),\n",
       "   'amount': 0.0,\n",
       "   'input': ('biosphere3', '69dfa439-8e4e-4cae-bb0c-85a8aa8b9a73')},\n",
       "  {'name': 'Occupation, annual crop, non-irrigated, extensive',\n",
       "   'categories': ('natural resource',),\n",
       "   'amount': 1.0,\n",
       "   'input': ('biosphere3', '1b0a8570-eab4-46c2-9b67-c9b918e75676')},\n",
       "  {'name': 'Occupation, traffic area, rail/road embankment',\n",
       "   'categories': ('natural resource',),\n",
       "   'amount': 0.73,\n",
       "   'input': ('biosphere3', '956c5f83-65c8-4607-9749-147cfb9c8f70')},\n",
       "  {'name': 'Occupation, pasture, man made, extensive',\n",
       "   'categories': ('natural resource',),\n",
       "   'amount': 0.55,\n",
       "   'input': ('biosphere3', '19f84b2e-e6ff-4351-ba3a-8b650fc20d14')},\n",
       "  {'name': 'Occupation, forest, extensive',\n",
       "   'categories': ('natural resource',),\n",
       "   'amount': 0.3,\n",
       "   'input': ('biosphere3', '2925111b-3464-4e34-9d02-b73c1c033e91')},\n",
       "  {'name': 'Occupation, forest, intensive',\n",
       "   'categories': ('natural resource',),\n",
       "   'amount': 0.3,\n",
       "   'input': ('biosphere3', 'aca1714f-0040-4a65-a73a-0e38aa9f50f4')},\n",
       "  {'name': 'Occupation, permanent crop',\n",
       "   'categories': ('natural resource',),\n",
       "   'amount': 0.7,\n",
       "   'input': ('biosphere3', 'e9007a6f-7244-44d4-a561-91ae1b6c6cfc')},\n",
       "  {'name': 'Occupation, traffic area, rail network',\n",
       "   'categories': ('natural resource',),\n",
       "   'amount': 0.73,\n",
       "   'input': ('biosphere3', '062a6faf-b1a5-4a6a-aa02-47ae3ec566a8')},\n",
       "  {'name': 'Occupation, seabed, infrastructure',\n",
       "   'categories': ('natural resource',),\n",
       "   'amount': 0.0,\n",
       "   'input': ('biosphere3', '9db06277-b6d9-4c48-8cfb-de342e928a50')},\n",
       "  {'name': 'Occupation, seabed, drilling and mining',\n",
       "   'categories': ('natural resource',),\n",
       "   'amount': 0.0,\n",
       "   'input': ('biosphere3', '70c4c6d8-ed81-4763-ae6d-39e54ef0b1fa')},\n",
       "  {'name': 'Occupation, annual crop, non-irrigated',\n",
       "   'categories': ('natural resource',),\n",
       "   'amount': 1.0,\n",
       "   'input': ('biosphere3', 'a6889a22-e99e-42ea-85cd-4a68d7975dcd')},\n",
       "  {'name': 'Occupation, shrub land, sclerophyllous',\n",
       "   'categories': ('natural resource',),\n",
       "   'amount': 0.3,\n",
       "   'input': ('biosphere3', 'c199261c-8234-43c5-b906-5b67707e4395')},\n",
       "  {'name': 'Occupation, annual crop, irrigated',\n",
       "   'categories': ('natural resource',),\n",
       "   'amount': 1.0,\n",
       "   'input': ('biosphere3', 'c4a82f46-381f-474c-a362-3363064b9c33')},\n",
       "  {'name': 'Occupation, urban, discontinuously built',\n",
       "   'categories': ('natural resource',),\n",
       "   'amount': 0.73,\n",
       "   'input': ('biosphere3', '56ec994a-eb96-42e8-93eb-4970e30e6362')},\n",
       "  {'name': 'Occupation, pasture, man made',\n",
       "   'categories': ('natural resource',),\n",
       "   'amount': 0.55,\n",
       "   'input': ('biosphere3', '59ded913-17fe-4b3e-80cb-79b97cdbef9a')},\n",
       "  {'name': 'Occupation, grassland, natural (non-use)',\n",
       "   'categories': ('natural resource',),\n",
       "   'amount': 0.0,\n",
       "   'input': ('biosphere3', '2b8a0f87-bd2a-4b10-8dd9-714487f59fc9')},\n",
       "  {'name': 'Occupation, urban/industrial fallow (non-use)',\n",
       "   'categories': ('natural resource',),\n",
       "   'amount': 0.73,\n",
       "   'input': ('biosphere3', '70aa745b-8bc5-4433-b2f5-d1da652ba166')}]}"
      ]
     },
     "execution_count": 6,
     "metadata": {},
     "output_type": "execute_result"
    }
   ],
   "source": [
    "gw.data[0]"
   ]
  },
  {
   "cell_type": "code",
   "execution_count": null,
   "metadata": {},
   "outputs": [],
   "source": [
    "gw.write_excel(\"land_occupation\")"
   ]
  },
  {
   "cell_type": "code",
   "execution_count": 6,
   "metadata": {},
   "outputs": [
    {
     "name": "stdout",
     "output_type": "stream",
     "text": [
      "1 methods\n",
      "41 cfs\n",
      "0 unlinked cfs\n"
     ]
    },
    {
     "data": {
      "text/plain": [
       "(1, 41, 0)"
      ]
     },
     "execution_count": 6,
     "metadata": {},
     "output_type": "execute_result"
    }
   ],
   "source": [
    "gw.statistics()"
   ]
  },
  {
   "cell_type": "code",
   "execution_count": 7,
   "metadata": {},
   "outputs": [],
   "source": [
    "comp = gw.compare_to_previous()"
   ]
  },
  {
   "cell_type": "code",
   "execution_count": 8,
   "metadata": {},
   "outputs": [
    {
     "data": {
      "text/plain": [
       "[('found', 41), ('missing', 0), ('reference', 48)]"
      ]
     },
     "execution_count": 8,
     "metadata": {},
     "output_type": "execute_result"
    }
   ],
   "source": [
    "[(key, len(comp[key])) for key in comp]"
   ]
  },
  {
   "cell_type": "markdown",
   "metadata": {},
   "source": [
    "Present in previous ReCiPe, missing here"
   ]
  },
  {
   "cell_type": "code",
   "execution_count": 11,
   "metadata": {
    "collapsed": true
   },
   "outputs": [
    {
     "data": {
      "text/plain": [
       "{'occupation, annual crop',\n",
       " 'occupation, annual crop, flooded crop',\n",
       " 'occupation, annual crop, greenhouse',\n",
       " 'occupation, annual crop, irrigated',\n",
       " 'occupation, annual crop, irrigated, extensive',\n",
       " 'occupation, annual crop, irrigated, intensive',\n",
       " 'occupation, annual crop, non-irrigated',\n",
       " 'occupation, annual crop, non-irrigated, extensive',\n",
       " 'occupation, annual crop, non-irrigated, intensive',\n",
       " 'occupation, arable land, unspecified use',\n",
       " 'occupation, bare area (non-use)',\n",
       " 'occupation, cropland fallow (non-use)',\n",
       " 'occupation, dump site',\n",
       " 'occupation, field margin/hedgerow',\n",
       " 'occupation, forest, extensive',\n",
       " 'occupation, forest, intensive',\n",
       " 'occupation, forest, primary (non-use)',\n",
       " 'occupation, forest, secondary (non-use)',\n",
       " 'occupation, forest, unspecified',\n",
       " 'occupation, grassland, natural (non-use)',\n",
       " 'occupation, grassland, natural, for livestock grazing',\n",
       " 'occupation, heterogeneous, agricultural',\n",
       " 'occupation, inland waterbody, unspecified',\n",
       " 'occupation, lake, artificial',\n",
       " 'occupation, lake, natural (non-use)',\n",
       " 'occupation, mineral extraction site',\n",
       " 'occupation, pasture, man made',\n",
       " 'occupation, pasture, man made, extensive',\n",
       " 'occupation, pasture, man made, intensive',\n",
       " 'occupation, permanent crop',\n",
       " 'occupation, permanent crop, irrigated',\n",
       " 'occupation, permanent crop, irrigated, extensive',\n",
       " 'occupation, permanent crop, irrigated, intensive',\n",
       " 'occupation, permanent crop, non-irrigated',\n",
       " 'occupation, permanent crop, non-irrigated, extensive',\n",
       " 'occupation, permanent crop, non-irrigated, intensive',\n",
       " 'occupation, river, artificial',\n",
       " 'occupation, river, natural (non-use)',\n",
       " 'occupation, seabed, drilling and mining',\n",
       " 'occupation, seabed, infrastructure',\n",
       " 'occupation, seabed, natural (non-use)',\n",
       " 'occupation, seabed, unspecified',\n",
       " 'occupation, shrub land, sclerophyllous',\n",
       " 'occupation, snow and ice (non-use)',\n",
       " 'occupation, unspecified',\n",
       " 'occupation, unspecified, natural (non-use)',\n",
       " 'occupation, wetland, coastal (non-use)',\n",
       " 'occupation, wetland, inland (non-use)'}"
      ]
     },
     "execution_count": 11,
     "metadata": {},
     "output_type": "execute_result"
    }
   ],
   "source": [
    "comp['reference']"
   ]
  },
  {
   "cell_type": "code",
   "execution_count": 12,
   "metadata": {
    "collapsed": true
   },
   "outputs": [
    {
     "data": {
      "text/plain": [
       "{'occupation, annual crop',\n",
       " 'occupation, annual crop, greenhouse',\n",
       " 'occupation, annual crop, irrigated',\n",
       " 'occupation, annual crop, irrigated, intensive',\n",
       " 'occupation, annual crop, non-irrigated',\n",
       " 'occupation, annual crop, non-irrigated, extensive',\n",
       " 'occupation, annual crop, non-irrigated, intensive',\n",
       " 'occupation, construction site',\n",
       " 'occupation, dump site',\n",
       " 'occupation, forest, extensive',\n",
       " 'occupation, forest, intensive',\n",
       " 'occupation, grassland, natural (non-use)',\n",
       " 'occupation, industrial area',\n",
       " 'occupation, lake, artificial',\n",
       " 'occupation, mineral extraction site',\n",
       " 'occupation, pasture, man made',\n",
       " 'occupation, pasture, man made, extensive',\n",
       " 'occupation, pasture, man made, intensive',\n",
       " 'occupation, permanent crop',\n",
       " 'occupation, permanent crop, irrigated, intensive',\n",
       " 'occupation, permanent crop, non-irrigated, intensive',\n",
       " 'occupation, river, artificial',\n",
       " 'occupation, seabed, drilling and mining',\n",
       " 'occupation, seabed, infrastructure',\n",
       " 'occupation, shrub land, sclerophyllous',\n",
       " 'occupation, traffic area, rail network',\n",
       " 'occupation, traffic area, rail/road embankment',\n",
       " 'occupation, traffic area, road network',\n",
       " 'occupation, urban, discontinuously built',\n",
       " 'occupation, urban/industrial fallow (non-use)'}"
      ]
     },
     "execution_count": 12,
     "metadata": {},
     "output_type": "execute_result"
    }
   ],
   "source": [
    "comp['found']"
   ]
  },
  {
   "cell_type": "code",
   "execution_count": 9,
   "metadata": {},
   "outputs": [
    {
     "data": {
      "text/plain": [
       "['occupation, bare area (non-use)',\n",
       " 'occupation, cropland fallow (non-use)',\n",
       " 'occupation, forest, primary (non-use)',\n",
       " 'occupation, forest, secondary (non-use)',\n",
       " 'occupation, inland waterbody, unspecified',\n",
       " 'occupation, lake, natural (non-use)',\n",
       " 'occupation, river, natural (non-use)',\n",
       " 'occupation, seabed, natural (non-use)',\n",
       " 'occupation, seabed, unspecified',\n",
       " 'occupation, snow and ice (non-use)',\n",
       " 'occupation, unspecified',\n",
       " 'occupation, unspecified, natural (non-use)',\n",
       " 'occupation, wetland, coastal (non-use)',\n",
       " 'occupation, wetland, inland (non-use)']"
      ]
     },
     "execution_count": 9,
     "metadata": {},
     "output_type": "execute_result"
    }
   ],
   "source": [
    "sorted(comp['reference'].difference(comp['found']))"
   ]
  },
  {
   "cell_type": "code",
   "execution_count": 10,
   "metadata": {},
   "outputs": [
    {
     "name": "stdout",
     "output_type": "stream",
     "text": [
      "Wrote 1 LCIA methods with 41 characterization factors\n"
     ]
    }
   ],
   "source": [
    "gw.write_methods(overwrite=True)"
   ]
  },
  {
   "cell_type": "code",
   "execution_count": 11,
   "metadata": {},
   "outputs": [
    {
     "data": {
      "text/plain": [
       "('ReCiPe 2016', 'v1.1 (20180117)', 'Land occupation')"
      ]
     },
     "execution_count": 11,
     "metadata": {},
     "output_type": "execute_result"
    }
   ],
   "source": [
    "gw.data[0]['name']"
   ]
  },
  {
   "cell_type": "markdown",
   "metadata": {},
   "source": [
    "# Compare to previous ReCiPe method"
   ]
  },
  {
   "cell_type": "code",
   "execution_count": 13,
   "metadata": {},
   "outputs": [],
   "source": [
    "%matplotlib inline"
   ]
  },
  {
   "cell_type": "code",
   "execution_count": 14,
   "metadata": {},
   "outputs": [],
   "source": [
    "import bw2data, bw2calc\n",
    "import pyprind\n",
    "import seaborn as sb\n",
    "import numpy as np"
   ]
  },
  {
   "cell_type": "code",
   "execution_count": 15,
   "metadata": {},
   "outputs": [],
   "source": [
    "keys = sorted([x.key for x in bw2data.Database(\"ecoinvent 3.6 cutoff\")])"
   ]
  },
  {
   "cell_type": "code",
   "execution_count": 16,
   "metadata": {},
   "outputs": [],
   "source": [
    "results_reference, results_2016 = [], []"
   ]
  },
  {
   "cell_type": "code",
   "execution_count": 17,
   "metadata": {},
   "outputs": [],
   "source": [
    "lca = bw2calc.LCA({keys[0]: 1}, gw.previous_reference)\n",
    "lca.lci()\n",
    "lca.lcia()"
   ]
  },
  {
   "cell_type": "code",
   "execution_count": 18,
   "metadata": {},
   "outputs": [],
   "source": [
    "reference_cm = lca.characterization_matrix.copy()"
   ]
  },
  {
   "cell_type": "code",
   "execution_count": 19,
   "metadata": {},
   "outputs": [],
   "source": [
    "lca.switch_method(('ReCiPe 2016', 'v1.1 (20180117)', 'Land occupation'))"
   ]
  },
  {
   "cell_type": "code",
   "execution_count": 20,
   "metadata": {},
   "outputs": [
    {
     "data": {
      "text/plain": [
       "(20.45000022649765, 29.200000017881393)"
      ]
     },
     "execution_count": 20,
     "metadata": {},
     "output_type": "execute_result"
    }
   ],
   "source": [
    "lca.characterization_matrix.sum(), reference_cm.sum()"
   ]
  },
  {
   "cell_type": "code",
   "execution_count": 21,
   "metadata": {},
   "outputs": [],
   "source": [
    "new_cm = lca.characterization_matrix.copy()"
   ]
  },
  {
   "cell_type": "code",
   "execution_count": 22,
   "metadata": {},
   "outputs": [
    {
     "name": "stderr",
     "output_type": "stream",
     "text": [
      "0% [##############################] 100% | ETA: 00:00:00\n",
      "Total time elapsed: 00:05:12\n"
     ]
    }
   ],
   "source": [
    "for key in pyprind.prog_bar(keys):\n",
    "    lca.redo_lci({key: 1})\n",
    "    results_reference.append((reference_cm * lca.inventory).sum())\n",
    "    results_2016.append((new_cm * lca.inventory).sum())    "
   ]
  },
  {
   "cell_type": "code",
   "execution_count": 23,
   "metadata": {},
   "outputs": [
    {
     "name": "stderr",
     "output_type": "stream",
     "text": [
      "/Users/cmutel/miniconda3/envs/bw2dev/lib/python3.7/site-packages/ipykernel_launcher.py:1: RuntimeWarning: divide by zero encountered in log10\n",
      "  \"\"\"Entry point for launching an IPython kernel.\n"
     ]
    },
    {
     "data": {
      "text/plain": [
       "<matplotlib.axes._subplots.AxesSubplot at 0x12c07ca90>"
      ]
     },
     "execution_count": 23,
     "metadata": {},
     "output_type": "execute_result"
    },
    {
     "data": {
      "image/png": "[encoded data removed]",
      "text/plain": [
       "<Figure size 432x288 with 1 Axes>"
      ]
     },
     "metadata": {
      "needs_background": "light"
     },
     "output_type": "display_data"
    }
   ],
   "source": [
    "sb.scatterplot(np.log10(np.array(results_reference)), np.log10(np.array(results_2016)))"
   ]
  },
  {
   "cell_type": "code",
   "execution_count": 26,
   "metadata": {},
   "outputs": [],
   "source": [
    "def masked_ratio(a, b):\n",
    "    a, b = np.array(a), np.array(b)\n",
    "    mask = (a != 0) * (b != 0)\n",
    "    return a / b"
   ]
  },
  {
   "cell_type": "code",
   "execution_count": 23,
   "metadata": {},
   "outputs": [
    {
     "name": "stderr",
     "output_type": "stream",
     "text": [
      "/Users/cmutel/miniconda3/envs/bw2dev/lib/python3.7/site-packages/ipykernel_launcher.py:4: RuntimeWarning: divide by zero encountered in true_divide\n",
      "  after removing the cwd from sys.path.\n"
     ]
    },
    {
     "ename": "OverflowError",
     "evalue": "cannot convert float infinity to integer",
     "output_type": "error",
     "traceback": [
      "\u001b[0;31m---------------------------------------------------------------------------\u001b[0m",
      "\u001b[0;31mOverflowError\u001b[0m                             Traceback (most recent call last)",
      "\u001b[0;32m<ipython-input-23-2a222fdd991d>\u001b[0m in \u001b[0;36m<module>\u001b[0;34m\u001b[0m\n\u001b[0;32m----> 1\u001b[0;31m \u001b[0msb\u001b[0m\u001b[0;34m.\u001b[0m\u001b[0mdistplot\u001b[0m\u001b[0;34m(\u001b[0m\u001b[0mmasked_ratio\u001b[0m\u001b[0;34m(\u001b[0m\u001b[0mresults_2016\u001b[0m\u001b[0;34m,\u001b[0m \u001b[0mresults_reference\u001b[0m\u001b[0;34m)\u001b[0m\u001b[0;34m)\u001b[0m\u001b[0;34m\u001b[0m\u001b[0;34m\u001b[0m\u001b[0m\n\u001b[0m",
      "\u001b[0;32m~/miniconda3/envs/bw2dev/lib/python3.7/site-packages/seaborn/distributions.py\u001b[0m in \u001b[0;36mdistplot\u001b[0;34m(a, bins, hist, kde, rug, fit, hist_kws, kde_kws, rug_kws, fit_kws, color, vertical, norm_hist, axlabel, label, ax)\u001b[0m\n\u001b[1;32m    213\u001b[0m     \u001b[0;32mif\u001b[0m \u001b[0mhist\u001b[0m\u001b[0;34m:\u001b[0m\u001b[0;34m\u001b[0m\u001b[0;34m\u001b[0m\u001b[0m\n\u001b[1;32m    214\u001b[0m         \u001b[0;32mif\u001b[0m \u001b[0mbins\u001b[0m \u001b[0;32mis\u001b[0m \u001b[0;32mNone\u001b[0m\u001b[0;34m:\u001b[0m\u001b[0;34m\u001b[0m\u001b[0;34m\u001b[0m\u001b[0m\n\u001b[0;32m--> 215\u001b[0;31m             \u001b[0mbins\u001b[0m \u001b[0;34m=\u001b[0m \u001b[0mmin\u001b[0m\u001b[0;34m(\u001b[0m\u001b[0m_freedman_diaconis_bins\u001b[0m\u001b[0;34m(\u001b[0m\u001b[0ma\u001b[0m\u001b[0;34m)\u001b[0m\u001b[0;34m,\u001b[0m \u001b[0;36m50\u001b[0m\u001b[0;34m)\u001b[0m\u001b[0;34m\u001b[0m\u001b[0;34m\u001b[0m\u001b[0m\n\u001b[0m\u001b[1;32m    216\u001b[0m         \u001b[0mhist_kws\u001b[0m\u001b[0;34m.\u001b[0m\u001b[0msetdefault\u001b[0m\u001b[0;34m(\u001b[0m\u001b[0;34m\"alpha\"\u001b[0m\u001b[0;34m,\u001b[0m \u001b[0;36m0.4\u001b[0m\u001b[0;34m)\u001b[0m\u001b[0;34m\u001b[0m\u001b[0;34m\u001b[0m\u001b[0m\n\u001b[1;32m    217\u001b[0m         \u001b[0mhist_kws\u001b[0m\u001b[0;34m.\u001b[0m\u001b[0msetdefault\u001b[0m\u001b[0;34m(\u001b[0m\u001b[0;34m\"density\"\u001b[0m\u001b[0;34m,\u001b[0m \u001b[0mnorm_hist\u001b[0m\u001b[0;34m)\u001b[0m\u001b[0;34m\u001b[0m\u001b[0;34m\u001b[0m\u001b[0m\n",
      "\u001b[0;32m~/miniconda3/envs/bw2dev/lib/python3.7/site-packages/seaborn/distributions.py\u001b[0m in \u001b[0;36m_freedman_diaconis_bins\u001b[0;34m(a)\u001b[0m\n\u001b[1;32m     33\u001b[0m         \u001b[0;32mreturn\u001b[0m \u001b[0mint\u001b[0m\u001b[0;34m(\u001b[0m\u001b[0mnp\u001b[0m\u001b[0;34m.\u001b[0m\u001b[0msqrt\u001b[0m\u001b[0;34m(\u001b[0m\u001b[0ma\u001b[0m\u001b[0;34m.\u001b[0m\u001b[0msize\u001b[0m\u001b[0;34m)\u001b[0m\u001b[0;34m)\u001b[0m\u001b[0;34m\u001b[0m\u001b[0;34m\u001b[0m\u001b[0m\n\u001b[1;32m     34\u001b[0m     \u001b[0;32melse\u001b[0m\u001b[0;34m:\u001b[0m\u001b[0;34m\u001b[0m\u001b[0;34m\u001b[0m\u001b[0m\n\u001b[0;32m---> 35\u001b[0;31m         \u001b[0;32mreturn\u001b[0m \u001b[0mint\u001b[0m\u001b[0;34m(\u001b[0m\u001b[0mnp\u001b[0m\u001b[0;34m.\u001b[0m\u001b[0mceil\u001b[0m\u001b[0;34m(\u001b[0m\u001b[0;34m(\u001b[0m\u001b[0ma\u001b[0m\u001b[0;34m.\u001b[0m\u001b[0mmax\u001b[0m\u001b[0;34m(\u001b[0m\u001b[0;34m)\u001b[0m \u001b[0;34m-\u001b[0m \u001b[0ma\u001b[0m\u001b[0;34m.\u001b[0m\u001b[0mmin\u001b[0m\u001b[0;34m(\u001b[0m\u001b[0;34m)\u001b[0m\u001b[0;34m)\u001b[0m \u001b[0;34m/\u001b[0m \u001b[0mh\u001b[0m\u001b[0;34m)\u001b[0m\u001b[0;34m)\u001b[0m\u001b[0;34m\u001b[0m\u001b[0;34m\u001b[0m\u001b[0m\n\u001b[0m\u001b[1;32m     36\u001b[0m \u001b[0;34m\u001b[0m\u001b[0m\n\u001b[1;32m     37\u001b[0m \u001b[0;34m\u001b[0m\u001b[0m\n",
      "\u001b[0;31mOverflowError\u001b[0m: cannot convert float infinity to integer"
     ]
    },
    {
     "data": {
      "image/png": "[encoded data removed]",
      "text/plain": [
       "<Figure size 432x288 with 1 Axes>"
      ]
     },
     "metadata": {
      "needs_background": "light"
     },
     "output_type": "display_data"
    }
   ],
   "source": [
    "sb.distplot(masked_ratio(results_2016, results_reference))"
   ]
  },
  {
   "cell_type": "code",
   "execution_count": 24,
   "metadata": {},
   "outputs": [],
   "source": [
    "def abnormal_ratio(a, b):\n",
    "    if not a or not b:\n",
    "        return\n",
    "    ratio = abs(a / b)\n",
    "    if 0.8 < ratio < 1.25:\n",
    "        return\n",
    "    return ratio"
   ]
  },
  {
   "cell_type": "code",
   "execution_count": null,
   "metadata": {},
   "outputs": [],
   "source": [
    "exceptions = sorted([\n",
    "    (abnormal_ratio(results_2016[i], results_reference[i]), bw2data.get_activity(key)) \n",
    "    for i, key in enumerate(keys) \n",
    "    if abnormal_ratio(results_2016[i], results_reference[i])\n",
    "], reverse=True)"
   ]
  },
  {
   "cell_type": "code",
   "execution_count": null,
   "metadata": {},
   "outputs": [],
   "source": [
    "len(exceptions)"
   ]
  },
  {
   "cell_type": "code",
   "execution_count": null,
   "metadata": {
    "scrolled": false
   },
   "outputs": [],
   "source": [
    "exceptions[:10]"
   ]
  },
  {
   "cell_type": "code",
   "execution_count": null,
   "metadata": {},
   "outputs": [],
   "source": [
    "lca.redo_lci({exceptions[0][1]: 1})\n",
    "lca.characterized_inventory = new_cm * lca.inventory"
   ]
  }
 ],
 "metadata": {
  "kernelspec": {
   "display_name": "Python 3",
   "language": "python",
   "name": "python3"
  },
  "language_info": {
   "codemirror_mode": {
    "name": "ipython",
    "version": 3
   },
   "file_extension": ".py",
   "mimetype": "text/x-python",
   "name": "python",
   "nbconvert_exporter": "python",
   "pygments_lexer": "ipython3",
   "version": "3.7.6"
  }
 },
 "nbformat": 4,
 "nbformat_minor": 4
}
