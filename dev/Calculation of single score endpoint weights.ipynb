{
 "cells": [
  {
   "cell_type": "markdown",
   "metadata": {},
   "source": [
    "To combine all endpoints into a single score, we need to do two things:\n",
    "\n",
    "1. Normalize scores so that the three endpoints are in the same relative range. Otherwise, if one category has significanlty higher numbers (and the units are *completely* different!) will always dominate, regardless of the weights chosen.\n",
    "2. Weight the three endpoints: Ecosystems, human health, and resources.\n",
    "\n",
    "In general, after reading the above you should be thinking to yourself that this all feels a bit sketchy - it is. It is quite difficult to meaningfully combine e.g. DALYs and species extinction. But sometimes you want that vintage feeling in your LCA studies..."
   ]
  },
  {
   "cell_type": "code",
   "execution_count": 1,
   "metadata": {},
   "outputs": [],
   "source": [
    "%matplotlib inline"
   ]
  },
  {
   "cell_type": "code",
   "execution_count": 2,
   "metadata": {},
   "outputs": [],
   "source": [
    "import bw2data, bw2calc\n",
    "import numpy as np\n",
    "import seaborn as sb\n",
    "import pyprind\n",
    "from matplotlib import pyplot as plt\n",
    "\n",
    "db = bw2data.Database(\"ecoinvent 3.6 cutoff\")\n",
    "methods = [\n",
    "    ('ReCiPe 2016', 'v1.1 (20180117)', 'Endpoint', 'Human health', 'Aggregated', 'Hierarchist'),\n",
    "    ('ReCiPe 2016', 'v1.1 (20180117)', 'Endpoint', 'Resources', 'Aggregated', 'Hierarchist'),\n",
    "    ('ReCiPe 2016', 'v1.1 (20180117)', 'Endpoint', 'Ecosystems', 'Aggregated', 'Hierarchist')\n",
    "]"
   ]
  },
  {
   "cell_type": "code",
   "execution_count": 3,
   "metadata": {},
   "outputs": [],
   "source": [
    "lca = bw2calc.LCA({db.random(): 1}, methods[0])\n",
    "lca.lci()\n",
    "lca.lcia()"
   ]
  },
  {
   "cell_type": "code",
   "execution_count": 4,
   "metadata": {},
   "outputs": [
    {
     "data": {
      "text/plain": [
       "[2101.531282617175, 7295.913837048749, 0.001284508112345826]"
      ]
     },
     "execution_count": 4,
     "metadata": {},
     "output_type": "execute_result"
    }
   ],
   "source": [
    "matrices = []\n",
    "\n",
    "for m in methods:\n",
    "    lca.switch_method(m)\n",
    "    matrices.append(lca.characterization_matrix.copy())\n",
    "   \n",
    "# Make sure they are actually different\n",
    "[x.sum() for x in matrices]"
   ]
  },
  {
   "cell_type": "code",
   "execution_count": 5,
   "metadata": {},
   "outputs": [],
   "source": [
    "results = np.zeros((len(db), len(methods)))"
   ]
  },
  {
   "cell_type": "code",
   "execution_count": 6,
   "metadata": {},
   "outputs": [
    {
     "name": "stderr",
     "output_type": "stream",
     "text": [
      "0% [##############################] 100% | ETA: 00:00:00\n",
      "Total time elapsed: 00:07:05\n"
     ]
    }
   ],
   "source": [
    "for i, act in enumerate(pyprind.prog_bar(db)):\n",
    "    lca.redo_lci({act: 1})\n",
    "    for j, m in enumerate(matrices):\n",
    "        results[i, j] = (m * lca.inventory).sum()"
   ]
  },
  {
   "cell_type": "code",
   "execution_count": 7,
   "metadata": {},
   "outputs": [],
   "source": [
    "np.save(\"comparative-results.npy\", results)"
   ]
  },
  {
   "cell_type": "code",
   "execution_count": 9,
   "metadata": {},
   "outputs": [
    {
     "data": {
      "text/plain": [
       "<matplotlib.axes._subplots.AxesSubplot at 0x14c2d0410>"
      ]
     },
     "execution_count": 9,
     "metadata": {},
     "output_type": "execute_result"
    },
    {
     "data": {
      "image/png": "[encoded data removed]",
      "text/plain": [
       "<Figure size 432x288 with 1 Axes>"
      ]
     },
     "metadata": {
      "needs_background": "light"
     },
     "output_type": "display_data"
    }
   ],
   "source": [
    "sb.distplot(results[:, 0])"
   ]
  },
  {
   "cell_type": "markdown",
   "metadata": {},
   "source": [
    "Provided value is 3.08E10 for extinction of one species, but we have regionalized extinction per region in one year. I divided by 1000 to convert to species\\*year, though admittedly this is arbitrary."
   ]
  },
  {
   "cell_type": "code",
   "execution_count": 21,
   "metadata": {},
   "outputs": [],
   "source": [
    "aggregated = results[:, 0] * 7.4E4 + results[:, 1] + results[:, 2] * 3.08E7"
   ]
  },
  {
   "cell_type": "markdown",
   "metadata": {},
   "source": [
    "# Human health"
   ]
  },
  {
   "cell_type": "code",
   "execution_count": 38,
   "metadata": {},
   "outputs": [],
   "source": [
    "weighted_relative_scores = (results[:, 0] * 7.4E4) / aggregated"
   ]
  },
  {
   "cell_type": "code",
   "execution_count": 39,
   "metadata": {},
   "outputs": [
    {
     "name": "stdout",
     "output_type": "stream",
     "text": [
      "50 29\n"
     ]
    },
    {
     "data": {
      "text/plain": [
       "(0.0, 1.0)"
      ]
     },
     "execution_count": 39,
     "metadata": {},
     "output_type": "execute_result"
    },
    {
     "data": {
      "image/png": "[encoded data removed]",
      "text/plain": [
       "<Figure size 432x288 with 1 Axes>"
      ]
     },
     "metadata": {
      "needs_background": "light"
     },
     "output_type": "display_data"
    }
   ],
   "source": [
    "print((weighted_relative_scores < 0).sum(), (weighted_relative_scores > 1).sum())\n",
    "\n",
    "sb.distplot(weighted_relative_scores, bins=np.linspace(0, 1, 50))\n",
    "plt.xlim([0, 1])"
   ]
  },
  {
   "cell_type": "markdown",
   "metadata": {},
   "source": [
    "# Resources"
   ]
  },
  {
   "cell_type": "code",
   "execution_count": 40,
   "metadata": {},
   "outputs": [],
   "source": [
    "weighted_relative_scores = (results[:, 1]) / aggregated"
   ]
  },
  {
   "cell_type": "code",
   "execution_count": 41,
   "metadata": {},
   "outputs": [
    {
     "name": "stdout",
     "output_type": "stream",
     "text": [
      "103 1\n"
     ]
    },
    {
     "data": {
      "text/plain": [
       "(0.0, 1.0)"
      ]
     },
     "execution_count": 41,
     "metadata": {},
     "output_type": "execute_result"
    },
    {
     "data": {
      "image/png": "[encoded data removed]",
      "text/plain": [
       "<Figure size 432x288 with 1 Axes>"
      ]
     },
     "metadata": {
      "needs_background": "light"
     },
     "output_type": "display_data"
    }
   ],
   "source": [
    "print((weighted_relative_scores < 0).sum(), (weighted_relative_scores > 1).sum())\n",
    "\n",
    "sb.distplot(weighted_relative_scores, bins=np.linspace(0, 1, 50))\n",
    "plt.xlim([0, 1])"
   ]
  },
  {
   "cell_type": "markdown",
   "metadata": {},
   "source": [
    "# Ecosystems"
   ]
  },
  {
   "cell_type": "code",
   "execution_count": 42,
   "metadata": {},
   "outputs": [],
   "source": [
    "weighted_relative_scores = (results[:, 2] * 3.08E7) / aggregated"
   ]
  },
  {
   "cell_type": "code",
   "execution_count": 43,
   "metadata": {},
   "outputs": [
    {
     "name": "stdout",
     "output_type": "stream",
     "text": [
      "29 58\n"
     ]
    },
    {
     "data": {
      "text/plain": [
       "(0.0, 1.0)"
      ]
     },
     "execution_count": 43,
     "metadata": {},
     "output_type": "execute_result"
    },
    {
     "data": {
      "image/png": "[encoded data removed]",
      "text/plain": [
       "<Figure size 432x288 with 1 Axes>"
      ]
     },
     "metadata": {
      "needs_background": "light"
     },
     "output_type": "display_data"
    }
   ],
   "source": [
    "print((weighted_relative_scores < 0).sum(), (weighted_relative_scores > 1).sum())\n",
    "\n",
    "sb.distplot(weighted_relative_scores, bins=np.linspace(0, 1, 50))\n",
    "plt.xlim([0, 1])"
   ]
  },
  {
   "cell_type": "markdown",
   "metadata": {},
   "source": [
    "# Check implementation in a single score"
   ]
  },
  {
   "cell_type": "code",
   "execution_count": 4,
   "metadata": {},
   "outputs": [
    {
     "data": {
      "text/plain": [
       "3.6542864298022714e-08"
      ]
     },
     "execution_count": 4,
     "metadata": {},
     "output_type": "execute_result"
    }
   ],
   "source": [
    "lca.score"
   ]
  },
  {
   "cell_type": "code",
   "execution_count": 5,
   "metadata": {},
   "outputs": [
    {
     "name": "stdout",
     "output_type": "stream",
     "text": [
      "0.00963518531723127 0.009635185445195385\n"
     ]
    }
   ],
   "source": [
    "manual = 0\n",
    "\n",
    "inputs = [\n",
    "    ('ReCiPe 2016', 'v1.1 (20180117)', 'Endpoint', 'Human health', 'Aggregated', 'Hierarchist'),\n",
    "    ('ReCiPe 2016', 'v1.1 (20180117)', 'Endpoint', 'Resources', 'Aggregated', 'Hierarchist'),\n",
    "    ('ReCiPe 2016', 'v1.1 (20180117)', 'Endpoint', 'Ecosystems', 'Aggregated', 'Hierarchist')\n",
    "]\n",
    "weights = [7.4E4, 1, 3.08E7]\n",
    "\n",
    "for x, y in zip(inputs, weights):\n",
    "    lca.switch_method(x)\n",
    "    lca.redo_lcia()\n",
    "    manual += lca.score * y\n",
    "\n",
    "lca.switch_method(('ReCiPe 2016', 'v1.1 (20180117)', 'Endpoint', 'Weighted single score', 'Aggregated', 'Hierarchist'))\n",
    "lca.redo_lcia()\n",
    "print(lca.score, manual)"
   ]
  }
 ],
 "metadata": {
  "kernelspec": {
   "display_name": "Python 3",
   "language": "python",
   "name": "python3"
  },
  "language_info": {
   "codemirror_mode": {
    "name": "ipython",
    "version": 3
   },
   "file_extension": ".py",
   "mimetype": "text/x-python",
   "name": "python",
   "nbconvert_exporter": "python",
   "pygments_lexer": "ipython3",
   "version": "3.7.6"
  }
 },
 "nbformat": 4,
 "nbformat_minor": 4
}
